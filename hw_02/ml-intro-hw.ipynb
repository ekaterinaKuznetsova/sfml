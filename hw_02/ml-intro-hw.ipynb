{
 "cells": [
  {
   "cell_type": "markdown",
   "metadata": {},
   "source": [
    "# SkillFactory\n",
    "## Введение в ML, введение в sklearn"
   ]
  },
  {
   "cell_type": "markdown",
   "metadata": {},
   "source": [
    "В этом задании мы с вами рассмотрим данные с конкурса [Задача предсказания отклика клиентов ОТП Банка](http://www.machinelearning.ru/wiki/index.php?title=%D0%97%D0%B0%D0%B4%D0%B0%D1%87%D0%B0_%D0%BF%D1%80%D0%B5%D0%B4%D1%81%D0%BA%D0%B0%D0%B7%D0%B0%D0%BD%D0%B8%D1%8F_%D0%BE%D1%82%D0%BA%D0%BB%D0%B8%D0%BA%D0%B0_%D0%BA%D0%BB%D0%B8%D0%B5%D0%BD%D1%82%D0%BE%D0%B2_%D0%9E%D0%A2%D0%9F_%D0%91%D0%B0%D0%BD%D0%BA%D0%B0_%28%D0%BA%D0%BE%D0%BD%D0%BA%D1%83%D1%80%D1%81%29)"
   ]
  },
  {
   "cell_type": "code",
   "execution_count": 2,
   "metadata": {},
   "outputs": [],
   "source": [
    "import pandas as pd\n",
    "import numpy as np\n",
    "import matplotlib.pyplot as plt\n",
    "\n",
    "%matplotlib inline\n",
    "\n",
    "plt.style.use('ggplot')\n",
    "plt.rcParams['figure.figsize'] = (12,5)"
   ]
  },
  {
   "cell_type": "code",
   "execution_count": 3,
   "metadata": {},
   "outputs": [
    {
     "data": {
      "text/html": [
       "<style>.container { width:50% !important; }</style>"
      ],
      "text/plain": [
       "<IPython.core.display.HTML object>"
      ]
     },
     "metadata": {},
     "output_type": "display_data"
    }
   ],
   "source": [
    "from IPython.core.display import display, HTML\n",
    "display(HTML(\"<style>.container { width:50% !important; }</style>\"))"
   ]
  },
  {
   "cell_type": "markdown",
   "metadata": {},
   "source": [
    "### Грузим данные"
   ]
  },
  {
   "cell_type": "markdown",
   "metadata": {},
   "source": [
    "Считаем описание данных"
   ]
  },
  {
   "cell_type": "code",
   "execution_count": 4,
   "metadata": {},
   "outputs": [],
   "source": [
    "\n",
    "df_descr = pd.read_csv('data/otp_description.csv', sep='\\t', encoding='utf8')"
   ]
  },
  {
   "cell_type": "code",
   "execution_count": 5,
   "metadata": {},
   "outputs": [
    {
     "data": {
      "text/html": [
       "<style  type=\"text/css\" >\n",
       "    #T_368d90e8_7a3d_11e8_a306_001583e88a53row0_col1 {\n",
       "            width:  500px;\n",
       "        }    #T_368d90e8_7a3d_11e8_a306_001583e88a53row1_col1 {\n",
       "            width:  500px;\n",
       "        }    #T_368d90e8_7a3d_11e8_a306_001583e88a53row2_col1 {\n",
       "            width:  500px;\n",
       "        }    #T_368d90e8_7a3d_11e8_a306_001583e88a53row3_col1 {\n",
       "            width:  500px;\n",
       "        }    #T_368d90e8_7a3d_11e8_a306_001583e88a53row4_col1 {\n",
       "            width:  500px;\n",
       "        }    #T_368d90e8_7a3d_11e8_a306_001583e88a53row5_col1 {\n",
       "            width:  500px;\n",
       "        }    #T_368d90e8_7a3d_11e8_a306_001583e88a53row6_col1 {\n",
       "            width:  500px;\n",
       "        }    #T_368d90e8_7a3d_11e8_a306_001583e88a53row7_col1 {\n",
       "            width:  500px;\n",
       "        }    #T_368d90e8_7a3d_11e8_a306_001583e88a53row8_col1 {\n",
       "            width:  500px;\n",
       "        }    #T_368d90e8_7a3d_11e8_a306_001583e88a53row9_col1 {\n",
       "            width:  500px;\n",
       "        }    #T_368d90e8_7a3d_11e8_a306_001583e88a53row10_col1 {\n",
       "            width:  500px;\n",
       "        }    #T_368d90e8_7a3d_11e8_a306_001583e88a53row11_col1 {\n",
       "            width:  500px;\n",
       "        }    #T_368d90e8_7a3d_11e8_a306_001583e88a53row12_col1 {\n",
       "            width:  500px;\n",
       "        }    #T_368d90e8_7a3d_11e8_a306_001583e88a53row13_col1 {\n",
       "            width:  500px;\n",
       "        }    #T_368d90e8_7a3d_11e8_a306_001583e88a53row14_col1 {\n",
       "            width:  500px;\n",
       "        }    #T_368d90e8_7a3d_11e8_a306_001583e88a53row15_col1 {\n",
       "            width:  500px;\n",
       "        }    #T_368d90e8_7a3d_11e8_a306_001583e88a53row16_col1 {\n",
       "            width:  500px;\n",
       "        }    #T_368d90e8_7a3d_11e8_a306_001583e88a53row17_col1 {\n",
       "            width:  500px;\n",
       "        }    #T_368d90e8_7a3d_11e8_a306_001583e88a53row18_col1 {\n",
       "            width:  500px;\n",
       "        }    #T_368d90e8_7a3d_11e8_a306_001583e88a53row19_col1 {\n",
       "            width:  500px;\n",
       "        }    #T_368d90e8_7a3d_11e8_a306_001583e88a53row20_col1 {\n",
       "            width:  500px;\n",
       "        }    #T_368d90e8_7a3d_11e8_a306_001583e88a53row21_col1 {\n",
       "            width:  500px;\n",
       "        }    #T_368d90e8_7a3d_11e8_a306_001583e88a53row22_col1 {\n",
       "            width:  500px;\n",
       "        }    #T_368d90e8_7a3d_11e8_a306_001583e88a53row23_col1 {\n",
       "            width:  500px;\n",
       "        }    #T_368d90e8_7a3d_11e8_a306_001583e88a53row24_col1 {\n",
       "            width:  500px;\n",
       "        }    #T_368d90e8_7a3d_11e8_a306_001583e88a53row25_col1 {\n",
       "            width:  500px;\n",
       "        }    #T_368d90e8_7a3d_11e8_a306_001583e88a53row26_col1 {\n",
       "            width:  500px;\n",
       "        }    #T_368d90e8_7a3d_11e8_a306_001583e88a53row27_col1 {\n",
       "            width:  500px;\n",
       "        }    #T_368d90e8_7a3d_11e8_a306_001583e88a53row28_col1 {\n",
       "            width:  500px;\n",
       "        }    #T_368d90e8_7a3d_11e8_a306_001583e88a53row29_col1 {\n",
       "            width:  500px;\n",
       "        }    #T_368d90e8_7a3d_11e8_a306_001583e88a53row30_col1 {\n",
       "            width:  500px;\n",
       "        }    #T_368d90e8_7a3d_11e8_a306_001583e88a53row31_col1 {\n",
       "            width:  500px;\n",
       "        }    #T_368d90e8_7a3d_11e8_a306_001583e88a53row32_col1 {\n",
       "            width:  500px;\n",
       "        }    #T_368d90e8_7a3d_11e8_a306_001583e88a53row33_col1 {\n",
       "            width:  500px;\n",
       "        }    #T_368d90e8_7a3d_11e8_a306_001583e88a53row34_col1 {\n",
       "            width:  500px;\n",
       "        }    #T_368d90e8_7a3d_11e8_a306_001583e88a53row35_col1 {\n",
       "            width:  500px;\n",
       "        }    #T_368d90e8_7a3d_11e8_a306_001583e88a53row36_col1 {\n",
       "            width:  500px;\n",
       "        }    #T_368d90e8_7a3d_11e8_a306_001583e88a53row37_col1 {\n",
       "            width:  500px;\n",
       "        }    #T_368d90e8_7a3d_11e8_a306_001583e88a53row38_col1 {\n",
       "            width:  500px;\n",
       "        }    #T_368d90e8_7a3d_11e8_a306_001583e88a53row39_col1 {\n",
       "            width:  500px;\n",
       "        }    #T_368d90e8_7a3d_11e8_a306_001583e88a53row40_col1 {\n",
       "            width:  500px;\n",
       "        }    #T_368d90e8_7a3d_11e8_a306_001583e88a53row41_col1 {\n",
       "            width:  500px;\n",
       "        }    #T_368d90e8_7a3d_11e8_a306_001583e88a53row42_col1 {\n",
       "            width:  500px;\n",
       "        }    #T_368d90e8_7a3d_11e8_a306_001583e88a53row43_col1 {\n",
       "            width:  500px;\n",
       "        }    #T_368d90e8_7a3d_11e8_a306_001583e88a53row44_col1 {\n",
       "            width:  500px;\n",
       "        }    #T_368d90e8_7a3d_11e8_a306_001583e88a53row45_col1 {\n",
       "            width:  500px;\n",
       "        }    #T_368d90e8_7a3d_11e8_a306_001583e88a53row46_col1 {\n",
       "            width:  500px;\n",
       "        }    #T_368d90e8_7a3d_11e8_a306_001583e88a53row47_col1 {\n",
       "            width:  500px;\n",
       "        }    #T_368d90e8_7a3d_11e8_a306_001583e88a53row48_col1 {\n",
       "            width:  500px;\n",
       "        }    #T_368d90e8_7a3d_11e8_a306_001583e88a53row49_col1 {\n",
       "            width:  500px;\n",
       "        }    #T_368d90e8_7a3d_11e8_a306_001583e88a53row50_col1 {\n",
       "            width:  500px;\n",
       "        }</style>  \n",
       "<table id=\"T_368d90e8_7a3d_11e8_a306_001583e88a53\" > \n",
       "<thead>    <tr> \n",
       "        <th class=\"blank level0\" ></th> \n",
       "        <th class=\"col_heading level0 col0\" >ПОЛЕ</th> \n",
       "        <th class=\"col_heading level0 col1\" >ОПИСАНИЕ</th> \n",
       "    </tr></thead> \n",
       "<tbody>    <tr> \n",
       "        <th id=\"T_368d90e8_7a3d_11e8_a306_001583e88a53level0_row0\" class=\"row_heading level0 row0\" >0</th> \n",
       "        <td id=\"T_368d90e8_7a3d_11e8_a306_001583e88a53row0_col0\" class=\"data row0 col0\" >AGREEMENT_RK</td> \n",
       "        <td id=\"T_368d90e8_7a3d_11e8_a306_001583e88a53row0_col1\" class=\"data row0 col1\" >уникальный идентификатор объекта в выборке</td> \n",
       "    </tr>    <tr> \n",
       "        <th id=\"T_368d90e8_7a3d_11e8_a306_001583e88a53level0_row1\" class=\"row_heading level0 row1\" >1</th> \n",
       "        <td id=\"T_368d90e8_7a3d_11e8_a306_001583e88a53row1_col0\" class=\"data row1 col0\" >AGE</td> \n",
       "        <td id=\"T_368d90e8_7a3d_11e8_a306_001583e88a53row1_col1\" class=\"data row1 col1\" >возраст клиента</td> \n",
       "    </tr>    <tr> \n",
       "        <th id=\"T_368d90e8_7a3d_11e8_a306_001583e88a53level0_row2\" class=\"row_heading level0 row2\" >2</th> \n",
       "        <td id=\"T_368d90e8_7a3d_11e8_a306_001583e88a53row2_col0\" class=\"data row2 col0\" >SOCSTATUS_WORK_FL</td> \n",
       "        <td id=\"T_368d90e8_7a3d_11e8_a306_001583e88a53row2_col1\" class=\"data row2 col1\" >социальный статус клиента относительно работы (1 - работает, 0 - не работает)</td> \n",
       "    </tr>    <tr> \n",
       "        <th id=\"T_368d90e8_7a3d_11e8_a306_001583e88a53level0_row3\" class=\"row_heading level0 row3\" >3</th> \n",
       "        <td id=\"T_368d90e8_7a3d_11e8_a306_001583e88a53row3_col0\" class=\"data row3 col0\" >SOCSTATUS_PENS_FL</td> \n",
       "        <td id=\"T_368d90e8_7a3d_11e8_a306_001583e88a53row3_col1\" class=\"data row3 col1\" >социальный статус клиента относительно пенсии (1 - пенсионер, 0 - не пенсионер)</td> \n",
       "    </tr>    <tr> \n",
       "        <th id=\"T_368d90e8_7a3d_11e8_a306_001583e88a53level0_row4\" class=\"row_heading level0 row4\" >4</th> \n",
       "        <td id=\"T_368d90e8_7a3d_11e8_a306_001583e88a53row4_col0\" class=\"data row4 col0\" >GENDER</td> \n",
       "        <td id=\"T_368d90e8_7a3d_11e8_a306_001583e88a53row4_col1\" class=\"data row4 col1\" >пол клиента (1- женщины, 0-мужчины)</td> \n",
       "    </tr>    <tr> \n",
       "        <th id=\"T_368d90e8_7a3d_11e8_a306_001583e88a53level0_row5\" class=\"row_heading level0 row5\" >5</th> \n",
       "        <td id=\"T_368d90e8_7a3d_11e8_a306_001583e88a53row5_col0\" class=\"data row5 col0\" >CHILD_TOTAL</td> \n",
       "        <td id=\"T_368d90e8_7a3d_11e8_a306_001583e88a53row5_col1\" class=\"data row5 col1\" >количество детей клиента</td> \n",
       "    </tr>    <tr> \n",
       "        <th id=\"T_368d90e8_7a3d_11e8_a306_001583e88a53level0_row6\" class=\"row_heading level0 row6\" >6</th> \n",
       "        <td id=\"T_368d90e8_7a3d_11e8_a306_001583e88a53row6_col0\" class=\"data row6 col0\" >DEPENDANTS</td> \n",
       "        <td id=\"T_368d90e8_7a3d_11e8_a306_001583e88a53row6_col1\" class=\"data row6 col1\" >количество иждивенцев клиента</td> \n",
       "    </tr>    <tr> \n",
       "        <th id=\"T_368d90e8_7a3d_11e8_a306_001583e88a53level0_row7\" class=\"row_heading level0 row7\" >7</th> \n",
       "        <td id=\"T_368d90e8_7a3d_11e8_a306_001583e88a53row7_col0\" class=\"data row7 col0\" >EDUCATION</td> \n",
       "        <td id=\"T_368d90e8_7a3d_11e8_a306_001583e88a53row7_col1\" class=\"data row7 col1\" >образование</td> \n",
       "    </tr>    <tr> \n",
       "        <th id=\"T_368d90e8_7a3d_11e8_a306_001583e88a53level0_row8\" class=\"row_heading level0 row8\" >8</th> \n",
       "        <td id=\"T_368d90e8_7a3d_11e8_a306_001583e88a53row8_col0\" class=\"data row8 col0\" >MARITAL_STATUS</td> \n",
       "        <td id=\"T_368d90e8_7a3d_11e8_a306_001583e88a53row8_col1\" class=\"data row8 col1\" >семейное положение</td> \n",
       "    </tr>    <tr> \n",
       "        <th id=\"T_368d90e8_7a3d_11e8_a306_001583e88a53level0_row9\" class=\"row_heading level0 row9\" >9</th> \n",
       "        <td id=\"T_368d90e8_7a3d_11e8_a306_001583e88a53row9_col0\" class=\"data row9 col0\" >GEN_INDUSTRY</td> \n",
       "        <td id=\"T_368d90e8_7a3d_11e8_a306_001583e88a53row9_col1\" class=\"data row9 col1\" >отрасль работы клиента</td> \n",
       "    </tr>    <tr> \n",
       "        <th id=\"T_368d90e8_7a3d_11e8_a306_001583e88a53level0_row10\" class=\"row_heading level0 row10\" >10</th> \n",
       "        <td id=\"T_368d90e8_7a3d_11e8_a306_001583e88a53row10_col0\" class=\"data row10 col0\" >GEN_TITLE</td> \n",
       "        <td id=\"T_368d90e8_7a3d_11e8_a306_001583e88a53row10_col1\" class=\"data row10 col1\" >должность</td> \n",
       "    </tr>    <tr> \n",
       "        <th id=\"T_368d90e8_7a3d_11e8_a306_001583e88a53level0_row11\" class=\"row_heading level0 row11\" >11</th> \n",
       "        <td id=\"T_368d90e8_7a3d_11e8_a306_001583e88a53row11_col0\" class=\"data row11 col0\" >ORG_TP_STATE</td> \n",
       "        <td id=\"T_368d90e8_7a3d_11e8_a306_001583e88a53row11_col1\" class=\"data row11 col1\" >форма собственности компании</td> \n",
       "    </tr>    <tr> \n",
       "        <th id=\"T_368d90e8_7a3d_11e8_a306_001583e88a53level0_row12\" class=\"row_heading level0 row12\" >12</th> \n",
       "        <td id=\"T_368d90e8_7a3d_11e8_a306_001583e88a53row12_col0\" class=\"data row12 col0\" >ORG_TP_FCAPITAL</td> \n",
       "        <td id=\"T_368d90e8_7a3d_11e8_a306_001583e88a53row12_col1\" class=\"data row12 col1\" >отношение к иностранному капиталу</td> \n",
       "    </tr>    <tr> \n",
       "        <th id=\"T_368d90e8_7a3d_11e8_a306_001583e88a53level0_row13\" class=\"row_heading level0 row13\" >13</th> \n",
       "        <td id=\"T_368d90e8_7a3d_11e8_a306_001583e88a53row13_col0\" class=\"data row13 col0\" >JOB_DIR</td> \n",
       "        <td id=\"T_368d90e8_7a3d_11e8_a306_001583e88a53row13_col1\" class=\"data row13 col1\" >направление деятельности в нутри компании</td> \n",
       "    </tr>    <tr> \n",
       "        <th id=\"T_368d90e8_7a3d_11e8_a306_001583e88a53level0_row14\" class=\"row_heading level0 row14\" >14</th> \n",
       "        <td id=\"T_368d90e8_7a3d_11e8_a306_001583e88a53row14_col0\" class=\"data row14 col0\" >FAMILY_INCOME</td> \n",
       "        <td id=\"T_368d90e8_7a3d_11e8_a306_001583e88a53row14_col1\" class=\"data row14 col1\" >семейный доход (несколько категорий)</td> \n",
       "    </tr>    <tr> \n",
       "        <th id=\"T_368d90e8_7a3d_11e8_a306_001583e88a53level0_row15\" class=\"row_heading level0 row15\" >15</th> \n",
       "        <td id=\"T_368d90e8_7a3d_11e8_a306_001583e88a53row15_col0\" class=\"data row15 col0\" >PERSONAL_INCOME</td> \n",
       "        <td id=\"T_368d90e8_7a3d_11e8_a306_001583e88a53row15_col1\" class=\"data row15 col1\" >личный доход клиента (в рублях)</td> \n",
       "    </tr>    <tr> \n",
       "        <th id=\"T_368d90e8_7a3d_11e8_a306_001583e88a53level0_row16\" class=\"row_heading level0 row16\" >16</th> \n",
       "        <td id=\"T_368d90e8_7a3d_11e8_a306_001583e88a53row16_col0\" class=\"data row16 col0\" >REG_ADDRESS_PROVINCE</td> \n",
       "        <td id=\"T_368d90e8_7a3d_11e8_a306_001583e88a53row16_col1\" class=\"data row16 col1\" >область регистрации клиента</td> \n",
       "    </tr>    <tr> \n",
       "        <th id=\"T_368d90e8_7a3d_11e8_a306_001583e88a53level0_row17\" class=\"row_heading level0 row17\" >17</th> \n",
       "        <td id=\"T_368d90e8_7a3d_11e8_a306_001583e88a53row17_col0\" class=\"data row17 col0\" >FACT_ADDRESS_PROVINCE</td> \n",
       "        <td id=\"T_368d90e8_7a3d_11e8_a306_001583e88a53row17_col1\" class=\"data row17 col1\" >область фактического пребывания клиента</td> \n",
       "    </tr>    <tr> \n",
       "        <th id=\"T_368d90e8_7a3d_11e8_a306_001583e88a53level0_row18\" class=\"row_heading level0 row18\" >18</th> \n",
       "        <td id=\"T_368d90e8_7a3d_11e8_a306_001583e88a53row18_col0\" class=\"data row18 col0\" >POSTAL_ADDRESS_PROVINCE</td> \n",
       "        <td id=\"T_368d90e8_7a3d_11e8_a306_001583e88a53row18_col1\" class=\"data row18 col1\" >почтовый адрес область</td> \n",
       "    </tr>    <tr> \n",
       "        <th id=\"T_368d90e8_7a3d_11e8_a306_001583e88a53level0_row19\" class=\"row_heading level0 row19\" >19</th> \n",
       "        <td id=\"T_368d90e8_7a3d_11e8_a306_001583e88a53row19_col0\" class=\"data row19 col0\" >TP_PROVINCE</td> \n",
       "        <td id=\"T_368d90e8_7a3d_11e8_a306_001583e88a53row19_col1\" class=\"data row19 col1\" >область торговой точки, где клиент брал последний кредит</td> \n",
       "    </tr>    <tr> \n",
       "        <th id=\"T_368d90e8_7a3d_11e8_a306_001583e88a53level0_row20\" class=\"row_heading level0 row20\" >20</th> \n",
       "        <td id=\"T_368d90e8_7a3d_11e8_a306_001583e88a53row20_col0\" class=\"data row20 col0\" >REGION_NM</td> \n",
       "        <td id=\"T_368d90e8_7a3d_11e8_a306_001583e88a53row20_col1\" class=\"data row20 col1\" >регион РФ</td> \n",
       "    </tr>    <tr> \n",
       "        <th id=\"T_368d90e8_7a3d_11e8_a306_001583e88a53level0_row21\" class=\"row_heading level0 row21\" >21</th> \n",
       "        <td id=\"T_368d90e8_7a3d_11e8_a306_001583e88a53row21_col0\" class=\"data row21 col0\" >REG_FACT_FL</td> \n",
       "        <td id=\"T_368d90e8_7a3d_11e8_a306_001583e88a53row21_col1\" class=\"data row21 col1\" >адрес регистрации и адрес фактического пребывания клиента совпадают(1 - совпадает, 0 - не совпадает)</td> \n",
       "    </tr>    <tr> \n",
       "        <th id=\"T_368d90e8_7a3d_11e8_a306_001583e88a53level0_row22\" class=\"row_heading level0 row22\" >22</th> \n",
       "        <td id=\"T_368d90e8_7a3d_11e8_a306_001583e88a53row22_col0\" class=\"data row22 col0\" >FACT_POST_FL</td> \n",
       "        <td id=\"T_368d90e8_7a3d_11e8_a306_001583e88a53row22_col1\" class=\"data row22 col1\" >адрес фактического пребывания клиента и его почтовый адрес совпадают(1 - совпадает, 0 - не совпадает)</td> \n",
       "    </tr>    <tr> \n",
       "        <th id=\"T_368d90e8_7a3d_11e8_a306_001583e88a53level0_row23\" class=\"row_heading level0 row23\" >23</th> \n",
       "        <td id=\"T_368d90e8_7a3d_11e8_a306_001583e88a53row23_col0\" class=\"data row23 col0\" >REG_POST_FL</td> \n",
       "        <td id=\"T_368d90e8_7a3d_11e8_a306_001583e88a53row23_col1\" class=\"data row23 col1\" >адрес регистрации клиента и его почтовый адрес совпадают(1 - совпадает, 0 - не совпадает)</td> \n",
       "    </tr>    <tr> \n",
       "        <th id=\"T_368d90e8_7a3d_11e8_a306_001583e88a53level0_row24\" class=\"row_heading level0 row24\" >24</th> \n",
       "        <td id=\"T_368d90e8_7a3d_11e8_a306_001583e88a53row24_col0\" class=\"data row24 col0\" >REG_FACT_POST_FL</td> \n",
       "        <td id=\"T_368d90e8_7a3d_11e8_a306_001583e88a53row24_col1\" class=\"data row24 col1\" >почтовый, фактический и адрес регистрации совпадают (1 - совпадают, 0 - не совпадают)</td> \n",
       "    </tr>    <tr> \n",
       "        <th id=\"T_368d90e8_7a3d_11e8_a306_001583e88a53level0_row25\" class=\"row_heading level0 row25\" >25</th> \n",
       "        <td id=\"T_368d90e8_7a3d_11e8_a306_001583e88a53row25_col0\" class=\"data row25 col0\" >REG_FACT_POST_TP_FL</td> \n",
       "        <td id=\"T_368d90e8_7a3d_11e8_a306_001583e88a53row25_col1\" class=\"data row25 col1\" >область регистрации, фактического пребывания, почтового адреса и область расположения торговой точки, где клиент брал кредит совпадают (1 - совпадают, 0 - не совпадают)</td> \n",
       "    </tr>    <tr> \n",
       "        <th id=\"T_368d90e8_7a3d_11e8_a306_001583e88a53level0_row26\" class=\"row_heading level0 row26\" >26</th> \n",
       "        <td id=\"T_368d90e8_7a3d_11e8_a306_001583e88a53row26_col0\" class=\"data row26 col0\" >FL_PRESENCE_FL</td> \n",
       "        <td id=\"T_368d90e8_7a3d_11e8_a306_001583e88a53row26_col1\" class=\"data row26 col1\" >наличие в собственности квартиры (1 - есть, 0 - нет)</td> \n",
       "    </tr>    <tr> \n",
       "        <th id=\"T_368d90e8_7a3d_11e8_a306_001583e88a53level0_row27\" class=\"row_heading level0 row27\" >27</th> \n",
       "        <td id=\"T_368d90e8_7a3d_11e8_a306_001583e88a53row27_col0\" class=\"data row27 col0\" >OWN_AUTO</td> \n",
       "        <td id=\"T_368d90e8_7a3d_11e8_a306_001583e88a53row27_col1\" class=\"data row27 col1\" >кол-во автомобилей в собственности </td> \n",
       "    </tr>    <tr> \n",
       "        <th id=\"T_368d90e8_7a3d_11e8_a306_001583e88a53level0_row28\" class=\"row_heading level0 row28\" >28</th> \n",
       "        <td id=\"T_368d90e8_7a3d_11e8_a306_001583e88a53row28_col0\" class=\"data row28 col0\" >AUTO_RUS_FL</td> \n",
       "        <td id=\"T_368d90e8_7a3d_11e8_a306_001583e88a53row28_col1\" class=\"data row28 col1\" >наличие в собственности автомобиля российского производства ( 1 - есть, 0 - нет)</td> \n",
       "    </tr>    <tr> \n",
       "        <th id=\"T_368d90e8_7a3d_11e8_a306_001583e88a53level0_row29\" class=\"row_heading level0 row29\" >29</th> \n",
       "        <td id=\"T_368d90e8_7a3d_11e8_a306_001583e88a53row29_col0\" class=\"data row29 col0\" >HS_PRESENCE_FL</td> \n",
       "        <td id=\"T_368d90e8_7a3d_11e8_a306_001583e88a53row29_col1\" class=\"data row29 col1\" >наличие в собственности загородного дома (1 - есть, 0 - нет)</td> \n",
       "    </tr>    <tr> \n",
       "        <th id=\"T_368d90e8_7a3d_11e8_a306_001583e88a53level0_row30\" class=\"row_heading level0 row30\" >30</th> \n",
       "        <td id=\"T_368d90e8_7a3d_11e8_a306_001583e88a53row30_col0\" class=\"data row30 col0\" >COT_PRESENCE_FL</td> \n",
       "        <td id=\"T_368d90e8_7a3d_11e8_a306_001583e88a53row30_col1\" class=\"data row30 col1\" >наличие в собственности котеджа (1 - есть, 0 - нет)</td> \n",
       "    </tr>    <tr> \n",
       "        <th id=\"T_368d90e8_7a3d_11e8_a306_001583e88a53level0_row31\" class=\"row_heading level0 row31\" >31</th> \n",
       "        <td id=\"T_368d90e8_7a3d_11e8_a306_001583e88a53row31_col0\" class=\"data row31 col0\" >GAR_PRESENCE_FL</td> \n",
       "        <td id=\"T_368d90e8_7a3d_11e8_a306_001583e88a53row31_col1\" class=\"data row31 col1\" >наличие в собственности гаража (1 - есть, 0 - нет)</td> \n",
       "    </tr>    <tr> \n",
       "        <th id=\"T_368d90e8_7a3d_11e8_a306_001583e88a53level0_row32\" class=\"row_heading level0 row32\" >32</th> \n",
       "        <td id=\"T_368d90e8_7a3d_11e8_a306_001583e88a53row32_col0\" class=\"data row32 col0\" >LAND_PRESENCE_FL</td> \n",
       "        <td id=\"T_368d90e8_7a3d_11e8_a306_001583e88a53row32_col1\" class=\"data row32 col1\" >наличие в собственности земельного участка (1 - есть, 0 - нет)</td> \n",
       "    </tr>    <tr> \n",
       "        <th id=\"T_368d90e8_7a3d_11e8_a306_001583e88a53level0_row33\" class=\"row_heading level0 row33\" >33</th> \n",
       "        <td id=\"T_368d90e8_7a3d_11e8_a306_001583e88a53row33_col0\" class=\"data row33 col0\" >CREDIT</td> \n",
       "        <td id=\"T_368d90e8_7a3d_11e8_a306_001583e88a53row33_col1\" class=\"data row33 col1\" >сумма последнего кредита клиента (в рублях)</td> \n",
       "    </tr>    <tr> \n",
       "        <th id=\"T_368d90e8_7a3d_11e8_a306_001583e88a53level0_row34\" class=\"row_heading level0 row34\" >34</th> \n",
       "        <td id=\"T_368d90e8_7a3d_11e8_a306_001583e88a53row34_col0\" class=\"data row34 col0\" >TERM</td> \n",
       "        <td id=\"T_368d90e8_7a3d_11e8_a306_001583e88a53row34_col1\" class=\"data row34 col1\" >срок кредита</td> \n",
       "    </tr>    <tr> \n",
       "        <th id=\"T_368d90e8_7a3d_11e8_a306_001583e88a53level0_row35\" class=\"row_heading level0 row35\" >35</th> \n",
       "        <td id=\"T_368d90e8_7a3d_11e8_a306_001583e88a53row35_col0\" class=\"data row35 col0\" >FST_PAYMENT</td> \n",
       "        <td id=\"T_368d90e8_7a3d_11e8_a306_001583e88a53row35_col1\" class=\"data row35 col1\" >первоначальный взнос (в рублях)</td> \n",
       "    </tr>    <tr> \n",
       "        <th id=\"T_368d90e8_7a3d_11e8_a306_001583e88a53level0_row36\" class=\"row_heading level0 row36\" >36</th> \n",
       "        <td id=\"T_368d90e8_7a3d_11e8_a306_001583e88a53row36_col0\" class=\"data row36 col0\" >DL_DOCUMENT_FL</td> \n",
       "        <td id=\"T_368d90e8_7a3d_11e8_a306_001583e88a53row36_col1\" class=\"data row36 col1\" >в анкете клиент указал водительское удостоверение (1 - указал, 0 - не указал)</td> \n",
       "    </tr>    <tr> \n",
       "        <th id=\"T_368d90e8_7a3d_11e8_a306_001583e88a53level0_row37\" class=\"row_heading level0 row37\" >37</th> \n",
       "        <td id=\"T_368d90e8_7a3d_11e8_a306_001583e88a53row37_col0\" class=\"data row37 col0\" >GPF_DOCUMENT_FL</td> \n",
       "        <td id=\"T_368d90e8_7a3d_11e8_a306_001583e88a53row37_col1\" class=\"data row37 col1\" >в анкете клиен указал ГПФ (1 - указал, 0 - не указал)</td> \n",
       "    </tr>    <tr> \n",
       "        <th id=\"T_368d90e8_7a3d_11e8_a306_001583e88a53level0_row38\" class=\"row_heading level0 row38\" >38</th> \n",
       "        <td id=\"T_368d90e8_7a3d_11e8_a306_001583e88a53row38_col0\" class=\"data row38 col0\" >FACT_LIVING_TERM</td> \n",
       "        <td id=\"T_368d90e8_7a3d_11e8_a306_001583e88a53row38_col1\" class=\"data row38 col1\" >количество месяцев проживания по месту фактического пребывания</td> \n",
       "    </tr>    <tr> \n",
       "        <th id=\"T_368d90e8_7a3d_11e8_a306_001583e88a53level0_row39\" class=\"row_heading level0 row39\" >39</th> \n",
       "        <td id=\"T_368d90e8_7a3d_11e8_a306_001583e88a53row39_col0\" class=\"data row39 col0\" >WORK_TIME</td> \n",
       "        <td id=\"T_368d90e8_7a3d_11e8_a306_001583e88a53row39_col1\" class=\"data row39 col1\" >время работы на текущем месте (в месяцах)</td> \n",
       "    </tr>    <tr> \n",
       "        <th id=\"T_368d90e8_7a3d_11e8_a306_001583e88a53level0_row40\" class=\"row_heading level0 row40\" >40</th> \n",
       "        <td id=\"T_368d90e8_7a3d_11e8_a306_001583e88a53row40_col0\" class=\"data row40 col0\" >FACT_PHONE_FL</td> \n",
       "        <td id=\"T_368d90e8_7a3d_11e8_a306_001583e88a53row40_col1\" class=\"data row40 col1\" >наличие в заявке телефона по фактическому месту пребывания</td> \n",
       "    </tr>    <tr> \n",
       "        <th id=\"T_368d90e8_7a3d_11e8_a306_001583e88a53level0_row41\" class=\"row_heading level0 row41\" >41</th> \n",
       "        <td id=\"T_368d90e8_7a3d_11e8_a306_001583e88a53row41_col0\" class=\"data row41 col0\" >REG_PHONE_FL</td> \n",
       "        <td id=\"T_368d90e8_7a3d_11e8_a306_001583e88a53row41_col1\" class=\"data row41 col1\" >наличие в заявке телефона по месту регистрации</td> \n",
       "    </tr>    <tr> \n",
       "        <th id=\"T_368d90e8_7a3d_11e8_a306_001583e88a53level0_row42\" class=\"row_heading level0 row42\" >42</th> \n",
       "        <td id=\"T_368d90e8_7a3d_11e8_a306_001583e88a53row42_col0\" class=\"data row42 col0\" >GEN_PHONE_FL</td> \n",
       "        <td id=\"T_368d90e8_7a3d_11e8_a306_001583e88a53row42_col1\" class=\"data row42 col1\" >наличие в заявке рабочего телефона</td> \n",
       "    </tr>    <tr> \n",
       "        <th id=\"T_368d90e8_7a3d_11e8_a306_001583e88a53level0_row43\" class=\"row_heading level0 row43\" >43</th> \n",
       "        <td id=\"T_368d90e8_7a3d_11e8_a306_001583e88a53row43_col0\" class=\"data row43 col0\" >LOAN_NUM_TOTAL</td> \n",
       "        <td id=\"T_368d90e8_7a3d_11e8_a306_001583e88a53row43_col1\" class=\"data row43 col1\" >количество ссуд клиента</td> \n",
       "    </tr>    <tr> \n",
       "        <th id=\"T_368d90e8_7a3d_11e8_a306_001583e88a53level0_row44\" class=\"row_heading level0 row44\" >44</th> \n",
       "        <td id=\"T_368d90e8_7a3d_11e8_a306_001583e88a53row44_col0\" class=\"data row44 col0\" >LOAN_NUM_CLOSED</td> \n",
       "        <td id=\"T_368d90e8_7a3d_11e8_a306_001583e88a53row44_col1\" class=\"data row44 col1\" >количество погашенных ссуд клиента</td> \n",
       "    </tr>    <tr> \n",
       "        <th id=\"T_368d90e8_7a3d_11e8_a306_001583e88a53level0_row45\" class=\"row_heading level0 row45\" >45</th> \n",
       "        <td id=\"T_368d90e8_7a3d_11e8_a306_001583e88a53row45_col0\" class=\"data row45 col0\" >LOAN_NUM_PAYM</td> \n",
       "        <td id=\"T_368d90e8_7a3d_11e8_a306_001583e88a53row45_col1\" class=\"data row45 col1\" >количество платежей, которые сделал клиент</td> \n",
       "    </tr>    <tr> \n",
       "        <th id=\"T_368d90e8_7a3d_11e8_a306_001583e88a53level0_row46\" class=\"row_heading level0 row46\" >46</th> \n",
       "        <td id=\"T_368d90e8_7a3d_11e8_a306_001583e88a53row46_col0\" class=\"data row46 col0\" >LOAN_DLQ_NUM</td> \n",
       "        <td id=\"T_368d90e8_7a3d_11e8_a306_001583e88a53row46_col1\" class=\"data row46 col1\" >количество просрочек, допущенных клиентом</td> \n",
       "    </tr>    <tr> \n",
       "        <th id=\"T_368d90e8_7a3d_11e8_a306_001583e88a53level0_row47\" class=\"row_heading level0 row47\" >47</th> \n",
       "        <td id=\"T_368d90e8_7a3d_11e8_a306_001583e88a53row47_col0\" class=\"data row47 col0\" >LOAN_MAX_DLQ</td> \n",
       "        <td id=\"T_368d90e8_7a3d_11e8_a306_001583e88a53row47_col1\" class=\"data row47 col1\" >номер максимальной просрочки, допущенной клиентом</td> \n",
       "    </tr>    <tr> \n",
       "        <th id=\"T_368d90e8_7a3d_11e8_a306_001583e88a53level0_row48\" class=\"row_heading level0 row48\" >48</th> \n",
       "        <td id=\"T_368d90e8_7a3d_11e8_a306_001583e88a53row48_col0\" class=\"data row48 col0\" >LOAN_AVG_DLQ_AMT</td> \n",
       "        <td id=\"T_368d90e8_7a3d_11e8_a306_001583e88a53row48_col1\" class=\"data row48 col1\" >средняя сумма просрочки (в рублях)</td> \n",
       "    </tr>    <tr> \n",
       "        <th id=\"T_368d90e8_7a3d_11e8_a306_001583e88a53level0_row49\" class=\"row_heading level0 row49\" >49</th> \n",
       "        <td id=\"T_368d90e8_7a3d_11e8_a306_001583e88a53row49_col0\" class=\"data row49 col0\" >LOAN_MAX_DLQ_AMT</td> \n",
       "        <td id=\"T_368d90e8_7a3d_11e8_a306_001583e88a53row49_col1\" class=\"data row49 col1\" >максимальная сумма просрочки (в рублях)</td> \n",
       "    </tr>    <tr> \n",
       "        <th id=\"T_368d90e8_7a3d_11e8_a306_001583e88a53level0_row50\" class=\"row_heading level0 row50\" >50</th> \n",
       "        <td id=\"T_368d90e8_7a3d_11e8_a306_001583e88a53row50_col0\" class=\"data row50 col0\" >PREVIOUS_CARD_NUM_UTILIZED</td> \n",
       "        <td id=\"T_368d90e8_7a3d_11e8_a306_001583e88a53row50_col1\" class=\"data row50 col1\" >количество уже утилизированных карт ( если пусто - 0) </td> \n",
       "    </tr></tbody> \n",
       "</table> "
      ],
      "text/plain": [
       "<pandas.io.formats.style.Styler at 0xcf54130>"
      ]
     },
     "execution_count": 5,
     "metadata": {},
     "output_type": "execute_result"
    }
   ],
   "source": [
    "df_descr.style.set_properties(subset=['ОПИСАНИЕ'], **{'width': '500px'})"
   ]
  },
  {
   "cell_type": "markdown",
   "metadata": {},
   "source": [
    "Считаем обучающую выборки и тестовую (которую мы как бы не видим)"
   ]
  },
  {
   "cell_type": "code",
   "execution_count": 6,
   "metadata": {},
   "outputs": [],
   "source": [
    "df_train = pd.read_csv('data/otp_train.csv', sep='\\t', encoding='utf8')"
   ]
  },
  {
   "cell_type": "code",
   "execution_count": 7,
   "metadata": {},
   "outputs": [
    {
     "data": {
      "text/plain": [
       "(15223, 52)"
      ]
     },
     "execution_count": 7,
     "metadata": {},
     "output_type": "execute_result"
    }
   ],
   "source": [
    "df_train.shape"
   ]
  },
  {
   "cell_type": "code",
   "execution_count": 8,
   "metadata": {},
   "outputs": [],
   "source": [
    "df_test = pd.read_csv('data/otp_test.csv', sep='\\t', encoding='utf8')"
   ]
  },
  {
   "cell_type": "code",
   "execution_count": 9,
   "metadata": {},
   "outputs": [
    {
     "data": {
      "text/plain": [
       "(14910, 52)"
      ]
     },
     "execution_count": 9,
     "metadata": {},
     "output_type": "execute_result"
    }
   ],
   "source": [
    "df_test.shape"
   ]
  },
  {
   "cell_type": "code",
   "execution_count": 10,
   "metadata": {},
   "outputs": [
    {
     "data": {
      "text/html": [
       "<div>\n",
       "<style scoped>\n",
       "    .dataframe tbody tr th:only-of-type {\n",
       "        vertical-align: middle;\n",
       "    }\n",
       "\n",
       "    .dataframe tbody tr th {\n",
       "        vertical-align: top;\n",
       "    }\n",
       "\n",
       "    .dataframe thead th {\n",
       "        text-align: right;\n",
       "    }\n",
       "</style>\n",
       "<table border=\"1\" class=\"dataframe\">\n",
       "  <thead>\n",
       "    <tr style=\"text-align: right;\">\n",
       "      <th></th>\n",
       "      <th>AGREEMENT_RK</th>\n",
       "      <th>TARGET</th>\n",
       "      <th>AGE</th>\n",
       "      <th>SOCSTATUS_WORK_FL</th>\n",
       "      <th>SOCSTATUS_PENS_FL</th>\n",
       "      <th>GENDER</th>\n",
       "      <th>CHILD_TOTAL</th>\n",
       "      <th>DEPENDANTS</th>\n",
       "      <th>EDUCATION</th>\n",
       "      <th>MARITAL_STATUS</th>\n",
       "      <th>...</th>\n",
       "      <th>REG_PHONE_FL</th>\n",
       "      <th>GEN_PHONE_FL</th>\n",
       "      <th>LOAN_NUM_TOTAL</th>\n",
       "      <th>LOAN_NUM_CLOSED</th>\n",
       "      <th>LOAN_NUM_PAYM</th>\n",
       "      <th>LOAN_DLQ_NUM</th>\n",
       "      <th>LOAN_MAX_DLQ</th>\n",
       "      <th>LOAN_AVG_DLQ_AMT</th>\n",
       "      <th>LOAN_MAX_DLQ_AMT</th>\n",
       "      <th>PREVIOUS_CARD_NUM_UTILIZED</th>\n",
       "    </tr>\n",
       "  </thead>\n",
       "  <tbody>\n",
       "    <tr>\n",
       "      <th>0</th>\n",
       "      <td>59910150</td>\n",
       "      <td>0</td>\n",
       "      <td>49</td>\n",
       "      <td>1</td>\n",
       "      <td>0</td>\n",
       "      <td>1</td>\n",
       "      <td>2</td>\n",
       "      <td>1</td>\n",
       "      <td>Среднее специальное</td>\n",
       "      <td>Состою в браке</td>\n",
       "      <td>...</td>\n",
       "      <td>0</td>\n",
       "      <td>1</td>\n",
       "      <td>1</td>\n",
       "      <td>1</td>\n",
       "      <td>6</td>\n",
       "      <td>2</td>\n",
       "      <td>1</td>\n",
       "      <td>1580</td>\n",
       "      <td>1580</td>\n",
       "      <td>NaN</td>\n",
       "    </tr>\n",
       "    <tr>\n",
       "      <th>1</th>\n",
       "      <td>59910230</td>\n",
       "      <td>0</td>\n",
       "      <td>32</td>\n",
       "      <td>1</td>\n",
       "      <td>0</td>\n",
       "      <td>1</td>\n",
       "      <td>3</td>\n",
       "      <td>3</td>\n",
       "      <td>Среднее</td>\n",
       "      <td>Состою в браке</td>\n",
       "      <td>...</td>\n",
       "      <td>0</td>\n",
       "      <td>1</td>\n",
       "      <td>1</td>\n",
       "      <td>1</td>\n",
       "      <td>6</td>\n",
       "      <td>1</td>\n",
       "      <td>1</td>\n",
       "      <td>4020</td>\n",
       "      <td>4020</td>\n",
       "      <td>NaN</td>\n",
       "    </tr>\n",
       "    <tr>\n",
       "      <th>2</th>\n",
       "      <td>59910525</td>\n",
       "      <td>0</td>\n",
       "      <td>52</td>\n",
       "      <td>1</td>\n",
       "      <td>0</td>\n",
       "      <td>1</td>\n",
       "      <td>4</td>\n",
       "      <td>0</td>\n",
       "      <td>Неполное среднее</td>\n",
       "      <td>Состою в браке</td>\n",
       "      <td>...</td>\n",
       "      <td>0</td>\n",
       "      <td>1</td>\n",
       "      <td>2</td>\n",
       "      <td>1</td>\n",
       "      <td>11</td>\n",
       "      <td>0</td>\n",
       "      <td>0</td>\n",
       "      <td>0</td>\n",
       "      <td>0</td>\n",
       "      <td>NaN</td>\n",
       "    </tr>\n",
       "    <tr>\n",
       "      <th>3</th>\n",
       "      <td>59910803</td>\n",
       "      <td>0</td>\n",
       "      <td>39</td>\n",
       "      <td>1</td>\n",
       "      <td>0</td>\n",
       "      <td>1</td>\n",
       "      <td>1</td>\n",
       "      <td>1</td>\n",
       "      <td>Высшее</td>\n",
       "      <td>Состою в браке</td>\n",
       "      <td>...</td>\n",
       "      <td>1</td>\n",
       "      <td>1</td>\n",
       "      <td>1</td>\n",
       "      <td>1</td>\n",
       "      <td>6</td>\n",
       "      <td>3</td>\n",
       "      <td>1</td>\n",
       "      <td>1589,92333333333</td>\n",
       "      <td>1590</td>\n",
       "      <td>NaN</td>\n",
       "    </tr>\n",
       "    <tr>\n",
       "      <th>4</th>\n",
       "      <td>59911781</td>\n",
       "      <td>0</td>\n",
       "      <td>30</td>\n",
       "      <td>1</td>\n",
       "      <td>0</td>\n",
       "      <td>0</td>\n",
       "      <td>0</td>\n",
       "      <td>0</td>\n",
       "      <td>Среднее</td>\n",
       "      <td>Состою в браке</td>\n",
       "      <td>...</td>\n",
       "      <td>0</td>\n",
       "      <td>1</td>\n",
       "      <td>2</td>\n",
       "      <td>1</td>\n",
       "      <td>16</td>\n",
       "      <td>2</td>\n",
       "      <td>1</td>\n",
       "      <td>1152,15</td>\n",
       "      <td>2230</td>\n",
       "      <td>NaN</td>\n",
       "    </tr>\n",
       "  </tbody>\n",
       "</table>\n",
       "<p>5 rows × 52 columns</p>\n",
       "</div>"
      ],
      "text/plain": [
       "   AGREEMENT_RK  TARGET  AGE  SOCSTATUS_WORK_FL  SOCSTATUS_PENS_FL  GENDER  \\\n",
       "0      59910150       0   49                  1                  0       1   \n",
       "1      59910230       0   32                  1                  0       1   \n",
       "2      59910525       0   52                  1                  0       1   \n",
       "3      59910803       0   39                  1                  0       1   \n",
       "4      59911781       0   30                  1                  0       0   \n",
       "\n",
       "   CHILD_TOTAL  DEPENDANTS            EDUCATION  MARITAL_STATUS  \\\n",
       "0            2           1  Среднее специальное  Состою в браке   \n",
       "1            3           3              Среднее  Состою в браке   \n",
       "2            4           0     Неполное среднее  Состою в браке   \n",
       "3            1           1               Высшее  Состою в браке   \n",
       "4            0           0              Среднее  Состою в браке   \n",
       "\n",
       "             ...             REG_PHONE_FL GEN_PHONE_FL LOAN_NUM_TOTAL  \\\n",
       "0            ...                        0            1              1   \n",
       "1            ...                        0            1              1   \n",
       "2            ...                        0            1              2   \n",
       "3            ...                        1            1              1   \n",
       "4            ...                        0            1              2   \n",
       "\n",
       "  LOAN_NUM_CLOSED LOAN_NUM_PAYM LOAN_DLQ_NUM LOAN_MAX_DLQ  LOAN_AVG_DLQ_AMT  \\\n",
       "0               1             6            2            1              1580   \n",
       "1               1             6            1            1              4020   \n",
       "2               1            11            0            0                 0   \n",
       "3               1             6            3            1  1589,92333333333   \n",
       "4               1            16            2            1           1152,15   \n",
       "\n",
       "  LOAN_MAX_DLQ_AMT PREVIOUS_CARD_NUM_UTILIZED  \n",
       "0             1580                        NaN  \n",
       "1             4020                        NaN  \n",
       "2                0                        NaN  \n",
       "3             1590                        NaN  \n",
       "4             2230                        NaN  \n",
       "\n",
       "[5 rows x 52 columns]"
      ]
     },
     "execution_count": 10,
     "metadata": {},
     "output_type": "execute_result"
    }
   ],
   "source": [
    "df_train.head()"
   ]
  },
  {
   "cell_type": "markdown",
   "metadata": {},
   "source": [
    "## Объединим две выборки\n",
    "\n",
    "Так как пока мы пока не умеем работать sklearn  Pipeline, то для того, чтобы после предобработки столбцы в двух выборках находились на своих местах.\n",
    "\n",
    "Для того, чтобы в дальнейшем отделить их введем новый столбец \"sample\""
   ]
  },
  {
   "cell_type": "code",
   "execution_count": 11,
   "metadata": {},
   "outputs": [],
   "source": [
    "df_train.loc[:, 'sample'] = 'train'\n",
    "df_test.loc[:, 'sample'] = 'test'"
   ]
  },
  {
   "cell_type": "code",
   "execution_count": 12,
   "metadata": {},
   "outputs": [
    {
     "data": {
      "text/html": [
       "<div>\n",
       "<style scoped>\n",
       "    .dataframe tbody tr th:only-of-type {\n",
       "        vertical-align: middle;\n",
       "    }\n",
       "\n",
       "    .dataframe tbody tr th {\n",
       "        vertical-align: top;\n",
       "    }\n",
       "\n",
       "    .dataframe thead th {\n",
       "        text-align: right;\n",
       "    }\n",
       "</style>\n",
       "<table border=\"1\" class=\"dataframe\">\n",
       "  <thead>\n",
       "    <tr style=\"text-align: right;\">\n",
       "      <th></th>\n",
       "      <th>AGREEMENT_RK</th>\n",
       "      <th>TARGET</th>\n",
       "      <th>AGE</th>\n",
       "      <th>SOCSTATUS_WORK_FL</th>\n",
       "      <th>SOCSTATUS_PENS_FL</th>\n",
       "      <th>GENDER</th>\n",
       "      <th>CHILD_TOTAL</th>\n",
       "      <th>DEPENDANTS</th>\n",
       "      <th>EDUCATION</th>\n",
       "      <th>MARITAL_STATUS</th>\n",
       "      <th>...</th>\n",
       "      <th>GEN_PHONE_FL</th>\n",
       "      <th>LOAN_NUM_TOTAL</th>\n",
       "      <th>LOAN_NUM_CLOSED</th>\n",
       "      <th>LOAN_NUM_PAYM</th>\n",
       "      <th>LOAN_DLQ_NUM</th>\n",
       "      <th>LOAN_MAX_DLQ</th>\n",
       "      <th>LOAN_AVG_DLQ_AMT</th>\n",
       "      <th>LOAN_MAX_DLQ_AMT</th>\n",
       "      <th>PREVIOUS_CARD_NUM_UTILIZED</th>\n",
       "      <th>sample</th>\n",
       "    </tr>\n",
       "  </thead>\n",
       "  <tbody>\n",
       "    <tr>\n",
       "      <th>0</th>\n",
       "      <td>59910150</td>\n",
       "      <td>0</td>\n",
       "      <td>49</td>\n",
       "      <td>1</td>\n",
       "      <td>0</td>\n",
       "      <td>1</td>\n",
       "      <td>2</td>\n",
       "      <td>1</td>\n",
       "      <td>Среднее специальное</td>\n",
       "      <td>Состою в браке</td>\n",
       "      <td>...</td>\n",
       "      <td>1</td>\n",
       "      <td>1</td>\n",
       "      <td>1</td>\n",
       "      <td>6</td>\n",
       "      <td>2</td>\n",
       "      <td>1</td>\n",
       "      <td>1580</td>\n",
       "      <td>1580</td>\n",
       "      <td>NaN</td>\n",
       "      <td>train</td>\n",
       "    </tr>\n",
       "    <tr>\n",
       "      <th>1</th>\n",
       "      <td>59910230</td>\n",
       "      <td>0</td>\n",
       "      <td>32</td>\n",
       "      <td>1</td>\n",
       "      <td>0</td>\n",
       "      <td>1</td>\n",
       "      <td>3</td>\n",
       "      <td>3</td>\n",
       "      <td>Среднее</td>\n",
       "      <td>Состою в браке</td>\n",
       "      <td>...</td>\n",
       "      <td>1</td>\n",
       "      <td>1</td>\n",
       "      <td>1</td>\n",
       "      <td>6</td>\n",
       "      <td>1</td>\n",
       "      <td>1</td>\n",
       "      <td>4020</td>\n",
       "      <td>4020</td>\n",
       "      <td>NaN</td>\n",
       "      <td>train</td>\n",
       "    </tr>\n",
       "  </tbody>\n",
       "</table>\n",
       "<p>2 rows × 53 columns</p>\n",
       "</div>"
      ],
      "text/plain": [
       "   AGREEMENT_RK  TARGET  AGE  SOCSTATUS_WORK_FL  SOCSTATUS_PENS_FL  GENDER  \\\n",
       "0      59910150       0   49                  1                  0       1   \n",
       "1      59910230       0   32                  1                  0       1   \n",
       "\n",
       "   CHILD_TOTAL  DEPENDANTS            EDUCATION  MARITAL_STATUS  ...    \\\n",
       "0            2           1  Среднее специальное  Состою в браке  ...     \n",
       "1            3           3              Среднее  Состою в браке  ...     \n",
       "\n",
       "  GEN_PHONE_FL LOAN_NUM_TOTAL LOAN_NUM_CLOSED LOAN_NUM_PAYM LOAN_DLQ_NUM  \\\n",
       "0            1              1               1             6            2   \n",
       "1            1              1               1             6            1   \n",
       "\n",
       "  LOAN_MAX_DLQ LOAN_AVG_DLQ_AMT LOAN_MAX_DLQ_AMT PREVIOUS_CARD_NUM_UTILIZED  \\\n",
       "0            1             1580             1580                        NaN   \n",
       "1            1             4020             4020                        NaN   \n",
       "\n",
       "  sample  \n",
       "0  train  \n",
       "1  train  \n",
       "\n",
       "[2 rows x 53 columns]"
      ]
     },
     "execution_count": 12,
     "metadata": {},
     "output_type": "execute_result"
    }
   ],
   "source": [
    "df_train.head(2)"
   ]
  },
  {
   "cell_type": "code",
   "execution_count": 13,
   "metadata": {},
   "outputs": [],
   "source": [
    "df = df_test.append(df_train).reset_index(drop=True)"
   ]
  },
  {
   "cell_type": "code",
   "execution_count": 14,
   "metadata": {},
   "outputs": [
    {
     "data": {
      "text/plain": [
       "(30133, 53)"
      ]
     },
     "execution_count": 14,
     "metadata": {},
     "output_type": "execute_result"
    }
   ],
   "source": [
    "df.shape"
   ]
  },
  {
   "cell_type": "markdown",
   "metadata": {},
   "source": [
    "### Чуть-чуть посмотрим на данные"
   ]
  },
  {
   "cell_type": "markdown",
   "metadata": {
    "collapsed": true
   },
   "source": [
    "Посмотрим типы данных и их заполняемость"
   ]
  },
  {
   "cell_type": "code",
   "execution_count": 15,
   "metadata": {
    "scrolled": true
   },
   "outputs": [
    {
     "name": "stdout",
     "output_type": "stream",
     "text": [
      "<class 'pandas.core.frame.DataFrame'>\n",
      "RangeIndex: 30133 entries, 0 to 30132\n",
      "Data columns (total 53 columns):\n",
      "AGREEMENT_RK                  30133 non-null int64\n",
      "TARGET                        30133 non-null int64\n",
      "AGE                           30133 non-null int64\n",
      "SOCSTATUS_WORK_FL             30133 non-null int64\n",
      "SOCSTATUS_PENS_FL             30133 non-null int64\n",
      "GENDER                        30133 non-null int64\n",
      "CHILD_TOTAL                   30133 non-null int64\n",
      "DEPENDANTS                    30133 non-null int64\n",
      "EDUCATION                     30133 non-null object\n",
      "MARITAL_STATUS                30133 non-null object\n",
      "GEN_INDUSTRY                  27420 non-null object\n",
      "GEN_TITLE                     27420 non-null object\n",
      "ORG_TP_STATE                  27420 non-null object\n",
      "ORG_TP_FCAPITAL               27425 non-null object\n",
      "JOB_DIR                       27420 non-null object\n",
      "FAMILY_INCOME                 30133 non-null object\n",
      "PERSONAL_INCOME               30133 non-null object\n",
      "REG_ADDRESS_PROVINCE          30133 non-null object\n",
      "FACT_ADDRESS_PROVINCE         30133 non-null object\n",
      "POSTAL_ADDRESS_PROVINCE       30133 non-null object\n",
      "TP_PROVINCE                   29543 non-null object\n",
      "REGION_NM                     30131 non-null object\n",
      "REG_FACT_FL                   30133 non-null int64\n",
      "FACT_POST_FL                  30133 non-null int64\n",
      "REG_POST_FL                   30133 non-null int64\n",
      "REG_FACT_POST_FL              30133 non-null int64\n",
      "REG_FACT_POST_TP_FL           30133 non-null int64\n",
      "FL_PRESENCE_FL                30133 non-null int64\n",
      "OWN_AUTO                      30133 non-null int64\n",
      "AUTO_RUS_FL                   30133 non-null int64\n",
      "HS_PRESENCE_FL                30133 non-null int64\n",
      "COT_PRESENCE_FL               30133 non-null int64\n",
      "GAR_PRESENCE_FL               30133 non-null int64\n",
      "LAND_PRESENCE_FL              30133 non-null int64\n",
      "CREDIT                        30133 non-null object\n",
      "TERM                          30133 non-null int64\n",
      "FST_PAYMENT                   30133 non-null object\n",
      "DL_DOCUMENT_FL                30133 non-null int64\n",
      "GPF_DOCUMENT_FL               30133 non-null int64\n",
      "FACT_LIVING_TERM              30133 non-null int64\n",
      "WORK_TIME                     27416 non-null float64\n",
      "FACT_PHONE_FL                 30133 non-null int64\n",
      "REG_PHONE_FL                  30133 non-null int64\n",
      "GEN_PHONE_FL                  30133 non-null int64\n",
      "LOAN_NUM_TOTAL                30133 non-null int64\n",
      "LOAN_NUM_CLOSED               30133 non-null int64\n",
      "LOAN_NUM_PAYM                 30133 non-null int64\n",
      "LOAN_DLQ_NUM                  30133 non-null int64\n",
      "LOAN_MAX_DLQ                  30133 non-null int64\n",
      "LOAN_AVG_DLQ_AMT              30133 non-null object\n",
      "LOAN_MAX_DLQ_AMT              30133 non-null object\n",
      "PREVIOUS_CARD_NUM_UTILIZED    600 non-null float64\n",
      "sample                        30133 non-null object\n",
      "dtypes: float64(2), int64(32), object(19)\n",
      "memory usage: 10.0+ MB\n"
     ]
    }
   ],
   "source": [
    "df.info()"
   ]
  },
  {
   "cell_type": "markdown",
   "metadata": {
    "collapsed": true
   },
   "source": [
    "Видим, что часть данных - object, скорее всего стоки.\n",
    "\n",
    "\n",
    "Давайте выведем эти значения для каждого столбца"
   ]
  },
  {
   "cell_type": "code",
   "execution_count": 16,
   "metadata": {},
   "outputs": [
    {
     "name": "stdout",
     "output_type": "stream",
     "text": [
      "==========\n",
      "EDUCATION\n",
      "{'Ученая степень', 'Высшее', 'Среднее', 'Неоконченное высшее', 'Два и более высших образования', 'Среднее специальное', 'Неполное среднее'}\n",
      "\n",
      "\n",
      "==========\n",
      "MARITAL_STATUS\n",
      "{'Гражданский брак', 'Не состоял в браке', 'Разведен(а)', 'Состою в браке', 'Вдовец/Вдова'}\n",
      "\n",
      "\n",
      "==========\n",
      "GEN_INDUSTRY\n",
      "{nan, 'Сельское хозяйство', 'СМИ/Реклама/PR-агенства', 'Нефтегазовая промышленность', 'Банк/Финансы', 'Строительство', 'Химия/Парфюмерия/Фармацевтика', 'Ресторанный бизнес/Общественное питание', 'Здравоохранение', 'Другие сферы', 'Металлургия/Промышленность/Машиностроение', 'Образование', 'Туризм', 'ЧОП/Детективная д-ть', 'Страхование', 'Юридические услуги/нотариальные услуги', 'Информационные услуги', 'Управляющая компания', 'Маркетинг', 'Логистика', 'Торговля', 'Наука', 'Недвижимость', 'Государственная служба', 'Энергетика', 'Салоны красоты и здоровья', 'Сборочные производства', 'Информационные технологии', 'Подбор персонала', 'Транспорт', 'Развлечения/Искусство', 'Коммунальное хоз-во/Дорожные службы'}\n",
      "\n",
      "\n",
      "==========\n",
      "GEN_TITLE\n",
      "{nan, 'Работник сферы услуг', 'Другое', 'Высококвалифиц. специалист', 'Индивидуальный предприниматель', 'Руководитель высшего звена', 'Руководитель среднего звена', 'Военнослужащий по контракту', 'Рабочий', 'Руководитель низшего звена', 'Служащий', 'Партнер', 'Специалист'}\n",
      "\n",
      "\n",
      "==========\n",
      "ORG_TP_STATE\n",
      "{nan, 'Частная ком. с инос. капиталом', 'Государственная комп./учреж.', 'Индивидуальный предприниматель', 'Частная компания', 'Некоммерческая организация'}\n",
      "\n",
      "\n",
      "==========\n",
      "ORG_TP_FCAPITAL\n",
      "{nan, 'Без участия', 'С участием'}\n",
      "\n",
      "\n",
      "==========\n",
      "JOB_DIR\n",
      "{nan, 'Кадровая служба и секретариат', 'Снабжение и сбыт', 'Адм-хоз. и трансп. службы', 'Служба безопасности', 'Вспомогательный техперсонал', 'Юридическая служба', 'Пр-техн. обесп. и телеком.', 'Бухгалтерия, финансы, планир.', 'Участие в основ. деятельности', 'Реклама и маркетинг'}\n",
      "\n",
      "\n",
      "==========\n",
      "FAMILY_INCOME\n",
      "{'от 20000 до 50000 руб.', 'от 10000 до 20000 руб.', 'от 5000 до 10000 руб.', 'до 5000 руб.', 'свыше 50000 руб.'}\n",
      "\n",
      "\n",
      "==========\n",
      "PERSONAL_INCOME\n",
      "{'21800', '6500', '21000', '29000', '19000', '7800', '9500', '10500', '9900', '92000', '7600', '4100', '22500', '8400', '5000', '7550', '30000', '7220', '5900', '28300', '220000', '16700', '31000', '24800', '2000', '45000', '14800', '14000', '5700', '14300', '3600', '38000', '17500', '6608', '8200', '150000', '9240', '6299,19', '15400', '24', '3200', '7650', '10600', '4400', '9330', '23000', '12650', '13900', '8700', '14358', '8250', '16100', '10800', '50000', '9400', '9700', '5446', '9200', '6700', '7050', '60000', '16200', '6100', '6300', '8600', '5300', '4950', '7000', '54000', '42500', '4500', '15380', '47000', '19300', '3700', '12300', '7101', '5200', '33000', '5680', '8800', '4700', '6000', '19800', '5600', '5230', '37000', '17404', '3300', '4330', '15300', '9100', '32000', '4200', '22000', '9800', '9340', '160000', '13600', '13000', '49000', '12700', '6200', '16800', '19600', '10700', '8066', '6800', '6600', '10200', '4360', '10300', '12800', '8000', '7830', '25800', '2100', '100000', '27300', '16500', '4600', '11600', '7400', '26000', '5500', '9300', '13800', '8300', '6400', '5088', '5350', '20646,16', '7200', '15560', '5800', '27000', '3800', '12600', '5400', '23500', '21500', '28000', '11800', '8500', '4300', '75000', '18200', '5100', '41900', '18600', '46000', '1950', '4340', '11200', '15000', '250000', '11900', '7300', '8900', '17900', '14500', '14700', '65000', '3900', '12400', '6900', '34000', '53000', '17600', '26500', '39000', '13300', '68000', '18500', '24500', '17000', '16900', '3500', '7250', '12500', '19500', '12100', '6670', '11400', '2800', '4800', '43000', '18700', '32640', '2300', '6359', '11000', '11300', '13700', '48000', '25000', '80000', '42000', '5339', '5360', '10400', '5460', '35000', '22955', '16000', '3100', '12000', '7100', '7700', '40000', '110000', '52000', '7640', '13200', '56000', '23100', '77000', '7251', '5050', '7850', '11640', '29500', '7900', '12900', '3000', '24000', '67700', '4590', '4900', '36000', '10900', '4000', '11500', '13160', '29800', '4515', '15500', '20000', '13450', '3400', '41000', '9628', '19700', '8726', '70000', '15600', '5790', '8350', '6180', '10100', '51000', '44000', '13400', '15200', '13150', '10000', '16050', '7500', '170000', '17200', '55000', '9600', '5582', '20500', '13500', '11700', '67000', '9000', '8100', '17700', '17800', '18000', '5425', '23800'}\n",
      "\n",
      "\n",
      "==========\n",
      "REG_ADDRESS_PROVINCE\n",
      "{'Ленинградская область', 'Архангельская область', 'Тюменская область', 'Карачаево-Черкесия', 'Москва', 'Пермская область', 'Калмыкия', 'Орловская область', 'Ярославская область', 'Ростовская область', 'Еврейская АО', 'Хакасия', 'Усть-Ордынский Бурятский АО', 'Якутия', 'Камчатская область', 'Хабаровский край', 'Сахалинская область', 'Иркутская область', 'Санкт-Петербург', 'Агинский Бурятский АО', 'Алтайский край', 'Краснодарский край', 'Липецкая область', 'Мордовская республика', 'Новосибирская область', 'Тверская область', 'Воронежская область', 'Удмуртия', 'Тамбовская область', 'Коми', 'Карелия', 'Магаданская область', 'Самарская область', 'Ханты-Мансийский АО', 'Саратовская область', 'Нижегородская область', 'Калининградская область', 'Рязанская область', 'Московская область', 'Калужская область', 'Эвенкийский АО', 'Чувашия', 'Вологодская область', 'Кемеровская область', 'Кабардино-Балкария', 'Горный Алтай', 'Ставропольский край', 'Татарстан', 'Владимирская область', 'Ивановская область', 'Белгородская область', 'Астраханская область', 'Смоленская область', 'Ямало-Ненецкий АО', 'Омская область', 'Кировская область', 'Бурятия', 'Псковская область', 'Северная Осетия', 'Костромская область', 'Марийская республика', 'Башкирия', 'Пензенская область', 'Ульяновская область', 'Приморский край', 'Брянская область', 'Красноярский край', 'Дагестан', 'Томская область', 'Свердловская область', 'Амурская область', 'Мурманская область', 'Волгоградская область', 'Челябинская область', 'Курская область', 'Читинская область', 'Новгородская область', 'Адыгея', 'Тульская область', 'Оренбургская область', 'Курганская область'}\n",
      "\n",
      "\n",
      "==========\n",
      "FACT_ADDRESS_PROVINCE\n",
      "{'Ленинградская область', 'Тюменская область', 'Архангельская область', 'Карачаево-Черкесия', 'Москва', 'Пермская область', 'Калмыкия', 'Орловская область', 'Ярославская область', 'Ростовская область', 'Еврейская АО', 'Хакасия', 'Усть-Ордынский Бурятский АО', 'Якутия', 'Камчатская область', 'Хабаровский край', 'Сахалинская область', 'Иркутская область', 'Санкт-Петербург', 'Агинский Бурятский АО', 'Алтайский край', 'Краснодарский край', 'Липецкая область', 'Мордовская республика', 'Новосибирская область', 'Тверская область', 'Воронежская область', 'Удмуртия', 'Тамбовская область', 'Коми', 'Карелия', 'Магаданская область', 'Самарская область', 'Ханты-Мансийский АО', 'Саратовская область', 'Нижегородская область', 'Калининградская область', 'Рязанская область', 'Московская область', 'Калужская область', 'Эвенкийский АО', 'Чувашия', 'Вологодская область', 'Кемеровская область', 'Кабардино-Балкария', 'Горный Алтай', 'Ставропольский край', 'Татарстан', 'Владимирская область', 'Ивановская область', 'Белгородская область', 'Астраханская область', 'Смоленская область', 'Ямало-Ненецкий АО', 'Омская область', 'Кировская область', 'Бурятия', 'Псковская область', 'Северная Осетия', 'Костромская область', 'Марийская республика', 'Башкирия', 'Пензенская область', 'Ульяновская область', 'Приморский край', 'Брянская область', 'Красноярский край', 'Дагестан', 'Томская область', 'Свердловская область', 'Амурская область', 'Мурманская область', 'Волгоградская область', 'Челябинская область', 'Курская область', 'Читинская область', 'Новгородская область', 'Адыгея', 'Тульская область', 'Оренбургская область', 'Курганская область'}\n",
      "\n",
      "\n",
      "==========\n",
      "POSTAL_ADDRESS_PROVINCE\n",
      "{'Ленинградская область', 'Тюменская область', 'Архангельская область', 'Карачаево-Черкесия', 'Москва', 'Пермская область', 'Калмыкия', 'Орловская область', 'Ярославская область', 'Ростовская область', 'Еврейская АО', 'Хакасия', 'Усть-Ордынский Бурятский АО', 'Якутия', 'Камчатская область', 'Хабаровский край', 'Сахалинская область', 'Иркутская область', 'Санкт-Петербург', 'Агинский Бурятский АО', 'Алтайский край', 'Краснодарский край', 'Липецкая область', 'Мордовская республика', 'Новосибирская область', 'Тверская область', 'Воронежская область', 'Удмуртия', 'Тамбовская область', 'Коми', 'Карелия', 'Магаданская область', 'Самарская область', 'Ханты-Мансийский АО', 'Саратовская область', 'Нижегородская область', 'Калининградская область', 'Рязанская область', 'Московская область', 'Калужская область', 'Эвенкийский АО', 'Чувашия', 'Вологодская область', 'Кемеровская область', 'Кабардино-Балкария', 'Горный Алтай', 'Ставропольский край', 'Татарстан', 'Владимирская область', 'Ивановская область', 'Белгородская область', 'Астраханская область', 'Смоленская область', 'Ямало-Ненецкий АО', 'Омская область', 'Кировская область', 'Бурятия', 'Псковская область', 'Северная Осетия', 'Костромская область', 'Марийская республика', 'Башкирия', 'Пензенская область', 'Ульяновская область', 'Приморский край', 'Брянская область', 'Красноярский край', 'Томская область', 'Свердловская область', 'Амурская область', 'Мурманская область', 'Волгоградская область', 'Челябинская область', 'Курская область', 'Читинская область', 'Новгородская область', 'Адыгея', 'Тульская область', 'Оренбургская область', 'Курганская область'}\n",
      "\n",
      "\n",
      "==========\n",
      "TP_PROVINCE\n",
      "{nan, 'Тюменская область', 'Архангельская область', 'Москва', 'Пермская область', 'Орловская область', 'Ярославская область', 'Ростовская область', 'Еврейская АО', 'Якутия', 'Камчатская область', 'Хабаровский край', 'Сахалинская область', 'Иркутская область', 'Санкт-Петербург', 'Алтайский край', 'Краснодарский край', 'Липецкая область', 'Мордовская республика', 'Новосибирская область', 'Тверская область', 'Воронежская область', 'Удмуртия', 'Тамбовская область', 'Коми', 'Карелия', 'Магаданская область', 'Самарская область', 'Ханты-Мансийский АО', 'Саратовская область', 'Нижегородская область', 'Калининградская область', 'Рязанская область', 'Калужская область', 'Чувашия', 'Вологодская область', 'Кемеровская область', 'Кабардино-Балкария', 'Горный Алтай', 'Ставропольский край', 'Татарстан', 'Владимирская область', 'Ивановская область', 'Белгородская область', 'Астраханская область', 'Смоленская область', 'Омская область', 'Кировская область', 'Бурятия', 'Псковская область', 'Костромская область', 'Марийская республика', 'Башкирия', 'Пензенская область', 'Ульяновская область', 'Приморский край', 'Брянская область', 'Красноярский край', 'Томская область', 'Свердловская область', 'Амурская область', 'Мурманская область', 'Волгоградская область', 'Челябинская область', 'Курская область', 'Читинская область', 'Новгородская область', 'Адыгея', 'Тульская область', 'Оренбургская область', 'Курганская область'}\n",
      "\n",
      "\n",
      "==========\n",
      "REGION_NM\n",
      "{nan, 'ВОСТОЧНО-СИБИРСКИЙ', 'ЮЖНЫЙ', 'УРАЛЬСКИЙ', 'ЦЕНТРАЛЬНЫЙ 2', 'ЦЕНТРАЛЬНЫЙ ОФИС', 'ПОВОЛЖСКИЙ', 'ПРИВОЛЖСКИЙ', 'ДАЛЬНЕВОСТОЧНЫЙ', 'ЦЕНТРАЛЬНЫЙ 1', 'СЕВЕРО-ЗАПАДНЫЙ', 'ЗАПАДНО-СИБИРСКИЙ'}\n",
      "\n",
      "\n",
      "==========\n",
      "CREDIT\n",
      "{'4812', '32850', '35750', '15680', '18138', '6910', '54738', '8777,1', '14648', '6504', '26820', '4290', '13441', '23000', '7116', '11710', '3489', '22490', '7516', '8544', '14080', '5694', '4435', '37350', '19210', '49798,1', '28778,3', '21901', '7459', '34335', '21895', '15380', '15440', '14849', '23989', '13447', '11753', '16899', '9160', '33850', '30920', '7867', '9276', '3311', '4923', '3095', '20698', '2072,7', '18450,8', '18573', '60300', '4938', '4202', '16214', '15372', '28172', '11340', '2500', '20610', '15160', '24833', '6525', '5908', '9719', '23865', '5607', '9127', '4230', '20561', '10231', '3442', '13922', '4922', '12059,1', '7980', '13993', '55846', '14680', '28641', '12150', '23663', '79679', '26690', '5749', '15732', '12948', '6545', '4645', '11389,2', '10630', '15960', '13920', '17270', '9647', '8918', '44560', '10757', '6036', '3979', '16507', '10373', '7337', '40180', '21490', '9655', '71400', '18702', '29700', '24103', '3647', '25989', '4462', '5990', '4664', '36350', '14856', '26410', '8346', '31672', '10466', '6799', '18499', '24470', '11030', '4525', '5260', '7395', '6397', '8262', '12650', '4978', '23825', '5285', '23971', '4041,9', '10071', '6700', '18113', '19810', '12720', '49743', '3028', '8110', '5775', '27795', '6585', '2730', '20370', '4004', '13698', '9800', '3868', '5090', '5179', '37100', '6750', '7975', '10450', '16063', '6130,8', '93947', '17329,92', '16105', '10616', '19037,2', '4035,2', '5940', '6189,92', '28600', '9842', '17076,2', '11954', '18246', '12790', '8188,04', '4729,72', '2330', '6470,9', '33097', '12980', '8540', '45500', '5589', '8278', '3789', '25498', '7198', '46729', '35520', '14651', '10737', '16418', '14658', '27360', '10714', '93890', '15292', '21936', '97220', '96490', '28640', '24000', '7473', '20670', '14399', '2633', '88000', '22330', '24650', '30110', '24929', '4671', '11349', '15290', '13421', '12460', '20143', '3460', '10874', '15625', '10860', '17800', '5496', '8980', '19597', '64670', '7135', '6246', '71243', '25940', '20750', '4779', '11429', '15098', '5778', '15759', '6050', '17906', '8874', '24283', '13910', '15340', '11395', '14910', '13489', '9986', '19491', '31610', '14521', '10616,4', '17045', '25641', '5877', '10366', '22803', '30673', '7493', '17752', '2638', '16002', '6449', '23103', '30825', '17865', '3348', '18550', '10233', '6477', '16030', '20298', '3493', '5930', '22299', '6600', '19464', '21688', '17660', '19460', '8487', '3799', '4150,95', '4182', '10970', '2748', '10448', '19560', '21060', '6519', '26280', '10618', '3499', '20530', '11383', '27428', '3750', '4835', '12411', '10097', '10360', '11926', '19945,35', '24897', '11159', '7787', '5966,7', '18553', '9438', '13141', '8491,82', '28845', '12716', '23220', '24502', '6707', '17998,2', '25599', '6840', '13847', '7875', '41211', '2870', '23310', '13520', '5169', '6770', '8067', '12140', '20443', '9268', '24465', '83194', '9790', '36267', '4878', '20000', '7390', '8753', '31833', '21487', '41700', '24750', '15600', '4060', '19522', '10530', '4689', '28170', '7632,92', '29742', '23044', '26774', '37017', '22999', '17251', '6270', '26538', '18498', '4082', '7985', '6766,4', '29345', '12557', '10210', '17043', '22945', '7386,75', '40756', '27570', '24210', '11477', '22927', '7750', '15097', '9977', '23110', '9971,89', '30324', '12246', '20495', '21704', '39160', '7101', '5516', '4460', '22656', '5772', '3929', '8070', '8630', '19079', '5430', '3001', '17170', '15309', '3375', '29592', '28472', '35522', '18096', '5988', '20877', '25150', '28517', '40480', '8793', '3729', '38408', '17098,2', '2151', '10671', '56310', '27550', '11192', '7530', '5715', '31875,3', '9979', '20536', '22100', '39600', '9464', '6024', '22944', '5829', '22214,69', '6377', '11990', '7621', '16530', '8940', '8912', '3199,2', '10394', '13278', '5440', '16830', '3245', '16428', '21146,4', '32292', '15102', '13390', '15638', '7812', '30200', '25020', '17995', '7092', '31466', '11392', '10512', '24070', '5931', '27645', '25211', '8829', '26865', '12833', '7132', '13780', '22589', '4816', '12097', '25662', '8095', '2947', '11760', '9998', '24881', '6782', '44900', '5724,2', '31716', '78120', '25898', '18962', '30520', '36730', '13999', '15165', '11240', '17360', '27990', '97000', '6330', '23395', '21948', '12228', '12799', '4720', '29948', '6538', '21974', '16045,2', '4610', '2569', '7349', '8883', '50000', '30197', '5849', '14331', '5761,9', '13653', '8638', '10591', '13386', '21809', '7892', '41397', '28580', '73996', '10497', '5219', '34280', '7335', '16800', '17615', '11286', '27260', '3123', '24200', '32580', '21496', '7609,5', '12608', '7949', '4292', '14350', '88312', '7140', '27680', '25250', '4905', '10330', '5857', '14998', '26479', '51370', '7201', '9971,3', '11779', '25625', '23689', '18204', '17510', '16470', '18240', '15070', '20536,1', '35775', '4966', '7848', '10925', '4248', '18517,1', '38778,01', '3651', '3528', '6460', '8129', '5482,3', '24552', '8690', '6118', '22070', '9985', '16669', '16280', '12290', '26886', '4312', '22384', '4633', '7900', '26150', '25900', '4319', '25515', '7978', '25960', '9090', '89018', '13469', '24280', '16364', '7977', '5220', '31680', '86900', '6191', '4996,8', '7845', '12554', '5818,5', '29600', '11690,91', '25179', '6105', '9573', '10617', '39800', '14044', '9994', '6950', '60888', '9430', '26330', '5634', '16848', '12170', '14196', '42228', '3906', '19301', '4710', '32844', '27939', '19990', '12598', '4949', '15856', '6692', '19145', '8250', '7998', '2200', '20660', '16250', '23715', '4998', '31587', '4652', '14356', '19830', '10245', '6507', '38880', '7790', '14646', '14168', '11977', '2241', '2691,9', '19809', '5426', '29858', '6496,1', '2936', '20620', '58500', '7642', '14639', '9370', '8988', '21398', '23391', '8755', '4775', '61920', '13620', '26339', '23608', '4241', '16160', '16512', '18209', '4729', '25881', '4810', '13785', '24120', '15806,5', '8870', '49490', '3730', '4638', '26329', '23792', '4746', '15269', '23259', '17760', '20520', '21312', '15887', '19439', '43631', '23499', '12843', '45160', '10022', '14678,63', '8047', '6546', '4148', '22980', '13263', '28055', '19929', '16870', '14461', '20565', '7630', '10990,94', '7404', '17476', '13326,5', '5570', '6329', '6420', '24459', '11305', '27670', '18725', '10000', '13580', '8308,35', '14890', '13360', '42930', '13491', '29877,3', '8068', '5020', '23735', '5018', '17280', '9034', '10500', '7590,31', '4089', '3895', '9264,69', '28110', '4132,5', '20498,1', '32540', '29234', '5270', '78150', '6559', '16975', '30597', '30198', '20431', '15293', '5051', '5199', '2872', '21784', '9080', '23999', '18460', '29052', '4595', '3076', '8700', '4994', '4726', '2957', '13336', '3850,85', '14387', '6620', '21717,92', '9007', '10782', '11916', '4838', '29830', '10830', '62800', '6000', '11498', '24580', '14724', '9042', '13730', '27372', '11489', '7160', '6299,2', '19720', '7917', '17049', '22394', '2380', '13890', '27796', '7357', '34396', '12872', '5088', '24795', '14574', '10990,91', '4870', '6273', '24667', '7470', '14456', '16740', '16489,9', '14197', '12061', '16859', '9536', '40824', '25140', '96860', '17010', '8424', '3619', '20753', '5155', '16657', '17575', '18799', '5405', '4239', '4221', '4452,91', '22761', '6182', '3834', '41210', '39780', '21595', '10319', '3983', '81612', '3898,1', '15912', '25260', '34466,4', '11480', '3059', '15215', '33100', '14580', '16005', '2676', '4773', '6291', '25720', '4826', '4115', '9799', '11322', '15859', '7749', '5253', '17200', '7890', '11751', '3660', '11748', '29443', '5921', '12443', '3663', '7547,2', '3089', '19593', '13992', '45952', '28932', '5408', '16480', '36260', '21105', '7920', '19490', '15084', '23750', '6263', '9019', '8241', '16080', '11955', '18940', '15748', '6250', '4984', '21220', '13498', '28162', '13148', '5198', '13615', '6255,15', '9880', '16948', '23706', '12398', '17545', '4947', '3103,2', '8102', '16194', '16450,71', '3385,83', '19877', '26260', '6023,7', '8398', '10410', '9504', '12749', '39830', '99308', '10854', '16500', '5832', '8846', '98644', '58490', '19100', '4599', '19341,2', '2007', '32819', '17716', '29898', '20379,5', '15363', '29650', '18318', '2360', '79770', '26543', '26090', '23749,76', '15010', '2800', '20640', '35825', '7620', '10347', '11269', '8118', '12822', '24145', '10001', '17075', '4430', '29475', '40313', '7760', '11970', '9468', '23437', '42436', '37360', '3516', '21237', '12060', '10879', '18217', '13221', '10938', '15035', '5391', '32617', '34700', '9550,82', '56340', '16491', '11615,4', '38070', '21160', '5645', '23121', '9072', '8550', '6522', '5238', '11441', '5835', '9600', '17860', '6058,1', '12318', '28039', '16687', '16880', '15930', '29040', '24923', '24408', '16691', '16141', '25732,2', '7360', '20575', '12427,1', '50098', '6347', '3600', '16107', '23347', '3880', '8720', '5450', '8785', '22650', '6075', '7578', '5827', '28402', '7020', '10755', '12320', '3330', '26818', '67950', '14611', '30190', '6570', '23985', '31333', '8006,1', '6452', '37656', '21700', '23595', '39254', '18777', '31538', '3328', '30980', '37456', '19404', '18899', '12499', '15096', '13899', '12800', '5708', '16218', '5750', '45280', '13846', '7982', '17453', '4572', '4999', '19991', '6400', '9467', '13948,2', '13998', '7431', '8185', '26300', '21450', '16317', '12310', '33459', '22490,91', '16278', '14390', '6099', '31020', '3040', '17388', '15658', '3396', '12283', '27500', '6787,8', '3500', '18144', '36805', '3185', '5550', '15788', '13430', '23954', '29905', '19610', '20390', '9730', '2797', '31294', '27370', '6165', '6386', '9021', '18260', '12848', '53162', '26380', '9837', '45900', '3717', '7259', '12910', '22550', '4290,95', '18340', '5938', '32508,2', '8530', '4680', '4039', '13959', '16750', '4031', '6904', '21866', '13496', '32499', '21216', '28310', '21960', '30729', '3614', '16910', '20768', '2189', '9899,92', '4589', '22145,1', '28790', '24980', '21000', '10496', '7550', '22528', '10575', '6039', '16860', '7247', '22799', '21190', '4648', '19224', '13139', '16698', '26174', '3296', '11039', '43515', '30837', '7763', '6290', '8373', '9061', '28728', '6960', '3919', '10350', '18724', '12315', '98136', '8453', '6269', '18720', '20960', '13889', '25508', '26930', '22616', '19670', '4139', '5879', '12953', '25627', '17873,75', '4262', '7649', '2440', '16099', '8381', '15904', '23575', '31792', '6867', '6935', '19611', '28247', '15555', '11135', '21069,8', '18045', '8901', '14500', '87570', '5625', '17439', '6020', '15985', '7741', '8430', '7181', '24059,83', '32293', '7839', '5150', '4377', '34500', '28098', '5817', '39500', '12998', '17425', '11898', '4785', '59009', '13921,52', '4608', '7047', '4900', '29012', '31509', '21770', '31499', '13728', '38406', '38700', '8299', '12250', '26080', '6647', '19572,1', '4852', '27950', '2879', '7376', '13830', '25340', '37450', '9793', '6297', '11601', '18510', '32114', '8099', '21648', '15547', '6757', '8097', '12510', '22097', '8377', '12380', '3570', '9545', '29612', '10429', '20863', '26450', '3940', '12835', '22670', '15389', '22848', '5977', '9538,9', '11725', '28210', '23268', '44225', '12447', '60000', '23040', '7486,1', '13254', '4640', '32076', '15940', '6096,13', '13302', '24330', '19324', '3039', '21570', '6071', '19143', '12996', '27149', '7336,3', '23170', '17648', '83407', '11799', '8225', '7570', '6660', '17112', '10935', '30196', '21640', '21999,2', '27270', '13934', '9990', '5465,26', '9899', '12655', '22225', '11195', '35332', '14916', '5800', '10555', '8396', '26490', '43373', '13018,1', '14498', '3275', '14593', '12745', '10795', '10442', '4904', '2599', '28970', '38830', '12495', '9298', '6480', '29094', '3109', '10790', '11426', '3063', '22361', '9526', '14107', '3820', '5389', '14925', '7272', '27449', '35000', '11674', '5265', '25480', '16897', '4458', '6202', '24275', '20979', '9970', '7498', '38625', '2889', '4257', '24940', '3950', '39276', '11786,85', '9825', '11529', '9789', '23850', '3195', '3110', '21506', '10570', '7595', '15099', '5755', '32387', '32280', '2050', '42335', '10193', '14947', '20856', '7194,72', '15279', '3540', '11648', '22640', '6597', '7443', '21690', '43200', '6461', '4725', '28208', '14420', '14380', '14489,2', '14820', '18934', '50970', '63000', '21665', '12899', '18999,2', '3376,8', '30418', '28983', '9069', '15100', '7340', '6311', '5780', '21710', '96000', '21619', '50568', '18150', '6217', '15034', '19800', '12428,7', '8619', '14660', '16040', '7327,8', '46600', '3190', '19660', '47789', '11293', '11499', '19489,91', '35787', '13265', '27714', '18800', '11302', '8406', '4103', '11995', '28850', '4841', '84500', '12959', '19296', '10088', '12762', '11323', '2950', '15619', '46000', '18450', '13087', '30100', '27995', '26910', '14980', '28900', '34804', '4498', '13690', '6900', '13409', '23197', '15730', '18972', '17203', '7137', '18490,91', '22300', '3195,9', '63320', '11300', '4188', '10400', '25829,1', '23661', '7180,9', '7100', '23772,27', '7639', '40700', '9452,97', '28417', '6885', '17263', '10900', '6199', '31702', '4280', '17324', '53499', '21910', '5760', '27490', '13020', '5353,5', '3048', '20190', '3530', '16390', '28500', '13380,56', '21750', '3280', '10216', '5185', '8102,08', '16979', '5899', '4804', '20280', '37400', '11565', '14243', '18239', '11876', '10525,01', '76300', '5869', '11754', '10980', '22188', '22781', '21083', '3305', '5211', '4860', '5222', '6838', '71740', '30361', '17594', '35960', '11048', '3565', '12289', '19289', '31490', '6256,8', '8617', '41936', '2600', '27124', '31070', '21985', '11389', '14993', '35770', '19883', '44500', '15190,5', '47529,91', '4882', '9570', '16649', '96200', '13009', '25491', '4040,1', '15789', '45750', '6747', '2572', '2009', '8117', '4580,92', '7735', '15647', '20653', '32940', '25227', '8658', '16285', '26241,6', '28684', '5580', '74690', '11154', '14690', '22750', '5606', '21062', '17789', '11687', '13727', '12465', '55174', '18648', '12868', '42950', '16950', '22139', '9995', '13860', '3943', '11434', '3680', '8920', '8604', '27860', '33400', '51000', '2435', '11227', '24059', '28350', '2781', '12435', '58640', '8880', '16350', '5847', '11126', '22947', '13267', '9500', '22121,1', '5309', '22830', '9420', '6998', '7307', '21320', '5328', '14994', '27510', '15512', '9597', '5298,1', '24760', '30820', '11949', '5355', '5555', '15685', '32750', '15036,21', '11842', '4372,2', '9189', '29707', '35360', '3555', '3143', '12236', '26999,2', '17460', '5912', '28842', '5970', '10113', '26276', '17880', '19550', '7908,1', '10265', '41620', '10992', '30630', '6560', '7954', '22124', '10020', '84000', '24399', '5409', '4842', '25122', '34900', '29390', '11600', '8180', '5019', '30340', '22635', '17509', '17956', '17400', '6510', '28530', '5880', '2447', '7147', '5988,46', '10820', '4398', '17820', '4040', '14770', '5867', '14700', '15653', '7017', '31596,92', '3955', '8064', '20424', '9230', '3515', '10342', '26054', '3294', '4013', '32348', '12099,1', '8220', '21550', '24858', '6792', '4212', '19500', '12038', '16063,29', '10420', '8833', '5670', '2000,51', '3100', '41170', '12572', '13689,86', '15230', '73230', '18881', '12110', '13530', '33678,2', '4890,2', '12189', '3308', '18490', '2578', '8556', '4741', '9425', '23944', '8049', '15220', '21218', '10048', '7209', '25920', '3299', '3827', '19005', '31498', '12898', '19316', '23800', '10999', '10158', '8899', '16257', '5431,2', '5937', '26379,91', '31450', '31694', '5078', '2075', '8298', '17430', '21286', '30000', '18250', '24035,5', '11280', '21240', '24199', '5390', '11080', '5706', '6103', '17130', '3069,9', '25727', '23230', '7874', '16081', '17714', '5268,47', '20294', '22672', '13965', '10668', '25199', '26920', '4743', '22747,4', '62700', '3520,8', '41500', '22000', '33660', '7236', '11100', '12260', '8025', '15975', '26708', '20046', '4493', '15910', '20698,1', '9251', '21999', '3942', '6699', '11986', '7422', '7632', '10280', '3670', '12159', '13078', '49860', '40080', '13918', '42746', '8033', '11321', '3535', '4018', '11385', '4021', '3006', '23950', '12816', '50879,83', '10910,6', '5448', '4650', '10188', '9749', '14144', '61915', '16380', '23355', '10529', '4590,2', '59629', '16000', '21724', '10262,2', '3050', '4858,1', '24223', '17099,1', '33990', '13678', '35992', '3748', '13689', '22167,6', '13750', '7715', '3561', '10422', '4000', '25050', '22536', '27971', '13456,82', '12280', '3654', '7317', '14460', '6192', '21300', '27350', '17605', '3271,5', '71500', '2190', '11303', '22969', '31730,91', '5504', '6380,91', '7677', '6529', '9398', '9098', '5110', '23945', '23459', '4440', '11167', '2065,5', '45000', '89640', '7891', '8233,95', '21328', '23094', '9830', '14860', '24179', '15226', '16660', '18850', '10648', '99313', '6567', '19843', '26590', '13720', '16715', '19498', '13671', '3061,45', '88555', '23990,83', '17091,9', '46385', '6282', '20375', '7556', '6783', '10536', '20086', '16977', '8597', '33978,63', '14204', '12908', '48700', '29177', '2499', '35097,66', '11880', '83871', '29478', '3310', '10805', '13688', '15430', '8169,55', '11560', '6697', '20252', '5840,5', '8943', '25540', '15621', '15740', '27518', '3130', '70300', '2125', '16990', '27498', '27880', '20980', '30799', '6125', '3067', '17966', '15690', '19200', '15810', '22302', '38850', '17888', '17804', '27854', '21994', '7870', '13700', '24370', '10837', '6430', '4592', '11266', '10690', '17980', '3874', '23647', '13332', '15079,91', '4934', '13669', '6435', '14060', '10735', '11020', '2679', '4869', '86041', '8825', '25980', '22798', '17390', '34295', '73306', '7410', '32415', '13897', '11396', '25765', '19620', '9810', '12090', '9538', '14965', '16011', '22599', '6345', '17279,2', '4100', '5351', '3630', '13776', '9652', '8499', '10855', '52250', '13294', '17538', '34020', '7650', '23517', '15314', '4021,92', '15890', '18538', '37200', '44440', '18896', '22896', '9053', '23680', '12884', '4500', '3700', '5680', '9997', '10240', '6651', '11223', '9260', '42669', '9287', '13216', '69188', '3134', '21589,9', '10767', '23400', '16039', '10423', '20939', '6925', '3440', '20053', '4059', '25683', '24270', '94300', '5364', '5304', '2224,8', '98996', '36701', '10646', '12251', '7128', '5678', '14279', '4653', '12400', '53000', '7088', '19734', '4077', '59590', '31646', '18590', '4390,91', '6793', '5928,1', '5239', '10021', '4169', '2489,4', '11730', '7513', '40581', '4125', '16362', '25200', '10090', '26489', '11317', '8849', '5377', '8717', '20133', '2439', '6360', '19513', '11428', '5259', '5299', '15199', '20169', '5267', '23451', '6170', '47223', '14760', '11855', '22082', '10440', '24423', '7500', '5661', '8285', '18197', '17790', '18399', '25492', '22951', '15843', '6675', '20820,2', '25588', '7291,85', '7157', '37235', '3238', '3538', '10352', '25271', '22324', '28431', '13641,3', '62100', '34479', '3681', '15150', '3060', '25623', '18730', '8754', '3744', '33192', '27706', '3784', '21827', '6379', '2745,9', '18068', '11968', '5730', '21915', '38300', '21760', '30974', '16680', '12310,91', '4596', '6200', '10990', '17546', '14110', '8311,29', '11650', '8771', '11298', '11398', '19177', '13230', '17593', '17184', '17231', '19977', '3015,2', '10084', '51685', '3602', '4744', '22881', '70360', '20583', '20220', '24301', '11490', '13010,94', '10523', '27820', '5987', '26315', '18707,1', '3270', '15480', '4896', '6429', '23124', '7829', '2595', '52000', '15360', '52561', '23100', '12803,4', '5207', '10163', '28016', '7210', '4910', '15246', '7022,7', '6983', '8680', '9498', '44290', '2690', '9130', '18304', '17496', '24340', '11550', '15822', '5757', '6139', '13021', '18610', '9338', '12195', '2350', '8788', '3320', '6520', '8405', '17372', '4919', '8515,7', '22269', '3861', '22293', '13229', '22499', '19627', '72000', '16700', '4311', '11930', '14800', '10238', '5288', '94330', '4911', '15565,5', '7755', '20874', '10759', '46649', '22398', '31474', '11853', '2048', '6260', '26120', '31014', '24840', '26060', '12549,07', '11890', '21265', '14450', '5688', '33510', '5070', '35563', '6556', '7563', '4330', '6060', '64660', '3897', '25937', '11672', '9340', '19746', '12197', '38553', '22090', '61832', '7077', '18578', '25584', '14490', '22495', '15582', '23204', '5531,8', '10853', '16544', '35640', '9899,1', '13389', '22080', '10061', '28800', '2979', '19983', '3616', '37881', '2940', '14798', '45863', '4617', '24362', '7880', '20381', '75500', '7063', '23552', '6930', '61600', '10785', '31560', '12136', '35530', '4641', '12130', '6346', '24844', '13570', '4869,66', '8610', '9450', '11394', '18689', '21498', '21009', '21592', '35400', '35669', '19897,1', '16998', '77000', '19529', '19938', '18906', '11583', '23057', '7098', '28460', '3141', '16284', '6982', '6475', '4349', '9031', '21990', '17630', '20295', '9980', '75535,08', '30999', '13136', '14200', '26397', '7460', '27208', '97026', '24160', '31278', '16370', '26140', '20477', '3434', '14960', '18389', '15090', '8140', '41990', '30300', '20720', '4995', '38800', '17549', '65629,5', '17190', '12628,91', '6875', '12511', '11202,3', '14090', '49750', '17398,2', '27925', '36136', '6696', '10381,5', '17650', '11755', '4918', '5366', '24983', '8380', '23390,91', '7968', '10300', '23280', '16425', '3340', '9295', '3322', '13321', '11960', '27790', '13240', '21650', '18140', '8148', '82800', '25870', '12600', '98030', '16150', '13366,2', '5231', '50652,94', '13872', '5889', '27369', '15556', '20317', '27990,91', '18668', '9791', '13489,91', '16620', '11778', '4122', '18380', '89200', '18290', '10870', '15795', '5240', '14148', '24768', '70500', '5870', '27816', '13850', '9270', '6698,3', '19457', '7660', '14619', '5806', '9390', '23147', '19805', '8445', '30220', '19400', '20943', '29037,12', '14840', '10590', '12734', '14013', '11034', '6247', '3033', '8011', '19320', '23539', '10779', '11748,2', '8295', '17099', '16064', '23202', '24675,85', '8694', '11768', '22617', '19993', '20646', '5614', '5757,1', '18810', '16065', '4930,95', '26740', '6210', '13312', '13895', '18740', '29070', '9546', '22098', '8508', '4767', '26642', '9876', '18350', '11536', '27313', '11996', '11920', '8490,92', '2498', '9720', '7370', '15790', '3617', '31800', '2489', '30600', '8034,2', '21624', '5740', '2060', '16330', '12365,2', '19880', '16961,1', '19470', '4963', '5280', '17320', '12870', '6834', '27780', '8598', '12737', '7605', '8438', '15984', '2570', '4788', '6189,3', '17838', '4281', '5176,8', '5296', '23166', '24263', '21580', '11063', '5949', '26430', '5023', '3370', '9224', '3599', '12950', '14397', '2899', '14215', '4754', '3770', '20050', '43996', '18632', '10528,3', '29490', '27637', '25520', '15320', '16547,3', '11270', '3492', '33476', '6892', '12860', '14469', '9991', '5575', '27700', '23399,2', '15017', '7313', '17955', '13438,3', '3701', '4454', '22430', '6089', '3429', '11199', '14765', '9457', '32100', '21762', '3580', '10706', '4611', '23406', '21980', '7032', '8811', '37480', '2495', '22560', '6991', '2629,8', '20237', '13780,82', '8050', '18187', '19795', '12309', '22244', '92000', '9447', '15784', '27298', '6969', '4208', '2792', '20751', '17624', '52200', '16245', '23410', '3894', '6959', '45820', '29677', '5077', '31502', '13420', '6309', '5798', '6186,7', '6580', '28421', '8416', '12210', '5936', '2529,61', '16605', '19116', '18670', '37818', '36086', '23840', '3464', '6100', '26928', '29205', '25406', '21042', '8640', '36900', '17991', '86618', '15880', '4550', '19950', '6758', '4489', '14338', '19959', '17379,99', '26499', '30224', '22870', '9801', '5871', '40490,91', '7299', '25587', '7319', '24506', '7480', '11642,3', '11230', '12797', '21940', '18329', '6552', '26596', '5119', '6575', '3885', '16189,4', '4491', '4935', '3870', '19689', '23790', '11445', '14999', '9219', '14205', '23290', '35100', '3745', '7060', '12616', '5510', '23890', '5419', '16940', '16701', '14847', '7713,42', '21660', '3999', '4168,8', '10680', '13200', '16796', '23475', '2934', '18654', '7230', '12019', '76738', '10230', '6721', '20598', '10640', '5436', '8718,1', '8790', '46156', '5602', '29690', '46960', '17330', '18780', '41000', '31221', '17050', '27934', '8648,5', '2150', '75581', '12328', '10331', '3674', '37560', '5279', '17505', '6893', '41021', '3894,2', '23737', '26321', '7788', '24490', '77210', '4190', '19044', '16879', '34120', '25290', '13921,36', '11236', '54700', '31255', '5149', '35529', '19184', '19085', '22290', '3989', '3200', '4265', '13825', '13695', '9754', '8641', '17795', '24871', '9670', '25749', '8595', '8698', '10538', '17340', '22236', '8800', '8370', '22317', '9689', '8322,77', '8744', '13623', '2974,15', '27781', '22570', '16991', '15291', '20400', '26555', '2745', '2421', '9960', '25447', '21736,2', '6790', '13250', '11175', '28950', '43732,8', '6088', '14948', '15045', '3703', '4540', '23370', '3070', '25240', '13302,83', '14688', '10499', '3598', '10471', '14796', '24647', '7588', '15670', '23711', '80000', '5105,7', '6193', '19547', '10248', '19860', '26871', '20263', '9009', '7105', '49100', '15832', '13566', '60829', '2928', '25840', '7224', '8581', '15336', '4476', '7745', '5955', '9606', '5742', '73300', '19497', '12550', '5960', '17530', '30455', '5660', '88440', '83000', '23300', '4293', '8999', '6561', '19080', '19286', '25812,5', '9375', '20820,44', '4885', '27480', '3301', '8056', '14747,1', '23700', '5197', '8260', '7990', '10348', '4701,6', '14989', '12590', '14480', '28238', '22515', '6819', '32650', '9515', '4756,5', '6605', '6779', '24700', '3690,82', '4607', '51750', '31015', '21673', '9371', '10968', '23659', '32450', '25800', '16300', '30350', '15820', '34695', '7510', '30299', '27846', '15016', '18115', '5398', '5639', '44760', '7110', '7348', '22410', '5242,3', '87673', '11430', '25167', '3231', '35060', '11487', '18960', '17316', '17613', '18463', '15998', '28090', '21730', '11990,95', '4892', '5445', '15518', '10315', '30590,92', '3959', '15624', '20659', '46881', '6690', '5681', '21802', '41929', '11519,1', '19765', '17895', '8398,1', '15482', '13030', '3138', '13599', '2372', '36177', '14493', '17503', '13060', '23780', '18631', '5345', '7711', '19700', '3501', '13433', '6979', '30230', '10495', '10584', '3996,9', '15214', '21380', '4056', '27180', '9325', '5128', '9422', '18230', '10116', '10697', '15771', '3547,42', '7799', '24835', '14560', '4189', '28186', '16447', '13960', '5700', '2831,97', '3167', '24778', '21038', '15127,4', '26395', '49227', '21845', '6093', '30826', '19920', '3033,9', '6491', '11070', '3093', '21270', '16627', '16358', '22160', '2470', '23830', '17811', '33725', '20925', '4410', '7499', '32397', '7509', '7780', '4986,5', '13793', '4624', '18060', '13719', '17459', '10775', '34766', '4428,1', '20999', '26790', '20609', '16052', '17039,91', '3779', '27900', '2183', '34499,2', '41100', '12730', '30615', '15863', '20580', '11691', '6749', '11817', '18471', '11330', '44030', '3869', '9748', '5300,9', '19189', '5568', '10605', '74466', '6201', '86071', '17900', '3900', '12789', '17272', '2610', '11808', '5488', '6883', '25460', '3128,2', '19011', '2998', '3023,58', '24950', '5508', '2240', '20650', '5560', '27800', '3560', '52295', '27356', '22194', '22600', '7511', '80973', '20790', '5588', '81423', '10773', '10490', '4899', '43353', '26440', '18185', '6168', '18495', '11936', '13999,2', '27501', '7858', '14880', '12080', '6906', '4268', '24132', '10100', '11130', '2955', '3990', '8770', '3735', '2088', '18210', '4499,2', '24570', '15470', '15245', '3168', '17089,9', '3792,92', '4968', '5721', '28565', '9315', '5789', '9931', '28059,81', '11600,6', '2599,2', '9728', '14891,92', '11219', '31200', '49653', '2268', '13356', '26400', '16690', '17399,2', '14391', '3816', '4284', '12541', '12509,9', '8547', '7610', '11590,92', '13495', '3980', '87600', '19089', '5794', '7380', '20393', '6070', '5247', '9480', '7988', '19008', '50400', '34148', '4252', '15247', '12206', '34390', '32000', '3935', '16571', '12366', '5290', '30738', '16519,02', '13001', '17775', '13745', '33570', '28242', '14609', '18990,5', '33920', '12478', '8435', '24295', '8412', '33120', '9395', '9614', '11488', '5500', '7229', '10670', '16704', '21279', '27000', '7997', '6624', '21899,94', '10058,5', '3240', '16773', '4879', '21654', '30360', '26500', '17901', '19520', '12490', '9342', '21382', '18910', '12514', '5748', '16485', '9278,1', '12782', '18497', '18280', '28273', '9290,91', '3898', '10998', '11877', '10898', '14481', '59760', '14031', '20833', '8633,7', '2635', '13710', '13490,2', '33340', '11376', '29065', '13792', '13450', '16999', '18898', '28775', '15840', '29691', '7919', '25386', '7040', '3430', '25600', '3711', '18358', '59398,2', '21920', '2580', '16880,91', '2243,7', '15720,91', '18000', '6381', '23745', '13199', '13315', '4469', '22530', '5592', '8149', '6720', '10479', '11189', '3854', '3149', '18643', '23478', '27062', '5210', '7558', '5669', '29266', '4380', '6295', '31050', '14193', '16060', '4328,1', '38000', '19736', '8762', '23720', '6205', '7040,92', '4750', '15350', '3998', '16736', '20480', '36194', '3575', '14201', '5025', '11529,91', '14600', '39020', '45034', '62468', '2263', '8997', '15003', '4827', '24357', '14717', '4700', '10655', '3553', '29006', '12546', '14020', '22498', '17911', '23009', '28890', '11290', '7869,61', '15164', '9557,1', '6469', '17826', '4560', '15920', '6127', '16621', '36290', '19343', '28450', '3800', '26961', '3497', '14396', '10789', '5083', '38810', '22210', '29699', '20488', '11850', '51700,5', '21930', '19475', '4510', '5292', '11289', '12100', '5129', '15503', '24450', '26055', '27450', '11455', '33450', '16227', '27945', '9150', '4970', '29590', '74319', '19140', '20990', '40000', '15806', '9621', '20789', '79200', '4752', '65747', '29630', '16501', '4212,9', '14598', '30420', '6999,3', '4845', '8603', '2759', '16598', '19410', '8116', '25350', '2691', '11060', '21505', '20297', '11830', '20630', '10520', '15147', '8570', '15599', '7381', '27166', '5103', '4120', '33830', '44690', '19120', '17398,1', '22960', '17592', '19350', '16098', '26547', '6411,72', '3448,8', '4048', '2389', '17490', '8020', '13815', '8850', '56673', '7598', '22168', '5738', '7433', '47309', '13006', '6499', '6578', '44660', '23684', '3335', '29430', '11598', '24389', '4548', '24047', '21481', '6739', '6745', '24131', '18535', '27620', '37150', '14284', '25783', '18040', '4088', '24100,83', '9412', '17110', '5350', '4982,4', '9664,5', '19130', '22323', '35201', '21500', '44700', '4020', '18895', '13016', '21408', '26051', '14510', '4110', '31491', '11405', '12345', '4365', '36308', '13301', '34000', '23108', '5472', '13887,68', '16180', '6630', '18700', '2135,14', '23146', '12990', '10354', '29388', '6228', '19250', '10374', '70410', '3909', '18667', '65250', '17896', '5097', '6399', '19976', '14349', '40499', '22230', '8763', '4840', '13507', '6639', '51570', '7847', '18130', '31588', '9738', '2844', '15704', '17640', '25420', '5936,81', '21889,92', '3731', '25158', '35450', '5790', '8399', '54105', '4619', '26099', '9396', '3356', '16170', '10548', '8725', '17308', '71600', '7174,6', '11440', '7991', '6698', '38340', '6712', '29285', '8076', '17025', '14320', '5900', '2700', '5080', '12818', '11188,14', '33030', '19417', '7838', '13387', '3390', '24970', '15889', '13115', '13155', '9759,4', '10800', '9620', '12599', '2152', '4362', '15900', '27446', '85270', '19710', '3031', '7752', '19278', '26875', '14787', '22040', '27248', '4370', '14295', '6495', '7084', '14065', '49838', '8998', '8492', '6584', '6990', '29199', '19567', '19760', '23358', '9870', '11115', '27810', '26485', '15640', '9845', '15560', '6489', '13184', '10445', '3411', '9973', '8500', '4642', '7679', '5684', '15927', '17080', '11989', '5751', '16985', '2799', '13926', '21464', '6958,92', '6138', '20242', '10021,5', '3840', '13740', '41730', '8047,1', '11690', '16367', '26760', '27096', '28933', '13300,91', '21870', '9809', '32500', '7581', '25830', '5913', '15347', '10274', '7580', '12506', '8253', '20490', '28341', '6540', '4160', '23393', '11646', '4843', '40410', '25998', '28755', '23912', '32800', '22050', '15237,1', '9176', '3385,92', '4575', '25640', '21355', '20249', '10506,76', '12410', '3480', '8235', '16420', '32525', '9360', '10803,84', '26650', '6880', '17325', '21207', '12284', '21350', '7863', '11927', '13670', '6298,6', '13140', '38108', '10295', '9444', '34891', '7454', '15705', '23696', '6865', '37466', '6374,78', '13090', '17060', '31726', '24367', '20324,92', '9443', '16100', '29336,4', '5099', '26138', '39450', '10060', '12262', '26337,6', '9950', '10989', '12780', '10675', '2871', '17276', '30050', '3300', '3786', '39690', '4436', '36617', '19650', '3314', '12211', '14921', '39240', '6848', '7996', '10490,91', '32200', '18549', '29470', '12940', '7560', '17997', '8644', '3890', '28781', '34650', '4297', '5768', '34190', '3034', '17770', '19280', '5400', '8198', '8441', '13635', '12454', '14891', '13100', '24605', '2259,9', '8580', '16169', '5963', '9525', '16960', '35683', '14443', '11296', '5505', '5487', '17000', '14292', '4967', '51200', '4170', '11000', '11466', '11871', '4199', '11580', '19169', '22590', '10991', '19129', '13448', '22105', '7066', '34740', '2699', '3337', '2119', '3419', '15450', '17631', '14528', '23050', '5050', '10340', '14495,35', '24380', '16114', '19205', '5449', '20268', '2751', '18162', '5718', '8204', '7336', '26990', '25740', '17690', '3717,9', '22320', '22110', '46540', '17111', '8369', '14185', '76730', '8780', '11589', '27234', '26346', '12239', '5712', '25400', '7769', '17704', '27005', '29661', '18206', '6789', '16849', '38250', '13320', '12173', '9534', '6918,34', '42689', '15616', '16389', '16020', '5773', '17595', '10734', '4072', '6419,78', '22180', '6327', '3725', '3420', '11910', '16865', '18361', '25999', '19590', '60500', '28502', '45665', '23882', '62000', '21927', '18400', '5456', '34806', '9429', '5820', '37880', '16616', '5540', '34422', '3545', '5480', '6056', '12829', '4290,91', '32700', '18027', '6209', '27886', '10665', '2704', '92951', '11539', '11958', '2860', '25278,14', '10320', '22390', '22905', '13275', '4217', '4186', '12784', '13039', '20310', '5548', '6129', '10610', '12029', '20160', '10089', '34150', '19905', '14260', '4320', '14006', '7011', '8190', '77762', '9990,91', '2412', '14100', '13488', '29500', '22692,96', '78000', '4563', '5005,8', '5859', '25385', '19839', '4555', '13679', '8806', '11790', '4769', '6539', '7385', '13400', '7586', '10290', '14625', '20433', '12672', '27980', '17572,68', '22920', '32706', '93400', '7368', '26641', '18999', '27850', '23784', '5530', '5095', '6299', '8230', '3910', '37016', '15290,7', '4945', '14004', '22240', '5195', '18692', '37500', '9855', '6939', '26461,91', '21840', '23396', '5295', '7582', '15520', '7090', '11980', '10339', '72890', '21510', '9456', '25459,3', '10910', '5230', '10672', '14990,95', '4542', '21814', '12670', '7551', '21685', '6748', '57593', '22400', '15883', '22711,21', '15830', '9533', '100000', '17839,92', '7452,4', '12348', '7400', '7425', '64500', '19840', '12849', '11456', '12919', '7776', '7089', '12840', '13122', '10147', '11800', '11660,93', '2028,56', '9246', '20430', '23185', '21050', '11021', '17361,76', '13455', '19235', '13649', '6863', '20700', '13173', '3239', '34905', '9128', '24198,2', '5339', '21124', '11295', '6903', '74700', '3470', '10413', '22900', '18006', '32370', '23152', '20767', '35900', '10760', '17450', '2099', '10508', '4490', '23758', '6561,9', '3848', '70000', '4240', '10770', '33330', '15027', '9820', '28922', '22140', '5064', '13550', '35035,2', '18547', '39865', '26379', '60720', '13463', '6809', '20475', '61540', '4291', '3899', '23760', '20540', '6289', '23351', '8699', '7228,2', '5455,8', '32335', '29880', '94358', '7645', '16634,5', '7515', '14000', '17310', '22338,94', '30390', '13835', '7112', '8929', '7667', '13748', '13355', '7590', '21771', '7766', '35580,91', '10080', '14940', '5599', '11055', '6004', '5710', '19390', '10430', '3415', '7151', '63700', '19083', '8000', '10046', '22588', '10052', '35700', '30599', '6166', '31990,6', '8268', '4576,5', '13350', '25897,4', '6115', '25983', '14527', '10150', '20155', '9956', '9654', '5759', '19899', '8639', '24867', '28338', '39900', '3824', '24475', '11750', '50330', '8244', '17649', '16272', '16198', '10699', '12290,94', '7589', '3140', '27589', '30813', '21778', '6181,09', '10890', '21290', '15393', '6741', '11470', '5031', '11750,31', '8830', '17399,1', '3230', '3312', '6999', '15700', '8188', '30990', '8978', '12810,94', '5032', '19358', '3392', '42300', '29697', '11637', '6109', '6272', '8977', '4580', '55000', '22233', '17962', '10580', '13930', '8606', '50020', '29933,4', '12598,1', '11635', '10650', '26890', '26510', '20338', '24220', '2720', '8950', '13978', '27347', '2000', '17448', '16561', '19750', '15857', '16191', '30951', '8170', '23598', '8902', '13900', '14189', '9400', '5232', '12198', '4964', '34916', '6380', '16244,9', '50678', '28215', '7310', '6730', '27448', '35145', '26340', '14644', '3699', '20355', '5076', '46695', '13000', '30344', '20179', '10964', '7794', '17949', '8910', '4535', '11288', '18251', '24850', '9180', '12421', '39422', '3199', '4042', '5359', '15770', '25855', '14250', '9241', '9484', '7200', '11495', '13260', '22898', '12972', '33292', '16010', '21195', '20680', '28410', '3646', '35955', '10660', '4345', '14005', '8041', '3883', '4704', '7302', '7655', '42000', '15763', '57581', '22264', '12560,01', '12711', '14050', '2990,92', '16980', '10628', '15100,82', '21943', '14160', '24519', '9924', '8905', '5091', '10115', '8529', '11042', '26941', '10225', '11310', '34641', '16199,2', '7709', '4050', '17842', '19615', '2250', '27283', '18760,75', '4961', '15398', '7618', '7940', '9750', '18334', '5590', '18890', '4318,2', '23126', '13665', '11795', '26020', '27895', '9430,38', '4475', '30430', '3850', '17850', '42940', '8393', '18374', '2671,2', '17550', '11665', '16823', '7399', '23331', '21740', '26730', '9406', '11810', '8960', '12889', '8160', '41171', '16732', '11723,2', '5997', '69000', '13640', '18980', '7905', '3099', '14669', '18225', '18370', '7947', '24640', '27898', '25506,19', '51140', '17688', '18660', '11489,91', '69500', '8741', '18566', '4683', '4880', '2559', '16110', '2030', '37437,66', '4403', '19133', '3359', '11180', '3269', '18782,2', '27744', '7950', '4107', '9814', '25081,98', '17600', '5490', '5189', '22072', '21494', '8360,92', '7478', '15190', '50700', '3354', '11160', '13351', '11297', '22011', '13980', '9955', '29950', '9173,88', '4064', '12000', '10840', '9085', '14219', '13191', '5611', '9248', '17215', '7604', '7720', '10585', '6245', '34200', '41451', '6562', '15750', '5612', '18270', '24889', '13952,73', '2990', '14348', '20592', '20300', '3353', '12220', '15033', '36910', '3550', '17254', '22520', '22200', '9900', '18868', '56964,6', '11697,1', '6503', '28745', '22618', '19542', '21473', '39025', '15490', '29980', '15598', '7507', '4581,87', '3752,9', '11938', '12610', '3407', '7895', '2160', '2341', '5695', '21180', '3255', '7050', '5746', '3882', '6860', '9622,77', '12508,2', '24400', '17528', '11211', '3398', '9100', '8860', '14678', '15824', '6278', '20928', '3970', '8515', '12710', '14446,3', '4366,8', '20985,62', '20770', '9949', '27470', '4820', '5765', '4690', '22692', '4830', '4780', '18949', '53400', '9927', '18891', '12559', '15580', '90200', '13120', '19591,36', '26461', '39000', '20290', '6899', '17561,8', '10987', '9729', '6479', '22525', '4244', '47704', '10752', '33821', '22880', '8835', '17247', '3360', '27740', '5268', '23154', '10170', '23713', '36980', '29875', '3072', '9380', '7850', '24344', '6678', '19886', '7455', '23795', '5333', '8970', '3187', '25068,94', '5994', '35990', '8132', '12290,9', '12725', '20313', '14245', '18696', '2420', '4408', '9560', '7492', '17885', '16720', '10659', '22310', '8400', '5000', '10880', '9898', '44697', '25936', '8935', '6116', '6740', '10279', '9530', '26800', '11526', '34154', '9198', '8730', '2322', '14177', '9477', '9680', '20356', '9200', '35793', '28715', '46921', '5640', '15280', '18269', '14755', '12425', '10124', '34618', '5837', '6682', '30370', '32400', '8360', '6679', '70047', '10525', '11085', '10238,82', '15800', '3490,92', '7999', '17697', '5683', '7902', '15359', '20409', '3961', '3196', '6950,7', '5895', '17960', '12325', '6498', '31580', '22195', '16999,82', '17567', '31810', '16048', '35991', '10418', '9923', '19446', '20601', '18286', '12575', '5839', '17573', '3876', '11698', '3749', '22015', '14854', '14698', '9416', '17981,9', '7173', '18170', '26199', '10730', '24085', '43010', '33111', '5995,46', '7130', '11740', '11400', '14618', '3690,92', '25570', '10105', '3771', '13063', '4195', '22450', '5410', '8228', '16635', '6161', '11217', '6598', '11450', '10995', '28340', '25631', '22286', '10917', '4275', '5920', '14440', '19260', '15036', '6220', '16650', '10560', '9920', '5620', '7080', '11804', '6978', '44000', '23320', '26547,1', '29334', '13179', '7638', '30686', '24690', '3762', '8892', '13010', '16647', '6299,72', '19000', '7800', '30656', '7600', '7682', '20977', '20931', '24933', '28230', '8480', '5272', '13592', '28059', '6518', '15865,65', '4492', '14978', '15745', '7070', '4579', '11212', '10260', '7810', '13848', '6145', '4629', '7191', '2680,4', '7544', '4099', '14321', '35600', '21881', '24682', '26082', '5482', '5699', '61250', '30500', '4463', '29450', '3750,91', '7281,94', '21405', '13040', '23975', '37305', '32391', '66578', '30031', '17952', '7327', '4134,4', '6375', '22150', '17580', '4250', '21536', '12232', '24480', '7478,2', '13686', '4940', '47247', '9120', '25360', '21150', '10708', '11200', '9227', '28308', '20305', '16900', '19021', '8906', '4479', '13257', '14781', '30720', '30422', '3610', '29445', '20690', '63776', '7417,5', '5335', '3808', '48572', '9590', '7207', '9074', '9655,2', '29001', '18176', '7183', '11077', '6653', '67795', '22345', '16298', '17789,2', '9351', '3892,2', '9823', '29990', '7541', '13110', '8797', '26600', '5517', '9140', '4508', '3150', '8297', '4118', '16400', '99000', '19925', '11950', '2930', '3205', '13130', '4329', '13462', '15755', '21800', '3358', '23990', '28294', '6835', '8184', '23940', '8651', '16045', '7729', '7888', '32770', '12389', '33500', '7899', '16596', '29680', '26084', '10424,6', '21097', '10778', '19290', '10844', '9240', '20009', '16189', '27456', '21280', '11410', '18790', '6300', '17763', '25343', '2039', '11090', '14494', '27598', '20699', '3035', '2165,4', '18022', '28810', '46800', '49000', '11833', '4191', '4150', '29580', '11576', '14385', '31910', '3930,81', '41490', '10200', '26999', '17671,2', '18426', '18390', '8150', '17560', '26710', '23240', '25440', '11524,79', '13989,4', '9862', '56130', '7514', '4099,9', '21880', '5055', '9866', '4351', '16875', '5605', '6839', '56899', '6643', '27196,1', '27190', '4679', '13439', '15725', '5089', '22598,1', '4005', '17261', '20590', '4658', '22329,67', '35326', '28899', '11260', '8957', '29250', '4962', '28955', '11335', '31060', '26960', '6120', '31317', '11911', '45672', '10990,92', '24479', '9427', '4745', '10463', '8078', '21838', '19960', '23109', '18997', '16092', '15200', '7459,6', '5594', '5632', '26872', '11796', '67500', '19970', '10940', '18749', '5906', '9718', '3498', '14872', '5388', '25182,4', '7593', '2238', '22047', '8456', '28594', '19820', '23550', '34100', '22760', '5855', '7366', '4533', '39741', '23365', '12070', '15400', '3307', '19254', '10576', '7625', '4401', '9577,8', '32593', '12678', '5830', '29622', '8991', '24250', '5218', '23530', '8289', '3399', '18970', '5736,6', '12947', '17451', '12148', '7505', '11113', '10801', '16199', '29471', '23516,84', '27750', '13630', '4074', '19924', '6240', '5058', '14636', '15216,06', '18067', '4600', '23148', '3188', '25298', '23793', '9045', '8300', '4920', '90590', '9510', '12132', '5243', '6163', '7648', '36527', '5100', '5890', '27381', '9576', '15481', '2520', '27690', '11040', '21520', '30060', '27617,1', '9798', '4941', '9470', '26049', '19900', '48000', '9983', '7740', '12520', '30796', '17599', '4420', '4207', '7083,05', '12339', '9890', '14718', '43880', '25390,94', '4485', '18414', '25299', '13248', '5932', '12213', '21877', '26817', '24900', '22987', '2909', '12199', '40500', '27250', '13905', '20500', '9675', '56700', '50177', '5306', '3949,92', '10852', '10712', '14942', '5770', '31696', '43950', '15602,5', '13891,5', '21381,12', '9263', '23511', '7539', '21907', '10205,5', '11764', '29400', '12342', '19430', '11359', '18515,03', '22962', '5799', '21128', '16440', '2514', '5175', '3289', '32490', '20129', '13981,8', '9550', '14938', '4952', '30313', '17347', '13949', '10428', '37000', '58541', '8361', '13769,2', '4175', '3357', '32041', '2619', '21243', '23690,91', '26989', '15221', '13288', '7965', '9554', '10912', '17100', '5499', '17558', '33190', '31224', '31404', '26000', '19150', '12498', '15696', '27110', '10478', '3393', '6490,5', '37517', '6781', '33320', '21479', '5562', '3046', '27080', '22810', '13280', '3159', '18693', '14540,04', '7300', '2430', '16766', '24466', '29663', '76360', '11409', '12960', '10310', '23490', '10431', '4853', '32175', '4800', '12570', '6920', '23251', '23854', '14637', '8390', '23579', '9892', '16520', '5360', '20882', '19051', '10904', '13733', '4789,92', '5745', '89344', '24328', '9144', '6944', '4310', '20205', '11978', '10480', '14190', '6097,5', '6323,33', '2180', '8775', '19240', '4315', '21597,8', '13435', '32907,5', '11204', '22660', '5282', '33255', '16436', '6733', '5950', '2975', '26355', '3933', '8564', '29384', '21021,9', '6350', '22575', '28490', '44879', '2457', '15750,91', '3220', '12451', '16872,3', '22428', '13985', '22252', '9282', '17117', '4743,68', '33996', '8420', '13382', '29782', '5424', '18440', '4369', '18338', '21588', '3540,2', '10978', '6658', '13050', '4915', '14470', '6990,92', '4375', '13476', '12385', '3285', '25780', '4095', '24752', '8442', '11727', '20645', '50950', '11259', '16799,4', '30696', '17920', '35250', '9137', '6281', '8904', '12331', '14990', '5010', '2100', '9940', '13134', '14355', '2660', '16479', '8410', '82700,9', '18143', '31900', '7695', '22904', '25109', '5535', '13480', '3405', '28557', '16550', '3117', '15610', '41125,88', '20040', '17998', '27560', '12396', '17815', '16669,84', '20992,78', '19440', '15897,92', '23160', '32449', '4738', '23304,6', '9349', '7999,1', '7258', '5898', '35500', '8543', '30627', '7815', '8460', '5848', '7597', '36000', '53091', '6457', '10542', '22057', '7441', '9235', '4781', '34821', '11196', '2290,7', '22356', '6180', '13150', '6854', '20330', '8715', '17173', '14875', '9907,2', '84800', '22940', '78400', '7169', '28700', '15460', '14330', '4450', '7035', '6454,8', '16745', '7152', '30428', '9367', '32790,9', '32822', '2555', '14035', '12417', '5060', '20088', '26889', '16260', '5369', '32828', '24771', '14571', '11416', '25317', '31300', '10085,9', '22369', '8536', '8038', '47195,92', '25992', '10389', '20658,2', '14659,2', '12472', '4761', '61487', '12904', '82910', '16615', '17146', '9551', '15030', '8450', '79910', '11639', '2880', '6527', '19099', '6027', '9059,92', '28042', '24587', '5329', '9681,5', '16662', '30510', '16992', '33700', '27986', '16786', '29790', '16996', '13494', '12597', '20250', '21938', '35369,4', '25313', '9679', '22498,2', '3418,5', '31817,2', '14570,01', '3752', '3798', '20510', '12750', '4026,55', '6230', '4983', '8609,92', '26780', '33088,5', '25500', '11966', '25713', '7574', '22395', '27012', '5888', '13235', '4057', '6596', '12890', '16190', '16467', '55500', '12914', '20079', '20699,1', '17840', '11899', '6080', '14030', '17422', '21082', '8290', '15127,38', '16776', '15121', '17290', '27962', '4098', '9349,92', '5676', '6450', '10198', '35091', '23030', '3760', '21340', '35142', '9050', '16989,92', '15078', '11081,52', '19060', '10505,5', '4135', '17765', '17082', '27088', '14550', '6142', '4185', '7984', '3768', '18710', '78800', '17780', '7614', '16993', '15602', '10447', '22621', '32765', '32900', '21484', '10190', '4008', '23600', '20132', '22930', '19046', '13392', '7342', '66504', '30960', '13558', '94720', '9769', '4930', '13600', '26750', '22662', '13975', '14487', '13624', '16220', '4661', '6609', '14047', '10687', '6301', '10646,2', '6365', '7280', '39590', '8886', '16551', '17988', '8948', '91168', '15739', '13399', '29615', '10470', '2724', '9341,5', '18360', '28000', '11540', '24717', '6881', '11460', '16733', '28661', '5910', '27010', '14976', '8669', '8900', '8186', '7416', '28050', '3640', '7144', '27342,5', '16834', '4735', '20007', '14337', '27060', '10850', '7290', '3450', '5011', '22955', '20440', '18861', '25315', '6948', '27472', '8792', '38725', '7898', '12598,2', '8386', '2333', '4590', '11789', '10417', '6136', '11190', '8470', '21630', '3128', '18050', '20397', '4979', '23297', '18797', '8844', '20679', '5120', '33183,4', '18020', '7619', '14620', '15990', '26695,8', '41498', '12845', '8498', '18048', '29000', '8857', '22091', '34391', '38058', '7693', '5520', '4131', '2540', '14388,3', '30372', '4400', '16240', '33126', '9580', '34720', '3424', '15496', '7559', '5840', '10599', '8856', '18650', '19797,1', '22440', '11940', '25105,1', '6470', '5754', '12300', '8237', '5016', '33000', '22522', '18990', '45297', '7353', '6090', '5600', '12330', '20995', '48920', '14229', '45438', '25897', '17946,2', '10130', '18984', '19740', '11496', '18090', '10631', '12127', '16310', '8010', '37495,2', '58670', '4837', '13490', '10483', '21696', '6797', '41907', '6610', '6150', '39327,2', '19745', '15313', '26580', '16322', '3537', '15639', '19674', '24680', '6945', '7115', '7362', '2165,16', '10841', '6440', '24110', '26100', '16781', '6652', '4495', '11247', '20519', '45110', '16765', '14629', '5174', '32810', '9432', '26547,3', '6370', '5144', '24550', '6481,8', '26819', '5432', '7651', '12265', '17300', '37069', '22263', '15325', '3639', '21717', '17930', '10256,1', '2961', '18882', '37857,2', '13325', '15695', '17379', '10151', '15500', '16379', '32955', '5261', '19608', '19125', '16890', '18575,2', '23037', '12512', '2878', '4210', '2800,85', '33470', '3547', '38520', '16868', '19220', '10029,92', '18528', '19503', '8979', '3690', '3591', '5533', '17470', '15390', '40521', '9648', '10526', '6141,75', '6599', '11399', '7120', '5735,7', '14632', '9217', '10647', '36093', '21112', '5135', '6053', '8600', '17778', '17609', '10149', '10298', '6514', '16070,5', '11595', '7369', '11558', '5897', '12317', '2270', '7797,6', '17499', '11897', '20910', '6756', '4114', '26524', '3798,9', '9999', '14449', '5170', '10140', '31790', '23900', '17006', '10540', '21586', '10566', '6204', '2511,82', '8088', '16490', '22349', '3549', '8723', '34140', '11819', '12095', '6715,2', '6219', '19791', '12690', '7849', '19748', '15210', '26390', '32670,79', '7170', '24003', '3290', '48600', '24949,09', '14725', '10720', '5931,8', '19730', '18413', '11699', '23450', '62550', '13465', '5980', '9000', '18615', '13197', '15115', '20225', '16648', '6500', '13650', '20090', '14092', '18175', '14950', '15354', '24300', '19375', '24599', '25887', '14661', '12580', '8549,9', '29198', '17090', '6967', '5824', '7472', '13460', '27020', '13499', '15020', '57209', '13137', '25080', '5301', '29200', '20826', '5130', '20272', '4768', '16965', '28666', '33300', '7000', '20862', '6197', '5200', '6850', '9586', '15186', '12636', '19589', '5720', '24027', '15120', '21214', '29789,91', '9532', '9630', '25820', '6313', '13289', '2245', '14199', '6898', '9592', '4990', '14570', '6744', '24740', '9972', '14365', '4628', '19095', '42408', '3339', '15370', '31895,48', '31400', '21246', '3790', '26085', '3541', '7296', '8490', '14917', '42135', '3010', '17750', '22419', '21646', '14328', '16653', '19342', '4928,96', '11619,84', '18004', '27398', '29653', '7250', '3675', '18171', '12249', '2089', '7660,42', '11116', '12347', '28060', '9250', '5825', '14441', '18669,2', '26365,6', '27150', '14133', '7876', '8330', '4339', '26595', '16576,2', '5228', '11050', '13232,88', '6081', '6941', '30946,29', '19895', '14991', '18630', '3051', '8421', '29997,24', '30170', '11571', '22458', '19377', '7189,6', '7857', '20883', '15403,02', '14040', '16145', '16407', '12240', '5225', '6550', '9158', '11943', '16949', '20091', '2680', '20296', '15085', '42740', '41994', '8171', '18734', '37415', '17428', '7878', '11935', '28991', '20989', '18468', '5968', '9347', '27170', '27905', '18319', '6616', '17633', '8869', '22792', '24314', '14599', '8091', '19772', '22977', '6985', '4799', '40534', '19602', '26950', '21120', '9846', '4851,81', '21499', '16090', '22860', '10492', '12412', '10220', '21847', '28820', '3659,5', '18458', '27580', '13324', '8320', '6594', '18224', '19295', '18855', '9009,91', '12470', '12200', '31263', '12935', '7420', '14472', '21460', '32990', '4314', '5337', '10780', '29280', '4300', '4177', '6367', '14406', '29294', '11720', '16629', '5221', '29460', '12024', '4243', '23470', '2995', '15272', '13165', '13300', '23389', '20069,33', '7680', '10250', '16438', '3682', '3740', '4598,6', '7448', '15367', '20852', '4939', '50940', '3250', '10799', '56000', '11685', '21298', '47900', '12755', '12687', '17250', '14885', '4765', '119700', '6732', '17134', '24830', '60080', '8568', '4888', '16324', '8350', '29949,7', '2400', '16050', '13567', '16416', '28280', '4867', '44415', '38120', '34199', '4047', '4499', '8879', '9804', '12991,82', '11680', '43682', '2158', '5276', '6672', '13563', '3448', '22469', '7369,7', '12397', '14773', '13098', '11025', '4130', '15907', '16392', '6662', '14360', '10600', '4090', '11446', '24864', '4455', '25320', '18240,91', '12057', '5799,2', '15980', '22970', '29975', '15255', '9840,6', '77860', '41837', '35320', '13178', '15192', '23104', '24015', '4758', '14052', '13841', '39388', '5616,15', '15540', '22198,1', '2719,2', '3030', '17970', '16748,1', '30590', '10034', '8517', '3180', '13709', '31882', '17529,91', '90747,9', '84570', '2490', '10769', '17869', '5310', '76550', '20755', '7713', '15000', '23688', '6890', '8419', '6033', '12599,9', '31850', '15427', '10322', '7240', '8767', '12500', '28420', '3645', '18900', '12450', '34449', '6119', '4660', '10740,64', '78550', '9393', '15327', '4240,91', '19728', '3484', '10169', '16448', '4290,9', '17520', '21187', '25695', '6549,83', '21204', '13284', '30596', '9759', '15844', '72885,57', '27348', '20644', '4165', '12405', '20550', '19630', '5807', '26462', '31415', '12708', '7540', '22558', '2620', '30150', '9839', '17999', '12455', '22990', '19082,3', '15950', '15442', '6876', '14207,1', '50929,82', '3916', '11724', '14497', '28971', '11655', '11304', '8080', '5193', '10930,52', '3032', '22800', '6703', '6970', '24405,4', '21330', '23186', '7439', '5689', '13820', '16200', '3815', '7687', '7703,1', '8941', '7249', '11892', '8270', '26200', '18121', '37440', '11669', '30603', '4921', '12488,25', '12820', '3391', '3860', '8341', '2819', '18603', '3715', '9296', '8652', '8589', '10939', '11422', '5232,2', '14370', '17863', '9107', '8098', '12742', '13080', '10185', '28879', '20802', '15760', '17802', '12350', '24260', '18376', '4079', '9460', '13170', '4140,2', '5190', '19998', '12480', '11099', '2490,92', '16824', '13157', '7190', '12219', '3509', '8560', '6467', '11997,2', '6288', '6007', '13770', '13479', '7820', '35767,4', '58567', '12713', '15914', '20800', '25000', '3119', '15315', '4379', '22075', '18964', '31460', '15948', '9695', '19106', '15727', '6858', '51900', '13005', '10609,2', '20903,5', '14089', '12944', '23216', '13138', '3316', '3990,92', '19797', '12830', '16590', '25702', '14780', '11194,06', '5346', '27599', '16743', '4879,8', '17346', '9573,1', '52509', '8697', '10936', '9417', '5984', '23774', '7739', '11586', '6785', '4505', '13950', '13734', '7824', '14094', '10349', '6665', '17531', '15650', '3722', '13208', '14866', '35940', '10435', '20196', '9117', '22627', '22212', '9596', '16730', '12850', '14310', '28469', '9301', '9350', '93000', '12680', '19300', '23025', '10960', '26700', '7150', '7334', '9496', '8292', '17590', '33760', '3877', '4228', '33862', '14758', '36570', '26837', '13193', '24130', '10191', '7710', '13225', '10738,5', '28041', '39638', '4117,5', '17073', '6035', '3107,7', '18885', '13227,7', '5610', '9300', '11363,99', '3160', '43573', '9669', '5357', '21615', '13941', '17854', '21295', '19781', '19699', '24990', '4644', '6424', '17193', '9588', '20200', '19419', '11098,8', '11151', '32846', '6640', '27340', '11651', '22307', '12542', '14209', '25145,79', '2873', '13318', '22250', '13536', '8195', '10114', '9212', '33344', '36400', '4274', '13527', '63271', '22480', '14175', '4504', '25146', '8055', '11590', '21197', '16519', '16760', '13829', '9025', '19170', '28070', '15897', '9290', '32090', '15110', '9835', '8858,8', '6999,9', '22427', '32444', '21410', '5180', '14927,83', '21726', '9891', '2890', '21482', '22561', '20587', '8951', '2390', '13388', '7189', '3636,9', '30697', '3090', '16499', '14857', '4350', '23060', '16780', '10359', '28079,84', '22500', '10695,13', '34555', '6997', '19540', '10550', '26848', '31000', '10457', '63657', '23861', '29220', '4140', '10971', '25225', '25730', '90000', '4405', '14845', '13539,2', '14949', '3849', '19580', '17020', '11719', '6492', '6650', '7599', '28428', '27600', '33881', '5300', '9259', '6279', '40037', '18849', '23930', '3410', '7730', '17273', '17140', '12696', '8156', '20059', '5380', '7187', '3173', '29640', '16692', '8389', '23577', '8108', '15575', '39627', '3718', '13940', '95441', '24777', '3886', '4809', '35943', '9215', '17501', '14530', '4336,2', '10248,2', '2573', '2428,2', '3764', '17610', '20095', '28590', '11370', '9345', '3720', '17350', '26550', '25760', '26022', '27065', '3045', '21470', '19360', '6342', '21850', '17370', '2855', '5797', '5140', '23677', '28674', '20562,2', '3383', '17541', '19020', '7700', '8221', '7204', '8340', '20113', '8984', '13989', '23980', '8275', '12518,5', '8432', '36490', '5707,8', '19719', '5942', '20343', '5312', '18074', '8199', '3889', '6843', '10551', '17769', '7440', '14750', '8057', '7795', '13287', '4909', '21388', '20698,2', '17466', '9310', '23998', '9928', '26988', '79959', '5005', '20710', '3152', '69282', '6975', '31096', '21728', '17339', '9010', '29075', '15838', '28551', '9030', '14288', '31090', '6021', '16579', '13443', '6390', '8955', '5965', '18001,28', '5865', '23315', '6280', '4487,4', '6590', '5043', '23440', '11133', '7830', '15468', '19415', '19315', '12854', '14410', '13577', '43376', '9199', '37800', '26170', '13025', '7549,89', '15319', '11264,25', '31520', '5850', '9004', '9996', '19420', '17720', '32310', '11769', '21860', '26034', '3179', '10338', '11900', '6101', '7981', '65000', '18500', '17420', '14766', '23128', '18410', '21919', '19110', '7163', '18030', '30011', '17480', '24495', '8990,9', '17702', '6780', '21721,1', '74650', '21080', '11136', '17483', '12902', '6828', '18789', '10112,8', '61000', '26720', '11500', '34493', '5143', '4180', '3170', '28224', '31040', '6919', '14280', '28440', '4898', '3284', '5178', '29900', '4212,8', '3237', '4620', '29780', '13402', '9610', '10969', '9858', '6928', '26900', '3650', '16185', '5723', '16399', '16175', '4770', '14130', '22162', '28221', '11860', '22413', '9230,9', '34557,1', '7039', '20326', '22674', '5415', '19382', '30925', '10075', '41470', '4602', '12191', '4270', '5287', '30735', '11787', '14140', '12463', '16908', '11692', '4675', '18857', '3628', '6445', '39720', '16460', '11148', '20715', '9910', '30879,55', '2366', '3875', '28999', '3984', '3380', '28509', '34999', '21390', '11518', '46671', '13800', '26457', '18624', '9326', '21808', '21620', '35670', '9445', '9690', '75000', '11670', '4527', '37780', '12537', '6354', '26997', '2970', '3801', '2190,2', '8675', '9169', '4070', '16140', '3321', '35165', '18099', '44100', '22221', '17670', '11138', '12597,3', '19665', '10539', '4260', '5294', '22497', '11243', '3904,3', '8071', '36800', '23797', '28930', '13310', '6893,7', '18300', '9497', '13344', '19050', '16450', '20570', '12760', '4389', '31933', '28160', '6040', '29788', '19989', '3604', '10693', '2450', '5577', '22192', '5941', '13190', '6537', '27400', '9702', '19940', '9341', '14453', '16398', '13290', '9389', '23453', '4500,95', '14709', '24800', '14390,92', '10953', '28258', '20450', '20505', '8200', '3350', '5370', '41600', '12651', '4522', '14900', '9490', '4790', '19047', '18085', '6530', '25896', '18100', '6966', '44495', '8625', '11308', '16838', '11362', '52469,87', '20100', '18445', '23852', '18180', '5478', '22756', '47600', '4480', '10635', '37752', '10024', '8210', '11630', '35610', '6018,39', '18740,5', '16312', '14930', '12700', '6146', '22102', '24125', '16455', '4366', '3920', '37640,77', '21746', '15128', '11250', '14670', '6323', '9365', '19187', '17380', '3389', '12890,92', '29300', '17950', '7860', '70245', '25177', '48800', '7084,28', '4858', '7350', '20140', '11514', '9170', '6938', '15040', '32970', '7937', '7450', '6776', '18010', '6947', '2070', '6517', '20748', '9594', '34195', '6190,92', '29750', '12593,7', '2790', '19799', '21598', '24741', '24945', '4302', '17198', '16995', '19993,4', '4727', '7796', '84558', '89196', '17230', '23029', '8440', '19680', '10884', '22280', '14610', '10174', '5860', '21810', '49500', '17091', '5404', '3276', '24061', '13205', '8666', '3951', '9755', '35550', '22850', '15524', '13768', '12695', '6136,58', '19045', '8590', '52930', '26183,5', '8689', '19782', '6048', '5922', '31484,1', '6396', '4801', '3825', '8280', '7909', '15170', '18913', '3879,17', '26658,9', '24420', '28861', '9660', '6993', '15629', '7430', '6916', '22864', '18540', '12209,5', '9308', '11212,06', '3743', '18491', '35596', '24721', '35950', '12077', '18530', '24290', '10836', '24190', '22700', '15899', '2299', '6415', '38718', '13198', '9116', '5030', '14848', '25966', '27493', '3014', '22645', '14595', '24272', '9599', '4647', '20063', '18560', '18472', '3542', '13166', '4777', '38200', '23660', '4209,2', '9555', '6393', '9054', '19857', '26370', '7166', '17940', '18105', '21780', '6494', '27130', '17298', '14119', '37710', '22455', '25454', '5573', '15780', '30580', '76000', '23625', '11502', '10791', '39110', '3222,9', '18649', '4890', '5347', '7770', '5995', '12490,9', '11345', '6831', '13699', '26091', '7199', '8355', '5438', '4392', '6622', '12304', '4242', '13591', '16290', '4196', '32980', '25700', '20180', '12699', '6680', '12741', '6181', '6780,95', '21865', '29295', '25990', '7970', '23783', '16222', '10073', '20229', '12945', '4109', '17500', '7407', '14522', '4703', '6719', '3879', '11798', '9405', '15067', '17712', '27228', '58947', '14169,1', '7488', '13365', '26232', '5250', '14361', '20464', '6820', '4670', '21250', '48580', '41132', '54000', '21590', '51300', '7107', '83106', '6373', '22488', '5630', '31885', '7611', '4730', '27541', '4980', '21075', '14096', '53169', '17568,3', '27759', '25168', '22872', '9908', '3737,6', '24346', '19770', '39980', '18049', '29970', '2910', '6283', '10390', '30918', '21238', '15041', '8090', '39028', '33800', '19980', '16381', '13492', '14590', '14170', '74482', '9768', '32576,5', '16613', '30756', '13112', '11999', '9040', '32935', '65400', '15999', '21989', '10025', '32481,83', '33680', '6995', '12639', '6513', '16320', '10057', '59224', '3400', '10446', '10010', '7497', '9913', '27736', '14240', '7452', '4030', '9529', '14795', '28026', '3114', '19622', '29694', '16840', '2900', '61290', '10134', '24119', '21480', '8128', '8832', '4630', '5579', '46500', '19570', '14257,91', '7747', '11279', '7995', '3928', '3510', '15570', '16265', '4973', '20871', '25330', '23498', '8685', '22509', '27769', '19751', '25490', '17097', '18819', '12530', '88300', '20060', '40110', '84630', '10287', '13298', '8286', '25263', '4950', '16371', '12050', '7391', '9461,5', '9567', '30325', '25785', '6887', '7123', '5852', '15756', '4200', '19819', '8620', '7019', '5297', '24520', '19600', '10700', '24281', '14046', '8889', '22959', '19482', '8648', '11049', '23390', '13790', '9840', '2282', '25904', '23070,6', '13747', '10432', '18398', '10040', '21420', '17040', '10361', '5745,12', '6455', '3137', '13875', '5525', '18470', '6940', '27970', '13383', '18825', '5690', '82162', '62240', '7872', '14850', '9989', '40200', '24236', '2095', '7690', '9902', '30391', '9629', '6984', '6746', '7002', '16630', '24810', '18784', '9278', '29942', '12048', '12606', '16920', '3000', '18719', '14150', '5805', '7348,52', '16128', '5650', '6237,03', '23485', '2248', '9733', '4872', '30545', '16833', '12393', '29760', '2999', '19890', '13500', '11700', '17700', '6873', '7471', '11689', '2090', '3387', '23377', '22085', '17150', '25991', '11520', '7262', '2850', '38570', '12474', '14300', '14994,6', '24600', '18054', '6069', '6625', '11150', '38244', '9574', '2255,4', '8549', '29382', '19230', '9879', '9700', '29799', '58900', '28990,91', '7182', '20900', '10972', '25899', '5160', '29206', '3923', '25180', '8127', '21347', '7523', '13259', '9540', '21600', '2104', '5131', '2650', '18686', '5208', '9280', '13888', '20600', '22275', '7197', '5040', '6619', '25639', '16112', '16850', '12810', '16498', '14165', '33280', '34162', '17106', '10419', '8650', '19854', '2223', '29120', '22950', '18481', '11377', '27200', '9167', '23488', '5162', '13456', '18600', '7235', '20320', '20987', '19769', '9153', '8735', '9237', '4276', '9930', '29100', '4097', '8990', '11677', '3987', '15065', '14083', '33358,84', '12424', '18012', '32975,3', '18220', '20277', '24458', '22482', '16798,2', '12360', '16789,98', '7910', '16785', '21850,94', '7859', '30471', '2310', '6336', '21123', '5320', '17220', '15895', '28116', '17248', '3474', '3780', '3668', '14588', '9710', '12999', '15875', '6319', '6361', '21597', '35598', '7676', '24962', '6830', '13644', '5397', '21170', '8100', '28220', '19966', '41400', '24711', '12138', '18840', '4390', '11350', '14270', '19840,5', '26115', '10467,1', '81000', '3145', '18080', '8429', '5489', '14383', '25680', '13990', '18602', '28400', '19340', '27673', '5665', '4908', '10846', '3548', '17540', '14996', '7908', '13995', '5989', '20706', '23399', '17622', '26896', '18820', '23352', '6822', '34630', '14081', '4360', '20636,91', '20779', '17810,82', '3769', '13195', '5152', '17199', '12989', '13882,92', '6726,1', '21861', '15890,9', '10920', '18392,91', '15435', '12581,89', '26164', '33598', '12903', '6856', '39090', '9013', '4674', '70936,32', '12591', '13598', '19844', '21900', '79380', '23200', '31190', '17432', '30940', '18598', '15498', '4299', '12044', '14097', '12995', '18330', '5037', '27040', '10456', '26970,6', '8750', '22213', '12390', '2305,8', '16070', '4887', '9499', '17756', '53673', '11325', '11623', '8698,1', '27922', '17556', '9651', '18690', '12900', '26219', '5109', '2031', '22147', '14316', '16882', '21086', '16395', '14340', '9774', '21349', '29526,12', '17910', '18216', '6710', '15523', '10950', '27686,2', '9813', '9988', '31806', '11765', '6049', '19040', '10804', '56277', '22890', '29599', '12566', '78390', '23822', '3490,91', '20209', '2219', '12012', '15850', '27540', '7220', '23650', '4534', '16893', '5748,3', '12896', '10268', '11225', '9760', '21890', '30681', '6462', '10704', '9650', '13440', '24195', '13590', '4386', '28750', '3080', '16263', '10189', '16814', '22770', '4041', '75424', '12493', '17415', '31091', '16591', '6543', '16540', '19789', '18599', '17240', '6086', '15300', '19850', '10818', '15552', '17875', '23820', '17297,6', '11333', '31990', '28241', '9963', '4673', '5687', '23140', '20648', '7289', '13541', '32938', '19889,92', '25220', '28945', '14430', '18119', '21100', '4570', '7240,5', '5636', '14230', '4889', '87880', '18328,6', '19502', '5796', '40050', '7885', '10019', '4387', '25137', '19798', '2300', '29493', '21475', '15240', '6796', '7698', '6266', '4477', '6691', '35744', '9850', '6073', '4740', '12702', '19790', '24017', '21015', '12906', '10323', '17851', '6348', '25280', '9397', '4850', '21578', '2689', '66680', '91536', '14696', '33475', '5793,3', '42320', '23667', '6490', '7637,63', '6264', '5384', '87786', '10438', '21670', '21209', '19999', '37508', '20880', '11776', '13916', '31250', '9095', '16883', '4220', '9917', '13180', '23397', '11315', '7495', '47000', '4010', '11391', '3924', '24772', '5399', '21805', '14438', '14596', '10439', '16449', '4470', '6108', '37790', '29461,34', '7068', '18580', '17990', '70705,96', '28722', '24030', '13843', '7208', '25574', '6502', '23584', '21154', '4326', '21430', '16600', '14206', '23500', '11551', '18711,05', '34990,8', '19930', '7373', '21984,55', '21950', '30800', '17366', '15466', '6980', '7279', '6190', '7498,9', '23920', '8917', '18425', '37531', '13410', '116360', '25301', '23020', '4428', '3385', '6247,8', '12384', '15299', '24174', '6889', '17367', '19128,41', '6236', '21858', '4488', '3710', '8389,91', '10864', '23095', '6870', '48900', '26529', '4497', '9919', '10981,82', '11666', '7030', '8994', '19218', '27877', '14744', '9520', '3960', '11450,9', '13366', '5045', '9889', '20792', '12092', '5085', '8448', '13680', '27890', '14398', '31991', '10194', '2399', '11620', '15870', '7285', '18198', '11510', '8840', '17397', '17424', '8878', '20691', '4080', '2907', '4969', '15250', '5451', '80440', '4413', '98042', '5544', '2590', '6130', '11368', '56518', '12340', '14645', '23992', '7469', '11718,94', '8745', '29380', '3329', '13326', '6340', '25950', '6030', '12646', '4399', '8037', '27070', '33900', '6800', '8489', '20850', '30131', '29376', '16197', '25100', '13990,92', '8532', '38832', '21440', '4546', '26660,2', '4760', '18599,4', '7315', '6964', '36500', '29944', '23425', '2881', '10656', '12166', '25300', '5330', '19626', '38032', '34699', '3941', '21200', '23480', '7629', '4986', '24500', '29386', '31500', '13880', '20179,3', '4936', '8120', '4951', '4891', '5494', '7490', '11170', '3590', '5015', '16670', '8459', '18582', '5542', '11749', '19035', '14098,1', '16820', '8890', '5435', '28288', '23137', '9097', '6544', '9448', '12434', '8303', '2045', '7020,9', '14290', '21400', '3520', '14730', '25632', '9440', '7180', '22460', '23382', '9826', '3930', '3413', '10990,2', '20499', '14513', '14520', '5184', '21166', '19269', '18880', '10740', '63306', '18592', '9595', '18296', '17890', '3215', '5017,9', '3865', '85100', '7798', '4807', '8995', '11528', '24630', '12640', '34990', '3490', '3892', '12053', '10128,8', '18750', '6407,5', '10398', '10750', '11390', '23411', '7394', '26560', '40574', '10286', '21658', '3222', '20350', '15270', '40084', '15201', '16783', '17162', '53364', '10611', '40970', '8381,5', '12160', '21030', '18698', '42180', '2120', '40900', '19245', '26770', '3377', '15299,9', '24112', '18200', '81743,87', '12120', '15615', '4520', '5545', '20786', '47691', '11093', '25538', '2421,9', '14400', '5929,95', '12645', '4672', '12631', '30930', '5340', '16988', '23130', '24239', '32914,31', '7640', '22789', '23226', '2798', '9060', '19521', '24233', '18190', '42928', '8240', '99540', '6364', '5999', '6338', '5427'}\n",
      "\n",
      "\n",
      "==========\n",
      "FST_PAYMENT\n",
      "{'3899', '18588', '4499', '5667', '4100', '3363', '9568', '1151', '13776', '3448', '8499', '1671', '982', '861', '15680', '4000,91', '855', '18589', '3000,2', '1776', '14000', '6910', '1999,2', '41580', '1547', '1196', '3511', '2846', '720', '5361', '23000', '339', '7116', '75570', '1313', '269', '4455', '3489', '7590', '6320', '2901', '1444', '3266', '3872', '1384', '645', '1595', '1399', '3666,2', '469', '14940', '3688', '4500', '11320', '3605', '3700', '3374', '780,1', '485,2', '5710', '10240', '2140', '6933', '3311', '1255', '6317', '3415', '1120', '1125', '2696', '955', '845,5', '3095', '1824', '1515', '3134', '7124', '1894', '3030', '8000', '2410', '2131', '448,9', '456', '890', '2375', '4275,2', '3257,04', '3180', '759', '2041', '0', '2708', '176', '6115', '3440', '2375,68', '2490', '36330', '13772,82', '1200,2', '628', '2500', '2698,89', '4925', '1318', '1267', '804,5', '14221', '316', '1921', '1029,41', '623', '2442', '12251', '7128', '15000', '28257', '6890', '4653', '1179,6', '4230', '2352', '1892', '3140', '3442', '11660', '7240', '1045', '12500', '1063', '304', '3000,95', '800', '18900', '4660', '2260', '552', '3183', '1399,8', '620', '4027', '3484', '10090', '1082', '1680,82', '3172', '1026', '574', '4363', '379', '3230', '4953', '355', '1512', '6541', '1071', '1264', '444,1', '6999', '2491', '1330', '1648,5', '1842', '1973', '20644', '436', '880,2', '3392', '713', '20550', '366', '14760', '1291', '692', '46300', '2062', '7243', '7500', '3444', '4580', '55000', '384', '2620', '2110', '305,1', '449', '1103', '439', '2560', '737', '544', '1477', '5990', '583', '2643', '2198', '26410', '429', '674', '1072', '6000,95', '10650', '1337', '3538', '9838', '5036', '250,6', '14935', '3916', '2720', '5044', '1254', '2000', '11382', '10000,92', '1353', '1737', '5260', '7395', '635', '3278,9', '4978', '3060', '1703,2', '2394', '1058', '9400', '6700', '1914', '744', '1462', '980', '3815', '6957', '3028', '268', '2730', '9411', '5730', '6730', '3739', '1266', '4000,9', '1841,91', '14448', '770', '367', '1290', '1399,7', '1270', '9800', '567', '3265', '2136', '2615', '421', '13000', '2845', '1475', '3391', '6200', '4225,44', '249', '1691,6', '2832', '10515', '449,1', '6750', '413,1', '2186', '1244,7', '6399,9', '368', '1284', '8879,48', '2571', '2355', '10007', '7118', '1820', '605', '11924', '7200', '168', '601', '3602', '5940', '988', '10527', '2640', '425', '1090', '1341', '7794,92', '938', '1591', '7659,01', '2888', '606', '4138', '9602', '3104', '2149', '1809', '2340', '2330', '280', '3136', '3124', '2013', '1661', '755', '11490', '999,2', '1442', '6007', '7820', '8540', '1119', '757', '1400,95', '1649', '1922', '1042', '2649', '3270', '1390', '25000', '3119', '3235', '409', '2025', '1041', '860', '3107', '985', '2858', '2595', '9695', '1000,92', '2027,7', '1608', '1730', '24000', '3245,95', '686', '4597', '4910', '468,1', '296,8', '6882', '8680', '9498', '2482', '1781,83', '4050', '3260', '995', '2690', '2989', '5735', '4263', '1319', '9472', '499', '54929', '848', '1005', '2250', '1625', '489', '2350', '2490,95', '3435', '3320', '2980', '5383,85', '1885', '230', '2279', '1752', '9750', '4919', '1320', '1411', '974', '2220', '1202', '6785', '1312', '1130', '1695', '2549', '3794', '752', '6050', '1514', '3064', '2877', '2285', '3850', '1771', '13203', '1138', '2630', '622', '10759', '965', '2112', '3685', '2233', '2338', '9788', '1936', '3223', '1030', '667', '2958', '592', '11890', '558', '7148,1', '2420,1', '1790', '599,95', '915', '1374', '3099', '3678', '1000,95', '1565', '3495', '4330', '1176', '1556,8', '3639,5', '3249', '1400', '22399', '9445,95', '1011', '958', '299,1', '6600', '1575', '377', '910', '5461,11', '11027', '2559', '1171', '2030', '26565', '1417', '5902', '1150', '9300', '5610', '1200,8', '3160', '10467', '210', '2415', '4403', '3359', '0,95', '917', '53370', '28800', '6519', '3499', '749', '2940', '2553', '1288', '3750', '999', '2429', '7880', '669,3', '7950', '1445', '10097', '1588', '75500', '4206,8', '8522,2', '5226,9', '13536', '2405,69', '615', '5234', '4274', '1434', '1490', '25599', '1395', '3049', '1053', '2830', '2870', '1870', '4504', '4348', '2460', '4000,22', '9955', '1369', '12000', '256,2', '608', '2062,5', '705', '4523', '990', '1883', '1999,8', '5611', '9248', '10', '359', '598', '1990', '9790', '697', '20000', '1715', '1077', '754', '875', '1292', '15600', '2890', '888', '4060', '2390', '2990', '1899', '636', '3090', '1834', '709', '1849', '1328', '4350', '1788', '4139,36', '3550', '4289', '9900', '6445,86', '1660', '22500', '395', '10550', '2159', '4082', '1955', '46832', '877', '1700,95', '14200', '4091', '2197', '1821', '40758', '62250', '150', '2487', '7507', '31000', '970', '868,83', '7805', '779', '2863', '696', '651', '330', '6410', '1997', '2235', '2849', '3425', '387', '2160', '949', '10460', '392', '1170', '2616', '336', '1329', '1482', '1899,1', '7750', '9272', '6650', '13539', '2578,8', '4995', '38800', '1198', '3165', '2688,69', '7883', '786', '981', '613', '6641', '2409', '5300', '5746', '2368', '8618', '612', '3410', '4198', '554', '9254', '6875', '272', '655', '3398', '496', '1450', '10637,7', '3970', '627', '3173', '2716', '5366', '8389', '2076', '4011', '2780', '2014', '842', '1750', '1970', '1619,95', '810', '34923', '3340', '2053', '2403', '579', '545', '2084', '4820', '618', '4809', '682', '1500,2', '869', '4690', '825', '10695', '2151', '4830', '12600', '727', '2357', '49200', '725', '1453', '17610', '1099,9', '53530', '2504', '1805', '9685', '39600', '867', '9979', '4715', '675', '10227,2', '3720', '26550', '799,92', '3045', '7477', '3087', '7165', '11990', '2000,85', '323,25', '660', '1523', '3765', '1933', '2855', '5240', '1622', '16086', '8940', '5140', '3252', '2387', '2248,1', '3677', '2335', '5440', '3360', '5108', '1064,2', '3245', '9270', '500', '1252', '7125', '1648', '8125', '29080,92', '1095', '2259', '10725', '7660', '7700', '746', '630', '1866', '7953', '22097,99', '1322,9', '2457,9', '855,9', '2597', '1702', '1731', '734', '5398,1', '10512', '2015', '1873', '891', '514', '100', '1599', '1102', '3907', '4989,92', '1204', '299', '1484', '2040', '13519', '2947', '724', '2869,9', '6782', '677,3', '710', '1939', '1982', '58800', '1255,41', '2420', '2299,9', '7795', '3800,2', '530', '1294', '2016', '684', '1035', '8400', '930,91', '510,9', '5000', '2444', '9898', '2865', '1293', '4720', '1625,2', '10000,2', '858', '895', '9530', '2498', '529', '1290,6', '5081', '2569', '6975', '1509', '2750', '479', '8342,38', '50000', '10502', '677,5', '691', '772,3', '9200', '1121', '9964', '24500,03', '2060', '20235', '1300', '2230', '2324', '10525', '1924', '1670', '8751', '7707', '3187,74', '39400', '13395', '2000,2', '10497', '2538', '508,79', '1915', '371', '4742', '1271', '681', '1081', '2570', '1682', '2365', '1726', '4788', '3293', '1110', '1560', '1570', '2369', '1039', '2228', '4235', '1503', '439,95', '205', '10330', '1568', '5023', '1806', '2079,02', '3370', '551', '5850', '3105', '3599', '1700', '9996', '7945', '3569', '2899', '2916', '11900', '2697', '969,8', '65000', '1813', '1305', '1778', '918', '4498,91', '1830', '1899,9', '1543,5', '2019', '1935', '1373', '606,2', '508', '3492', '828', '375', '964', '3304', '6646', '8945', '3620', '1381', '2997', '9991', '5705', '2010', '1959', '6598', '2349,6', '217,5', '2920', '7900', '2115', '4319', '9457', '14440', '2810', '11500', '5143', '10706', '10560', '3170', '60488', '5000,8', '342', '7080', '1247', '2000,9', '528,5', '2495', '424', '416', '16515', '234', '4898', '7845', '1146', '3284', '594', '17669', '560', '1525', '19151', '2346', '10933', '44963', '19000', '7800', '1693', '7600', '6950', '3298,92', '9784', '1928', '2988', '1257', '1360', '3650', '531', '11597', '25089', '1515,7', '2458', '4770', '8480', '389', '3451', '7811', '19990', '11860', '2840', '4949', '2999,6', '1719', '422,1', '1431', '498,6', '1161', '8250', '4579', '16250', '2200', '1524', '4197', '8820', '2506', '3679', '1701', '10260', '586', '6100', '4629', '680', '2166', '3000,91', '1686', '2241', '4270', '1139', '835', '1840', '2500,4', '1235', '1009', '4697', '8640', '19958', '2703', '1295', '75606', '4081', '1226', '4675', '4550', '2955', '19950', '576', '1978', '971', '2892', '279', '646,5', '669', '9910', '1605', '1200', '940', '4775', '160', '5532,66', '3984', '5022', '14806', '13613', '5038', '602', '7480', '1829', '3380', '1808', '1278', '6509', '11230', '1099', '4250', '7822', '475', '2493', '2413', '6575', '2170', '767', '631', '3885', '3158', '1160', '16481', '1829,43', '4935', '2970', '11200', '3870', '717,2', '648', '880', '1666', '4666', '1708,5', '1989', '3730', '1789', '3100,1', '1488', '70940', '2472,5', '3745', '2466', '4746', '480', '1049', '522,4', '952', '138', '3995', '4014', '839', '590', '3610', '2510', '4260', '6000,1', '3999', '1418', '7185', '10095', '13200', '1500,92', '677', '1197', '718', '7520', '1271,1', '7207', '200', '2934', '7230', '15000,4', '10230', '600', '18375', '7631', '8790', '7630', '525', '415', '2796', '41000', '3346', '2499,8', '7541', '5517', '2150', '3150', '10000', '2450', '7670', '516', '13580', '5279', '1135', '3997', '16400', '8734', '13360', '1018', '2930', '3205', '1841', '900', '1279,9', '433', '2192', '4517', '6835', '10500', '4190', '1855', '3319,7', '557', '1355', '3210', '690', '1338', '2006', '2712', '754,2', '2077', '19556', '24800', '2129', '524,85', '2288', '2758', '3088', '1474,3', '1720', '3350', '3334', '8200', '1819', '6010,3', '1004', '3200', '535', '10041', '1179', '2156', '508,5', '9754', '553', '457,5', '9490', '8700', '1350', '2784', '7816', '2690,92', '1210', '777', '950', '5928', '2265', '8000,91', '4434', '4364', '6300', '5744,5', '730', '2039', '1786', '847', '11090', '4480', '742', '1452', '8800', '6000', '13818', '11024', '53541', '380', '571', '12700', '11762,27', '1580', '9639', '1231', '14385', '3449', '1615', '795', '25405', '10200', '1219', '2745', '1802', '9960', '50442', '1265', '2380', '2287', '120', '5609', '1901', '2096', '6323', '1424', '1653', '4686', '3015', '5703', '4870', '3703', '3830', '1920', '1677', '426', '690,95', '430', '48800', '7350', '3092', '1111', '947', '1847', '1557', '4005', '1070', '3619', '4846,96', '5445,92', '1655', '5155', '15670', '2070', '16657', '6670', '2142', '301', '445', '1540,84', '481,8', '2467', '4239', '3482', '1159', '1279', '1866,6', '1563', '3524', '3609', '2790', '4983,2', '3214', '10489,92', '1153,5', '1185', '1059', '3763', '1638', '509', '1040', '1433', '511', '1140', '6326', '507', '11233', '1823', '52182', '1103,85', '370', '564', '562', '5074', '920', '820', '642', '2608', '859', '5594', '3169', '1540', '3108', '4476', '3660', '2500,8', '2028', '3498', '1399,3', '1590', '9871', '48156,13', '2238', '5660', '2848', '1364', '1504', '800,82', '1507', '695,2', '1635', '2770', '1561', '10008', '4980,91', '276', '1408', '736', '1876', '2299,8', '3502', '838', '1887', '9375', '3318', '2098', '625', '6396', '1046', '1535', '4245', '1458', '1275', '23700', '4045', '1422,6', '1201', '7990', '5198', '2515', '517', '0,92', '775', '9824', '306', '1010', '3037', '1124', '1260', '799', '3810', '3333', '54910', '1912', '11425,8', '575,2', '390', '2667', '1759', '9661,66', '5998', '1489', '1522', '787', '1799', '19924', '1233,2', '6240', '10267', '18152', '223', '16500', '4600', '7095', '34492', '446,05', '8300', '7174,87', '1899,8', '2239', '285', '10434', '3899,95', '5631', '7110', '3014', '2007', '353', '1374,88', '1129', '5999,2', '5100', '5890', '10098', '538', '5177', '375,2', '4647', '26802', '894', '383', '1272', '1155', '933', '8008', '2360', '1960', '2520', '5375', '1979', '3414', '1000,89', '747', '3975', '2698', '6257', '3073,8', '1245', '26090', '1520', '1779', '2800', '4395', '1008', '6820,45', '2114', '1694', '39804', '1056', '3538,92', '582', '1937', '4430', '2985', '2358', '12520', '7740', '3212', '2550', '363,5', '3516', '2175', '1780', '3000,92', '1487', '315', '14753', '3138', '1253,7', '9770', '2283', '8082', '2372', '250', '813', '1721', '1952', '2001', '735', '345,3', '2816', '3126', '1216', '9922', '13526', '1890', '2022', '1735', '987', '2668', '1717,92', '2686', '9600', '326', '9325', '527', '764', '360', '19355', '9663', '451', '407', '3416', '381', '2885', '2949,7', '2655', '3795', '540', '1493', '10205,5', '1865', '2653', '50', '1469', '4343', '485,8', '3600', '5700', '1820,94', '17500', '3880', '5450', '251,1', '8923', '1747', '19430', '6075', '3003,3', '7238,86', '1810', '276,6', '720,2', '1584', '9391', '6491', '7020', '2514', '10425', '1596', '2121', '1760', '2470', '2218', '2373', '2201', '868,42', '5250', '3330', '6820', '11044', '7049', '9528', '599', '4986,5', '15140', '5038,1', '9550', '672', '260', '2080', '1069', '685', '1302', '596', '372', '54080', '2000,79', '3357', '934', '3328', '2584', '7034', '1020', '464', '363', '5708', '510', '704', '1815', '5750', '4632', '11548', '9664', '1574,1', '2348,8', '3779', '1888', '1365', '1299', '8328', '5499', '1080', '26000', '16484', '6400', '25131,59', '3078', '2765', '998', '2910', '793', '12144,42', '5562', '1310,62', '1000,1', '723', '2320', '3159', '7300', '2430', '2775', '2528', '3900', '1256', '10557', '10177', '849', '637,4', '1250', '2331', '3426', '10431', '3500', '2610', '658', '5550', '10394,5', '4800', '7000,5', '2998', '3669,6', '4992', '2078', '8390', '33694', '4823', '2240', '283', '9730', '5560', '6534', '2805', '2206', '2797', '1609', '2052', '9040', '2702', '55982', '2046', '1491', '1889', '889', '3717', '2200,91', '2244', '7259', '12910', '4444', '4310', '1065', '2647', '1075', '2419', '16000,1', '2651', '556,2', '6513', '1768', '979', '11292', '14190', '4680', '1238', '3400', '16750', '1410', '247,2', '2180', '1860,9', '656', '5812', '1050,92', '5305', '885', '20595', '10000,1', '3990', '10100', '2017', '3735', '4315', '3277', '2088', '3657', '7447', '4030', '781', '4916', '2271', '2383', '3114', '40100', '2900', '7633', '5950', '2975', '1650', '2323', '650,95', '21000', '2000,4', '7082', '555,2', '8688', '46500', '1785', '6357', '7550', '3901', '1368', '1479', '7747', '3162,71', '7995', '903', '3220', '323', '1141', '3510', '4335', '3055', '1559', '2522', '827', '6844', '1740', '1910', '4828', '850', '921', '1962', '2710', '3650,1', '2034', '3980', '10136', '292,2', '9016', '1457', '4346', '1093,4', '7567', '9480', '4340', '1168', '6290', '4950', '3403', '2384', '698', '2370', '10350', '668,71', '663', '3297', '4095', '3585', '20645', '446,88', '4200', '3935', '2698,93', '1751', '225', '468', '7019', '10700', '11221,5', '5010', '1239', '2517', '2100', '1874,7', '2047', '1180', '765', '2440', '6777', '1884', '13790', '5500', '2660', '437', '687,7', '2564', '27000', '1343', '10981', '373', '792', '2132', '1510', '1340', '4353', '3240', '1950', '3718,2', '5000,91', '1213', '6387', '5690', '14500', '3463', '1249,95', '2530', '49356', '1259', '1745', '48210', '340', '1383', '5245', '2095', '459', '419', '4850,8', '413', '699', '3202', '1016', '1188', '5150', '948', '619', '1178', '2278', '5817', '3902', '830', '2688', '3198', '2825,5', '8688,09', '2000,22', '2635', '1486', '1420', '7528', '2753', '1992', '10152', '1215', '3000', '1961', '18719', '460', '1994', '4900', '21094', '3369', '1610', '5650', '977', '989', '1060', '2248', '51929', '15091', '2625', '2604', '2247', '1371', '2857', '9047', '2596', '2937', '3711', '3209', '2580', '3186', '362', '694', '13500', '2879', '1047,82', '18000', '1949', '9793', '6297', '4268,72', '942', '8099', '21648', '1107', '12335', '1948,92', '1258', '4450', '11689', '2090', '3149', '2213', '480,9', '6196', '1273', '5210', '1872', '3570', '959,3', '515,85', '20890', '5726,3', '589', '6151', '2850', '50642', '1379', '2555', '38000', '450', '5060', '10516', '638', '845', '960', '269,1', '9574', '1555', '4750', '1700,92', '610', '1703', '3568', '2328', '4186,59', '56638', '7964', '4815', '9700', '3575', '5000,87', '893', '1512,1', '1517', '4640', '1248', '2263', '2915', '1366,05', '532', '925', '3039', '550', '638,7', '4536', '2535', '4700', '5248,91', '1501', '319', '1897', '1498', '1158', '10270', '2179', '50120', '1438', '1398', '8450', '4806', '2650', '2485', '5000,1', '2864', '1634', '1640', '2880', '391,2', '984', '3157', '337', '4937', '6127', '1784,81', '8040', '2155', '8650', '6995,92', '14786', '5001,9', '2223', '3787', '5800', '3800', '1351', '772', '542,2', '3159,86', '9418', '1670,69', '3135', '3275', '1987', '10162', '2898', '1519', '10465', '10795', '2414', '1710', '1025', '659', '2599', '740', '1207', '1796,94', '39910', '539,09', '3752', '4510', '555', '6480', '1310', '1639', '7764', '1181', '1100', '1269', '2289', '5373', '7882', '854', '1567', '12100', '1630', '7669', '2776', '8164', '780,3', '2954', '2327', '4587', '3454', '1700,91', '1405', '35000', '29590', '40000', '1549', '3822', '1394', '1339,9', '2310', '4752', '5320', '3976,32', '42906', '1300,92', '2356', '7531', '3950', '3780', '49038', '653', '3596', '29032', '3195', '3110', '6398', '11337', '12999', '524', '4267', '3371', '2210', '2050', '2826', '834', '712', '1013', '626', '8100', '512', '4708', '1392', '5145', '4098', '941', '1230', '4390', '637,3', '1309,65', '3760', '1831', '1115', '2966,2', '18080', '399', '4048', '13126', '4546,8', '54230', '549', '34698,2', '4185', '783', '2587', '573', '2923', '878', '14990,94', '2004', '808', '2398', '4948', '745', '5148', '9039', '2700,75', '1708', '2665', '1940', '3137,9', '1980', '5989', '539', '443', '700,83', '1546', '6217', '4393', '3335', '4360', '1385', '643', '1126', '2532', '1340,92', '16293', '1481', '404,1', '513', '1243', '247', '6832', '2574', '1148', '1651', '6365', '1004,2', '18800', '17110', '7506', '5350', '440', '2044', '4020', '1333', '21500', '28000', '15886', '3216', '2178', '1463', '2685', '14220', '2950', '840', '30660', '3534', '4110', '21900', '8900', '1544', '4498', '643,7', '6900', '34000', '431', '18735', '2547', '410', '832', '1376', '5472', '2280', '1763', '12044', '1975', '31350', '7261', '4053', '1550', '726', '1508', '386', '700', '8750', '1199', '2500,95', '3450', '16070', '21839', '3000,68', '10723', '6228', '10400', '5460', '542', '1051', '2167', '7100', '776', '6948', '1331', '344,8', '1717', '3500,6', '5097', '3658', '541', '1620', '1348', '9096', '2325', '2333', '2199', '4590', '2031', '438', '54870', '1327', '3194', '2067', '63219', '10900', '4280', '2293', '570', '640', '2911', '2286', '5790', '1098', '1306', '10950', '5120', '1814', '5760', '4619', '41774', '420', '458', '1818', '11440', '965,92', '6712', '1001,7', '332', '21750', '3280', '12012', '868', '4287', '2253', '2700', '5900', '962', '1533', '6532', '39487', '5899', '815', '1632', '3774', '3390', '2540', '479,8', '4400', '1956', '15701', '11754', '729,1', '1875', '5192', '2632', '10800', '5244', '953', '857', '10980', '1800', '1455', '2152', '3080', '670', '927', '8710', '634,2', '5075,84', '3270,82', '837,91', '15900', '299,92', '1094', '29860', '1680', '6543', '12300', '1828', '1900', '814,2', '2364', '1363', '5600', '4370', '3100,3', '1087', '3020', '7553', '2454', '695', '6495', '1361', '2600', '159', '8998', '553,6', '1108', '6990', '639', '2999,9', '49582', '1495', '5784', '350', '1500,95', '3000,4', '40664', '515', '44500', '1268', '21696', '9845', '9570', '5814', '6610', '3411', '10051', '2803', '8500', '341,1', '3537', '4739', '6945', '4851', '1281', '2000,6', '5437', '1767', '2200,05', '2981', '5352', '1566', '5246,5', '2347', '2572', '900,2', '35800', '4387', '8117', '1220', '2290', '6138', '3469', '1050', '1430', '3120', '1225', '2300', '9037', '6370', '811', '1837', '3840', '3621,7', '2011', '4712', '4155', '1460', '300', '1739,69', '5580', '485', '17930', '2459', '1895', '4521', '140000', '1034', '1610,4', '432', '1303', '4160', '2887', '4086', '2763', '6603', '739', '15500', '3943', '1958', '2598', '1143', '2437', '3680', '930', '238', '1440', '352', '1674', '1091', '2878', '748', '4210', '3084', '2689', '16350', '457', '2469', '3480', '1957', '1765', '1112', '5847', '650', '9500', '1854', '13670', '3288', '13140', '177', '9444', '3236', '1190', '7142', '4551', '1392,4', '1165', '4194,3', '1106', '4798', '10026', '6625,16', '3597', '1571', '16100', '1598', '32750', '2674', '4000,92', '681,2', '311', '400,2', '9699,69', '7495', '1528', '6325', '676', '3555', '495', '2395', '3300', '12211', '418', '1877', '1287', '1386', '2900,5', '863', '2092,94', '546', '2316', '10015', '9288', '1545', '1800,2', '1800,1', '1930', '2270', '2135', '1116', '8180', '11600', '2926,4', '1246', '9068', '1470', '788', '1380', '5400', '1326', '8274', '393', '500,39', '50500', '197', '1229', '2157', '2568', '13100', '3829,6', '5170', '1132', '1175', '10140', '15939', '4398', '1055', '4040', '8064', '23900', '3294', '518', '8263', '17000', '846', '2614', '6174', '3969', '11000', '7913', '950,92', '5670', '3385', '4199', '1000,67', '1280', '3097,8', '729', '2807', '2000,7', '3100', '249,3', '694,2', '365', '6481,31', '7623,3', '3337', '8816', '60245', '5786', '760', '5050', '346', '7170', '4145', '3710', '5838', '3290', '2952', '4352,37', '5811', '870', '3749,74', '818', '519', '1705,5', '2751', '2222', '9425', '5718', '7464', '2843', '9520', '797', '16668,82', '3960', '1195', '738', '3299', '2567', '5761', '1123', '5045', '5980', '9000', '2205', '1289', '2455', '30303', '1869', '23800', '400', '349', '6500', '13650', '25400', '1722', '774', '7270', '1500,5', '230,3', '1685', '4358', '2399', '1629', '2962,1', '3298', '1012', '30000', '2778', '6789', '1172', '3687,5', '1003', '5979', '388', '1370', '1389,8', '559', '4565', '11080', '629', '1092', '706', '60360', '2204', '4080', '1360,92', '1480', '1534', '3433', '1093', '435', '8', '405', '51127', '2518', '798', '2590', '320', '5130', '1835', '4768', '7547,8', '1497', '369', '7000', '5844', '943', '5200', '936', '899', '6340', '688', '732', '4743', '213', '2024', '18400', '22000', '1036', '4399', '54470', '1786,9', '2482,84', '4817', '465', '7298', '5820', '567,3', '2245', '33590', '6800', '1871,75', '5540', '2605', '2593', '3545', '833', '816', '2754', '1530', '1690', '470', '2861', '5767', '3228', '6000,81', '6554', '4990', '1000,2', '6699', '4567', '2433', '1725', '1597', '1770', '1393', '3264', '652', '973', '644', '1500', '2760', '3670', '3339', '2860', '5033', '3790', '25300', '887', '5985', '1556', '4018', '5387', '756', '3010', '1499', '3006', '1015', '853', '376,21', '905', '24500', '3148', '4650', '2345', '7250', '3698', '824', '771', '1991', '10696', '14640', '8120', '911', '11116', '1581', '1002', '2634', '9250', '8349', '2729', '4320', '3590', '16000', '1850', '4593', '8190', '488', '3050', '48052,1', '14100', '2020', '309', '29500', '1619', '1089', '9108', '2199,95', '13750', '520', '1679', '4000', '561', '1261', '1297', '455', '503', '13400', '290', '2811', '27350', '6837', '2045', '1222', '7586', '12358', '3520', '2315', '2190', '463,2', '5752', '10729', '1999,94', '5504', '2237', '862', '239', '1182', '5521', '6929', '2000,92', '364', '3930', '3413', '2130', '1656', '711', '6550', '1000', '7519', '2680', '6599,8', '5095', '2231', '580', '45000', '3910', '2835', '1572', '2500,2', '2613', '2477', '1600', '2670', '873', '3215', '130', '4318', '1812', '5002', '3023', '1152', '1880,2', '11528', '358,1', '18850', '13807', '3490', '1084', '929', '10750', '1864', '3043', '11673', '293', '1400,1', '728', '1516', '588', '478', '2588', '3408,8', '3086', '6748', '1996', '4184', '912', '8320', '2437,5', '22400', '616', '43359', '1240', '2852', '2499', '7400', '1860', '1845', '7420', '687', '383,2', '5722,21', '3310', '337,1', '7776', '11560', '1251', '10147', '11800', '4300', '4177', '1048', '2508', '1995', '4000,5', '2173', '1356', '3130', '2029', '2125', '258', '3846', '281', '750', '790', '6160', '1147', '758', '60432', '13300', '473', '778', '715', '874', '2586', '3364', '5340', '3740', '799,5', '2749', '13700', '9020', '240,6', '9190', '3874', '2480', '769', '1969', '4944', '490', '3250', '1050,33', '633', '3470', '649', '1704', '2772,13', '956', '2294', '2055', '1876,25', '2798', '1898', '565', '780', '8650,48', '1999', '11020', '2099', '334', '42518', '3318,4', '2935', '19521', '3595', '2740', '4490', '10619', '6923', '229,5', '1689', '2400', '1573', '7836', '3439', '1880', '10397', '9267', '11076', '5999'}\n",
      "\n",
      "\n",
      "==========\n",
      "LOAN_AVG_DLQ_AMT\n",
      "{'530', '1793,66', '1108,96333333333', '14870', '2732,2', '804,32', '1199,27', '2925', '1966,99', '2157,32', '3630', '1489,13', '3237,94', '540', '2524,28', '768,97', '2700', '1144,03', '3637,43', '1077,605', '855', '882,01', '1634,81', '3600', '1411,31', '2326,81', '3880', '438,19', '3390', '1371,86', '2540', '4290', '134,78', '1116,49', '720', '767,7', '1810', '1314,11', '4400', '2549,52', '1830,2', '805,86', '6133,41', '750,175', '2750', '5076,65', '1413,765', '2409,01', '2083', '554,36', '1679,2', '1760', '2470', '2492,54', '1800', '535,53', '3080', '670', '1878,86', '3024', '533', '2060', '3330', '2094,3', '1597,92', '1300', '600,93', '988,85', '7780', '2230', '1094', '1319,56', '2742,25', '596,29', '4115,33333333333', '1680', '6390', '2080', '2585', '1582,435', '1900', '677,474', '1670', '1260,55', '407,8', '2140', '2184,66', '970,155', '818,74', '670,085', '4370', '2916,18', '3020', '1120', '2287,02', '2538', '1007,36', '776,3', '38,32', '2600', '4158,85', '836,6', '2570', '1020', '2262,12', '776,59', '1259,71333333333', '3030', '3018,275', '2410', '510', '1296,4', '3202,2', '2158,72', '809,42', '1110', '3964,85', '1314,58666666667', '890', '1560', '1570', '986,606666666667', '4445,6', '472,11', '658,42', '3180', '1080', '1134,58', '849,91', '0', '3440', '2656,68', '315,796666666667', '574,21', '2490', '763,3', '913,4975', '3283,1', '1959,99', '1098,8', '2261,19', '5850', '1700', '2500', '2910', '2070,52', '1841,9', '6041,86', '1684,04', '1283,89', '3119,99', '1405,53', '1810,155', '1939,61', '1286,73', '3770', '1391,47', '1309,89', '1692,49', '1492,404', '1145,85', '1108,574', '2320', '1953,6', '2430', '3900', '966,07', '1068,47', '2361,22', '3040', '1830', '3201,95', '3140', '497,62', '3102,49333333333', '0,04', '1250', '5075,99', '2406,8', '6310', '1107,5', '2610', '3500', '2009', '1608,255', '1220', '5550', '2290', '1299,55', '1179,86', '1050', '791,98', '1430', '837,48', '3120', '567,51', '1247,92', '800', '2300', '517,51', '4660', '2260', '3620', '1324,41285714286', '2240', '3433,42', '3840', '5560', '816,83', '2258,3', '1949,8', '620', '1066,605', '1460', '300', '5410', '1222,06', '2010', '2340,06777777778', '4376,4', '198,88', '1033', '2961', '2690,33333333333', '3230', '5698,46', '2920', '1922,69', '4001,34', '758,82', '13920', '582,386666666667', '4310', '1792,71', '1424,9175', '1879,28', '1512', '1059,47', '2139,63375', '1141,06', '1007,8', '4160', '2349,51', '2810', '1601,63', '1330', '763,185', '1066,005', '769,43', '875,2', '2699,88', '4680', '3170', '3400', '516,18', '1930,595', '880,2', '1259,1', '1410', '892,95', '2180', '755,063333333333', '656,705', '959,955', '2441,4', '532,24', '930', '3990', '1440', '87,39', '2276,54666666667', '2590,15', '989,39', '1593,76', '1733,88', '4030', '4210', '2237,245', '1147,5', '518,9', '2110', '2900', '3480', '560', '2560', '1650', '1230,63', '650', '4630', '4620', '2676,2125', '605,32', '6490', '1614,36', '568,7', '875,09', '862,43', '1205,4725', '1360', '1344,33', '3768,7', '1663,27', '2720', '1190', '1160,96', '7010', '4770', '2000', '651,16', '714', '1259,39', '4710', '1986,88', '3510', '901,64', '2273,72', '0,71', '1697,22', '2840', '509,52', '1740', '3769,3625', '4729,07', '1910', '1288,898', '552,57', '850', '3060', '2429,09', '2710', '2200', '1197,38333333333', '510,136666666667', '2701,5', '6689,82', '976,68', '957,46', '6070', '673,02', '2088,86', '1002,22', '4530', '980', '4220', '3702,8', '665,57', '324,16', '1004,225', '740,575', '1433,4', '680', '1144,98', '559,94', '1883,04', '1683,49', '1840', '5269,78', '2370', '588,13', '1386,115', '3635,77', '1459,54666666667', '3659,0625', '3300', '1498,26', '1776,96666666667', '770', '4200', '1290', '1259,43', '1270', '367', '975', '598,5', '4550', '1768,07', '6200', '14990', '669,12', '984,79', '1272,72', '1387,15', '1670,18', '1412,55', '1304,0625', '855,675', '2547,85', '1200', '940', '5545,0225', '2365,47', '289,02', '1070,05', '865,05', '3890', '2100', '2510,2', '1930', '599,19', '2270', '726,57', '1180', '1875,70333333333', '499,69', '872,065', '1065,62', '1848,05', '5048,19', '2440', '1139,49', '4250', '1010,55', '3127,19', '2660', '5500', '1090,8', '543,33', '1820', '1182,23', '1470', '2509,38', '2503,19', '2002,45', '2090,53', '1221,92', '1380', '481,506', '2170', '1312,44', '631', '2640', '2005,15', '1160', '1510', '1090', '1340', '2151,50333333333', '3240', '673,89', '1468,38', '4940', '1950', '5170', '4810', '2970', '2425', '2044,155', '2464,55', '880', '965,1', '1171,686', '2959', '2340', '859,92', '2330', '1649,37', '2530', '1639,99', '4070', '1605,95', '1478,49', '367,35', '3762,5', '2476,77', '702,23', '1056,95', '451,495', '478,13', '2858,6', '480', '1626', '957,4', '1069,6', '5510', '425,97', '728,49', '991,19', '1626,75', '3610', '684,89', '1390', '2794,22333333333', '2510', '2386,505', '782,705', '4260', '1429,99', '1321,68833333333', '824,581428571429', '1097,86', '857,956666666667', '2467,33', '1386,96', '1280', '682,56', '1276,66666666667', '860', '3716,35', '3100', '812,693333333333', '769,915', '830', '2186,585', '1258,49', '526,563333333333', '1957,21', '1639,24571428571', '749,82', '845,55', '2293,65', '1420', '760', '702,565', '28012,2', '1730', '1348,68', '1288,7', '433,3425', '3322,7775', '3000', '1781,225', '1751,37', '4827,666', '1266,34', '327,98', '600', '772,73', '840,7', '1152,15', '603,55', '3428,56', '1459,99', '1292,59', '870', '1610', '11310', '446,31', '5650', '1829,73', '1060', '613,12', '605,496', '1196,43', '63,31', '954,65', '1535,89', '3260', '4050', '604,353333333333', '2128,74', '1119,27', '1258,69', '642,31', '3172,83', '2018,255', '3960', '1093,75', '1804,9', '2150', '3150', '3460', '5397,15', '216,59', '7670', '2450', '2250', '948,58', '1135', '2350', '2707,25', '2580', '1410,53333333333', '2980', '789,23', '610,986666666667', '908,78', '2930', '812,11', '400', '588,9', '900', '1441,57', '6500', '1320', '2105', '1215,45777777778', '2220', '1179,394', '1269,82', '2755,21', '310,126', '704,93', '918,255', '2782,89', '2263,2', '2259,35', '4450', '4190', '2090', '856,64', '690', '821,45', '989,15', '1589,92333333333', '1317,06', '3315', '1130', '4472,91333333333', '3570', '2573,8', '2013,19', '1477,37', '651,625', '3777,93333333333', '860,505', '981,71', '2850', '1370', '836,79', '2232,28333333333', '450', '3940', '4565', '1720', '3850', '1778,635', '1745,7', '2630', '960', '5370', '1175,57', '3200', '678,2', '1029,75', '1155,125', '827,57', '610', '553', '1480', '1002,60333333333', '1350', '687,11', '1210', '1030', '2590', '6130', '6260', '929,51', '2466,8625', '950', '444', '2265', '3420', '4640', '2185', '558,06625', '1833,77', '1402,43', '730', '1790', '2059,46', '619,4', '1072,34', '5160', '1399,25', '560,36', '3089,155', '2154,02', '550', '4700', '2629,87', '904,08', '1077,03', '1149,495', '380', '2569,05', '823,54', '1400', '1909,16', '1580', '2269,735', '2202,69', '1154,34', '6660', '2650', '5394,29', '1615', '9280', '2163,94', '779,415', '1127,76', '5040', '1398,58', '1640', '849,19', '910', '2880', '1530', '1155,02142857143', '1690', '724,38', '887,79', '2030', '4760', '778,32', '2380', '1329,54', '1599,9', '2796,66', '1150', '722,59', '3160', '1374,28', '1770', '1851,55', '1426,72', '339,83', '51,8', '990,85', '1500', '2760', '429,11', '3670', '310', '2860', '1070,52', '1033,905', '1789,04', '270', '756,1', '437,26', '2343,41', '94,89', '830,53', '2940', '1920', '1761,03', '3750', '1570,46', '1088,05', '1710', '3070', '2816,25', '3626,91', '430', '1555,00090909091', '1671,7', '1591,94', '1439,94', '3010', '2820', '740', '3086,66666666667', '1717,47333333333', '1102,7', '1113,335', '1015', '1538,69', '630,49', '1070', '1310', '2739,76', '1109,855', '1335,47', '578,06', '3072,475', '1237,24', '1100', '3506,07', '4055,03', '1095,89', '4650', '2070', '766,26', '59,68', '2240,34', '918,55', '543,17', '1490', '1208,09', '1630', '567,16', '3820', '1053', '1563,45', '2830', '2870', '1870', '1516,872', '110,91', '1120,93', '674,263333333333', '1845,5', '4884,95', '4320', '3590', '1850', '2790', '2097,97333333333', '3050', '2310', '3782,39', '2020', '5320', '990', '1040', '1164,99666666667', '2462,1', '1899,7', '2554,005', '1706,3', '1140', '1932,5', '3780', '4000', '1990', '2960', '4164,34', '370', '3110', '3509,22', '1140,2', '920', '820', '560,86', '1539,2', '896,1', '6080', '115,65', '2210', '979,63', '502,1', '1411,835', '2890', '2031,34333333333', '849,085', '1258,585', '2050', '2390', '2990', '1666,28', '3520', '2190', '3209,5', '1264,23', '825,10875', '1540', '3660', '2112,17', '569,121428571429', '1095,61', '3971,6', '3540', '1176,82', '1091,2', '1636,04', '1675,75', '1894,04', '2051,5', '62,46', '1749,69', '4350', '2679,82', '4120', '3509,805', '5110', '1418,86', '1006,59', '1509,44', '366,58', '1138,2', '1283,93', '1529,06', '1892,238', '2130', '1590', '1230', '2119,77', '2247,51', '4390', '791,56', '1359,6', '1000', '2568,45', '586,646666666667', '2680', '3760', '2751,25', '1686,92', '2910,25', '2770', '604,43', '1740,19', '580', '3910', '1200,99', '970', '4140', '1716,52', '1003,255', '1258,95', '1600', '683,9975', '879', '1427,295', '2670', '879,74', '330', '549,88', '8020', '2359,898', '3651,445', '457,71', '2160', '2419,9', '761,866666666667', '433,306666666667', '1149,395', '3870,25', '2779,4', '1170', '2979,31', '2142,2', '3490', '6650', '2201,11', '1867,66166666667', '869,26', '455,32', '1402,92', '699,78', '7340', '1980', '1940', '5830', '1549,18', '1093,22', '1931,44', '5780', '798,53', '1010', '1260', '2239,37', '1713,74', '777,84', '620,75', '5603,82', '3810', '2082,47857142857', '3410', '5526,72666666667', '1798,49', '709,96', '2598,9', '1193,9675', '2702,4', '830,7', '1450', '2269,565', '5430', '1215', '1300,386', '846,55', '1241,32428571429', '859,84', '1731,06', '1288,63', '3970', '355,04', '1942,72', '3190', '892,18', '3589,09', '1880,59', '1313,33333333333', '2701,26', '767,566', '49,35', '1750', '2957,71', '668,53', '1240', '1325,63', '1970', '810', '1352,85714285714', '1388,83769230769', '2120', '3303,2', '2647,9', '3914,24', '896,31', '2379,46', '1831,51333333333', '4600', '1860', '578,3', '269,51', '2368,84', '1889,43', '946,49', '1409,965', '647,42', '682', '4920', '440', '4690', '3310', '1052,63', '5030', '4020', '980,42', '2272,5', '1724,15333333333', '2235,225', '802,36', '4300', '966,953333333333', '894,29', '2178', '5428,62', '957,63', '1539,13', '1581,82', '727,63', '1508,79', '2950', '840', '846,74', '136,76', '1010,27', '758,95', '177,34', '1010,43', '1439,815', '1496,3275', '2372,77', '750', '1960', '2360', '2520', '790', '2101,256', '2989,98', '1373,99333333333', '1817,76', '2066,905', '660', '2280', '4508,2', '1439,9', '1520', '863,68', '2800', '1742,41', '1594,914', '1550', '3959', '5870', '370,77', '5140', '619,73', '700', '2315,64857142857', '806,19', '1985,3', '3360', '2497,09', '1088,48', '500', '2480', '3501,45', '490', '3250', '3470', '673,6825', '1369,755', '7100', '2518,18', '2550', '630', '820,124', '762,93', '2370,01', '1780', '1296,74', '911,793333333333', '648,68', '386,666666666667', '1620', '3691,2675', '1275,785', '9060', '1305,97', '951', '909,424285714286', '780', '3860,18', '3037,58', '821,93', '917,57', '2441,465', '2477,64', '753', '100', '3539,82', '570', '735', '2127,1', '3106,29', '2740', '640', '782,21', '862,5', '1085,5', '224,59', '752,923076923077', '663,05', '4240', '1890', '2084,32', '1677,48', '3279,705', '2040', '2400', '613,21', '5760', '1040,78666666667', '1113,74', '1880', '1844,885', '1552,325', '710', '240', '1920,9575', '5872,64', '360', '18307,16', '796,59', '3530', '957,59'}\n",
      "\n",
      "\n",
      "==========\n",
      "LOAN_MAX_DLQ_AMT\n",
      "{'530', '3285,74', '1793,66', '14870', '2732,2', '804,32', '1199,27', '2157,32', '1966,99', '1056,64', '3630', '1489,13', '3237,94', '540', '2524,28', '768,97', '2700', '1144,03', '3637,43', '3600', '1411,31', '589,45', '1650,53', '3880', '3390', '438,19', '1371,86', '2540', '4290', '1840,14', '134,78', '1116,49', '720', '767,7', '1810', '4400', '2549,52', '997,66', '6133,41', '2750', '5076,65', '2409,01', '2083', '554,36', '1679,2', '1760', '2470', '2492,54', '1800', '883,33', '3080', '670', '535,53', '533', '2060', '3330', '2094,3', '1597,92', '1300', '600,93', '988,85', '2230', '1094', '1319,56', '2742,25', '620,18', '596,29', '1680', '6390', '2080', '3700', '1930,47', '1900', '1670', '581,67', '1260,55', '407,8', '937,6', '2140', '2184,66', '818,74', '4370', '2916,18', '3020', '1120', '2287,02', '776,3', '38,32', '2600', '4158,85', '836,6', '2570', '1020', '2262,12', '3030', '510', '2410', '1296,4', '3202,2', '2158,72', '809,42', '1110', '3964,85', '890', '1560', '1570', '1365', '472,11', '1387,47', '3180', '1080', '1134,58', '658,42', '849,91', '0', '3440', '2656,68', '574,21', '2490', '3283,1', '1959,99', '1098,8', '2261,19', '5850', '1700', '2500', '2910', '1841,9', '1105,07', '6041,86', '2064,03', '1405,53', '1939,61', '3770', '1391,47', '1309,89', '1692,49', '1145,85', '2320', '1953,6', '2430', '3900', '966,07', '1068,47', '2361,22', '3040', '1830', '609,52', '3140', '3201,95', '1519,64', '497,62', '0,04', '1250', '5075,99', '2406,8', '6310', '2610', '3500', '2009', '1220', '5550', '2290', '1299,55', '1179,86', '1050', '791,98', '1430', '837,48', '3120', '567,51', '1247,92', '800', '2300', '828,51', '517,51', '4660', '2260', '3620', '2240', '3840', '3433,42', '5560', '1370,25', '1324,5', '3560', '816,83', '2258,3', '1949,8', '620', '2969,75', '2064,08', '1460', '300', '5410', '1222,06', '572,22', '2010', '5580', '481,51', '1033', '2497', '3230', '5698,46', '2920', '4001,34', '13920', '1059,47', '4310', '1792,71', '1141,06', '1007,8', '4160', '2810', '2349,51', '1601,63', '1330', '769,43', '875,2', '2699,88', '4680', '3170', '3400', '516,18', '880,2', '1259,1', '1410', '892,95', '2180', '1351,06', '2441,4', '930', '3990', '1440', '87,39', '2058,71', '2590,15', '2618,78', '989,39', '1593,76', '1733,88', '4030', '4210', '518,9', '2620', '2110', '2900', '3480', '560', '2560', '1650', '1230,63', '650', '4620', '605,32', '2782,93', '6490', '1614,36', '568,7', '875,09', '862,43', '1360', '1344,33', '3768,7', '1663,27', '2720', '1190', '1160,96', '7010', '4770', '2000', '3220', '651,16', '1259,39', '4710', '1986,88', '3510', '901,64', '1395,7', '0,71', '1697,22', '2840', '1740', '4729,07', '1910', '552,57', '850', '3060', '2429,09', '2710', '2200', '6689,82', '976,68', '6070', '673,02', '2088,86', '1090,01', '4530', '1002,22', '980', '4220', '3702,8', '665,57', '324,16', '961,94', '1433,4', '680', '1144,98', '559,94', '1883,04', '1683,49', '1840', '5269,78', '2370', '588,13', '2589,2', '3635,77', '1086,57', '1498,26', '3300', '770', '4200', '1290', '1259,43', '1270', '367', '975', '598,5', '4550', '1768,07', '6200', '14990', '669,12', '1272,72', '1828,89', '1670,18', '1387,15', '2547,85', '1200', '940', '1070,05', '2365,47', '289,02', '3890', '2100', '2510,2', '1930', '599,19', '2270', '726,57', '1180', '1479,51', '499,69', '1065,62', '1848,05', '5048,19', '2440', '1139,49', '4250', '1010,55', '3127,19', '2660', '5500', '1090,8', '543,33', '1820', '2902,89', '2509,38', '1470', '1221,92', '2503,19', '2002,45', '2090,53', '918,83', '1380', '18310', '2170', '1312,44', '631', '2640', '2005,15', '1160', '1510', '1090', '1340', '673,89', '3240', '1468,38', '4940', '1950', '714', '5170', '2425', '2970', '2642,83', '880', '965,1', '2959', '2340', '859,92', '2330', '331', '1649,37', '2530', '1639,99', '4070', '1478,49', '367,35', '1837,31', '3762,5', '702,23', '1056,95', '478,13', '2858,6', '480', '957,4', '2220,72', '1069,6', '728,49', '1066', '991,19', '1626,75', '3610', '684,89', '1390', '590', '2510', '1429,99', '4260', '1097,86', '2467,33', '1280', '860', '3716,35', '3100', '830', '776,6', '1258,49', '1957,21', '749,82', '2293,65', '1420', '760', '28012,2', '1730', '1348,68', '1288,7', '3000', '1751,37', '1266,34', '327,98', '600', '772,73', '603,55', '1819,09', '3428,56', '1459,99', '1292,59', '870', '840,4', '1610', '11310', '446,31', '5650', '1060', '1196,43', '63,31', '954,65', '4050', '3260', '1119,27', '642,31', '3172,83', '3960', '1093,75', '1804,9', '2150', '3150', '3460', '5397,15', '216,59', '7670', '2450', '2250', '948,58', '2350', '2707,25', '5470', '2580', '2980', '789,23', '908,78', '2930', '812,11', '400', '900', '6500', '1320', '2220', '2755,21', '704,93', '2263,2', '4450', '4190', '2090', '856,64', '690', '989,15', '1317,06', '2013,19', '790,77', '1130', '3570', '2573,8', '1477,37', '981,71', '2850', '2044,32', '1370', '836,79', '450', '3940', '4565', '1720', '3850', '1745,7', '2630', '960', '5370', '1302,38', '1175,57', '3200', '678,2', '1029,75', '827,57', '610', '553', '1480', '1350', '687,11', '1210', '1030', '2590', '6130', '6260', '444', '950', '3111,86', '2265', '3420', '1386,14', '954,34', '4640', '1833,77', '1402,43', '730', '1790', '2059,46', '1489,45', '5160', '560,36', '1452', '2154,02', '550', '4700', '2102,75', '2629,87', '904,08', '1077,03', '660,86', '586,5', '2569,05', '5980,18', '823,54', '1400', '1909,16', '1012,9', '1580', '736,3', '2202,69', '1154,34', '6660', '2650', '1901,3', '5394,29', '490,88', '1615', '9280', '2163,94', '1127,76', '5040', '1398,58', '1640', '849,19', '910', '2880', '1530', '918,28', '1690', '4880', '470', '3920', '724,38', '887,79', '2030', '4760', '778,32', '2380', '1729,66', '1599,9', '2796,66', '1150', '722,59', '3160', '1450,22', '1374,28', '1770', '1851,55', '1426,72', '339,83', '51,8', '990,85', '1500', '2760', '856,3', '429,11', '3670', '310', '2860', '1070,52', '1789,04', '437,26', '270', '756,1', '830,53', '2343,41', '94,89', '2940', '1819,26', '1920', '1761,03', '3750', '1088,05', '1710', '430', '3070', '2816,25', '3626,91', '3780,1', '1671,7', '1591,94', '1439,94', '3010', '2820', '740', '604,76', '1102,7', '1015', '1538,69', '1783,55', '630,49', '943,56', '1070', '1310', '2739,76', '1335,47', '578,06', '1100', '3506,07', '4055,03', '1095,89', '4650', '2070', '766,26', '59,68', '918,55', '543,17', '1490', '1208,09', '1630', '567,16', '3820', '1053', '1563,45', '2830', '2870', '1870', '110,91', '1120,93', '1845,5', '4884,95', '4320', '3590', '1850', '2375,59', '2790', '3050', '2310', '3782,39', '2020', '5320', '990', '1040', '2462,1', '1706,3', '1140', '3018,62', '3780', '4000', '1990', '2960', '4164,34', '370', '3110', '3509,22', '1140,2', '920', '820', '1539,2', '896,1', '6080', '115,65', '2210', '979,63', '1870,69', '2890', '502,1', '2050', '2390', '2990', '1666,28', '3520', '2190', '7890', '2112,17', '1540', '3660', '1095,61', '3971,6', '3540', '1176,82', '1860,72', '1636,04', '1894,04', '2051,5', '62,46', '1749,69', '4350', '2679,82', '4120', '5110', '366,58', '1418,86', '1006,59', '1509,44', '1138,2', '1283,93', '1529,06', '2247,51', '1590', '2130', '1230', '2119,77', '2858,62', '4390', '473,16', '791,56', '1359,6', '1000', '2568,45', '2979,35', '2680', '3760', '2751,25', '1686,92', '2770', '604,43', '1740,19', '580', '3910', '1200,99', '970', '4140', '1716,52', '1600', '879', '2670', '879,74', '330', '783', '549,88', '8020', '457,71', '2160', '2419,9', '755,76', '3870,25', '2779,4', '4446,3', '1170', '2142,2', '3490', '6650', '2201,11', '869,26', '699,78', '5830', '7340', '1980', '1940', '1046,01', '1549,18', '1093,22', '1931,44', '5780', '798,53', '1010', '1260', '2239,37', '1110,39', '777,84', '620,75', '5603,82', '3810', '3410', '1798,49', '2598,9', '2702,4', '830,7', '1450', '5430', '919,88', '846,55', '1731,06', '1288,63', '3970', '355,04', '1942,72', '3190', '892,18', '3589,09', '1880,59', '2701,26', '605,59', '49,35', '1750', '2957,71', '668,53', '1240', '1154,9', '1325,63', '4960', '1970', '810', '2120', '3303,2', '2647,9', '3914,24', '896,31', '2379,46', '4600', '797,16', '1860', '578,3', '269,51', '2368,84', '1889,43', '946,49', '647,42', '682', '4920', '440', '4690', '3310', '1052,63', '5030', '4020', '1387,3', '980,42', '4830', '802,36', '4300', '2178', '894,29', '5428,62', '957,63', '1539,13', '1581,82', '1508,79', '2950', '840', '846,74', '136,76', '1010,27', '758,95', '826,77', '177,34', '1249,61', '1300,16', '2372,77', '750', '1960', '2360', '2520', '2289,89', '790', '2989,98', '1817,76', '660', '2280', '4508,2', '1439,9', '1520', '849,07', '1408,32', '863,68', '2800', '1742,41', '5340', '1550', '3959', '1672,88', '5870', '370,77', '5140', '619,73', '700', '489,13', '806,19', '1185,5', '3450', '1985,3', '3360', '2497,09', '937,79', '500', '2480', '3501,45', '490', '3250', '3470', '910,63', '7100', '776,59', '630', '2518,18', '2550', '762,93', '2281,1', '3089,5', '1780', '1296,74', '648,68', '1620', '9060', '780', '3860,18', '821,93', '917,57', '2477,64', '724,93', '100', '3539,82', '570', '2127,1', '3106,29', '2740', '4490', '640', '1427,4', '862,5', '1085,5', '224,59', '663,05', '4240', '1890', '3357,52', '1677,48', '2084,32', '2040', '2400', '613,21', '5760', '1113,74', '1880', '710', '240', '5872,64', '2398,8', '360', '796,59', '3530', '957,59'}\n",
      "\n",
      "\n",
      "==========\n",
      "sample\n",
      "{'train'}\n",
      "\n",
      "\n"
     ]
    }
   ],
   "source": [
    "for i in df_train.columns: # перебираем все столбцы\n",
    "    if str(df_train[i].dtype) == 'object': # если тип столбца - object\n",
    "        print('='*10)\n",
    "        print(i) # выводим название столбца\n",
    "        print(set(df_train[i])) # выводим все его значения (но делаем set - чтоб значения не повторялись)\n",
    "        print('\\n') # выводим пустую строку"
   ]
  },
  {
   "cell_type": "markdown",
   "metadata": {
    "collapsed": true
   },
   "source": [
    "Mожно заметить что некоторые переменные, которые обозначены как строки (например PERSONAL_INCOME) на самом деле числа, но по какой-то причине были распознаны как строки\n",
    "\n",
    "Причина же что использовалась запятая для разделения не целой части числа.."
   ]
  },
  {
   "cell_type": "markdown",
   "metadata": {},
   "source": [
    "Перекодировать их можно например так:"
   ]
  },
  {
   "cell_type": "code",
   "execution_count": 17,
   "metadata": {},
   "outputs": [
    {
     "data": {
      "text/plain": [
       "0         7000.0\n",
       "1         4100.0\n",
       "2        40000.0\n",
       "3        20000.0\n",
       "4        17000.0\n",
       "5         7000.0\n",
       "6        10000.0\n",
       "7         7500.0\n",
       "8         9000.0\n",
       "9         4000.0\n",
       "10       15000.0\n",
       "11       12000.0\n",
       "12        8000.0\n",
       "13       20000.0\n",
       "14       18500.0\n",
       "15       14000.0\n",
       "16        6000.0\n",
       "17        9000.0\n",
       "18        5000.0\n",
       "19       15000.0\n",
       "20        6100.0\n",
       "21       22180.0\n",
       "22        9000.0\n",
       "23        8700.0\n",
       "24        7000.0\n",
       "25        6000.0\n",
       "26       15000.0\n",
       "27       12000.0\n",
       "28       11000.0\n",
       "29        8000.0\n",
       "          ...   \n",
       "30103    12000.0\n",
       "30104    10000.0\n",
       "30105    10000.0\n",
       "30106     8000.0\n",
       "30107    11000.0\n",
       "30108     7000.0\n",
       "30109    10000.0\n",
       "30110     8000.0\n",
       "30111    25000.0\n",
       "30112    10000.0\n",
       "30113    12000.0\n",
       "30114     7000.0\n",
       "30115    12000.0\n",
       "30116    14500.0\n",
       "30117    12000.0\n",
       "30118     8000.0\n",
       "30119     7000.0\n",
       "30120    10000.0\n",
       "30121    10000.0\n",
       "30122    10000.0\n",
       "30123    15000.0\n",
       "30124     8100.0\n",
       "30125     9500.0\n",
       "30126    13000.0\n",
       "30127    10000.0\n",
       "30128    12000.0\n",
       "30129    10000.0\n",
       "30130     6000.0\n",
       "30131     4500.0\n",
       "30132    20000.0\n",
       "Name: PERSONAL_INCOME, Length: 30133, dtype: float64"
      ]
     },
     "execution_count": 17,
     "metadata": {},
     "output_type": "execute_result"
    }
   ],
   "source": [
    "df['PERSONAL_INCOME'].map(lambda x: x.replace(',', '.')).astype('float')"
   ]
  },
  {
   "cell_type": "markdown",
   "metadata": {},
   "source": [
    "Такой эффект наблюдается в столбцах `PERSONAL_INCOME`, `CREDIT`, `FST_PAYMENT`, `LOAN_AVG_DLQ_AMT`, `LOAN_MAX_DLQ_AMT`"
   ]
  },
  {
   "cell_type": "markdown",
   "metadata": {},
   "source": [
    "### Теперь ваше небольшое исследование"
   ]
  },
  {
   "cell_type": "markdown",
   "metadata": {
    "collapsed": true
   },
   "source": [
    "#### Задание 1. Есть ли пропуски в данных? Что с ними сделать?\n",
    "\n",
    "(единственного верного ответа нет - аргументируйте)"
   ]
  },
  {
   "cell_type": "markdown",
   "metadata": {},
   "source": [
    "Да, пропуски в данных есть:\n",
    "* GEN_INDUSTRY                  27420 non-null object\n",
    "* GEN_TITLE                     27420 non-null object\n",
    "* ORG_TP_STATE                  27420 non-null object\n",
    "* ORG_TP_FCAPITAL               27425 non-null object\n",
    "* JOB_DIR                       27420 non-null object\n",
    "* TP_PROVINCE                   29543 non-null object\n",
    "* REGION_NM                     30131 non-null object\n",
    "* WORK_TIME                     27416 non-null float64\n",
    "* PREVIOUS_CARD_NUM_UTILIZED    600 non-null float64\n",
    "\n",
    "1) Столбец PREVIOUS_CARD_NUM_UTILIZED заполним нулями, так указано в описании имеем: количество уже утилизированных карт ( если пусто - 0)\n",
    "   df['PREVIOUS_CARD_NUM_UTILIZED'] = df['PREVIOUS_CARD_NUM_UTILIZED'].fillna(value=0)\n",
    "\n",
    "2) Одним из важных столбцов является 'TP_PROVINCE', но у нас по нему 590 пропусков. Возможно следует ввести новый столбец с 1, если есть    информация, что человек обращался за кредитом, и 0 если таких данных нет, а столбец 'TP_PROVINCE' удалить\n",
    "\n",
    "3) Столбец REGION_NM  -  поскольку у нас всего два пропущенных значения, можем эти данные заполнить, сопоставив с фактическим адресом проживания в ручную. При большом объеме данных, лучше создать dictionary для сопоставления данных.\n",
    "df[(df['REGION_NM'].isnull())]['FACT_ADDRESS_PROVINCE']  - ЗАПАДНО-СИБИРСКИЙ'\n",
    "\n",
    "4) Столбец GEN_TITLE - При проверке оказалось, что только один работающий человек не указал должность - для него мы воспользуемся значением 'Другое'. Все работающие пенсионеры указали должность, для всех не работающих пенсионеров можно ввести значение - не работает, что фактически будет повторять существующий уже столбец, или использовать значение 'Другое'. (Остановимся на последнем).\n",
    "\n",
    "5) WORK_TIME - для всеx, не указавших эти данные, проставляем 0, предполагая, что это либо не работающие пенисионеры, или человек только начал работать на данном месте работы (фактически, только один работающий не пенсионер не указал WORK_TIME)\n",
    "\n",
    "df[((df['SOCSTATUS_WORK_FL'] == 1) & (df['SOCSTATUS_PENS_FL'] == 0)) & (df['WORK_TIME'].isnull())]\n",
    "\n",
    "4) Остальные колонки с данными о направлении деятельности компании и отношение к иностранному капиталу, на данном этапе можно удалить и попробовать классифицировать без них\n"
   ]
  },
  {
   "cell_type": "code",
   "execution_count": 105,
   "metadata": {},
   "outputs": [
    {
     "data": {
      "text/plain": [
       "3099     Новосибирская область\n",
       "17420    Новосибирская область\n",
       "Name: FACT_ADDRESS_PROVINCE, dtype: object"
      ]
     },
     "execution_count": 105,
     "metadata": {},
     "output_type": "execute_result"
    }
   ],
   "source": [
    "df[(df['REGION_NM'].isnull())]['FACT_ADDRESS_PROVINCE']"
   ]
  },
  {
   "cell_type": "code",
   "execution_count": 110,
   "metadata": {},
   "outputs": [
    {
     "data": {
      "text/html": [
       "<div>\n",
       "<style scoped>\n",
       "    .dataframe tbody tr th:only-of-type {\n",
       "        vertical-align: middle;\n",
       "    }\n",
       "\n",
       "    .dataframe tbody tr th {\n",
       "        vertical-align: top;\n",
       "    }\n",
       "\n",
       "    .dataframe thead th {\n",
       "        text-align: right;\n",
       "    }\n",
       "</style>\n",
       "<table border=\"1\" class=\"dataframe\">\n",
       "  <thead>\n",
       "    <tr style=\"text-align: right;\">\n",
       "      <th></th>\n",
       "      <th>AGREEMENT_RK</th>\n",
       "      <th>TARGET</th>\n",
       "      <th>AGE</th>\n",
       "      <th>SOCSTATUS_WORK_FL</th>\n",
       "      <th>SOCSTATUS_PENS_FL</th>\n",
       "      <th>GENDER</th>\n",
       "      <th>CHILD_TOTAL</th>\n",
       "      <th>DEPENDANTS</th>\n",
       "      <th>EDUCATION</th>\n",
       "      <th>MARITAL_STATUS</th>\n",
       "      <th>...</th>\n",
       "      <th>GEN_PHONE_FL</th>\n",
       "      <th>LOAN_NUM_TOTAL</th>\n",
       "      <th>LOAN_NUM_CLOSED</th>\n",
       "      <th>LOAN_NUM_PAYM</th>\n",
       "      <th>LOAN_DLQ_NUM</th>\n",
       "      <th>LOAN_MAX_DLQ</th>\n",
       "      <th>LOAN_AVG_DLQ_AMT</th>\n",
       "      <th>LOAN_MAX_DLQ_AMT</th>\n",
       "      <th>PREVIOUS_CARD_NUM_UTILIZED</th>\n",
       "      <th>sample</th>\n",
       "    </tr>\n",
       "  </thead>\n",
       "  <tbody>\n",
       "    <tr>\n",
       "      <th>22873</th>\n",
       "      <td>64469089</td>\n",
       "      <td>0</td>\n",
       "      <td>24</td>\n",
       "      <td>1</td>\n",
       "      <td>0</td>\n",
       "      <td>0</td>\n",
       "      <td>0</td>\n",
       "      <td>0</td>\n",
       "      <td>Среднее специальное</td>\n",
       "      <td>Не состоял в браке</td>\n",
       "      <td>...</td>\n",
       "      <td>0</td>\n",
       "      <td>1</td>\n",
       "      <td>0</td>\n",
       "      <td>5</td>\n",
       "      <td>1</td>\n",
       "      <td>1</td>\n",
       "      <td>540</td>\n",
       "      <td>540</td>\n",
       "      <td>NaN</td>\n",
       "      <td>train</td>\n",
       "    </tr>\n",
       "  </tbody>\n",
       "</table>\n",
       "<p>1 rows × 53 columns</p>\n",
       "</div>"
      ],
      "text/plain": [
       "       AGREEMENT_RK  TARGET  AGE  SOCSTATUS_WORK_FL  SOCSTATUS_PENS_FL  \\\n",
       "22873      64469089       0   24                  1                  0   \n",
       "\n",
       "       GENDER  CHILD_TOTAL  DEPENDANTS            EDUCATION  \\\n",
       "22873       0            0           0  Среднее специальное   \n",
       "\n",
       "           MARITAL_STATUS  ...   GEN_PHONE_FL LOAN_NUM_TOTAL LOAN_NUM_CLOSED  \\\n",
       "22873  Не состоял в браке  ...              0              1               0   \n",
       "\n",
       "      LOAN_NUM_PAYM LOAN_DLQ_NUM LOAN_MAX_DLQ LOAN_AVG_DLQ_AMT  \\\n",
       "22873             5            1            1              540   \n",
       "\n",
       "      LOAN_MAX_DLQ_AMT PREVIOUS_CARD_NUM_UTILIZED sample  \n",
       "22873              540                        NaN  train  \n",
       "\n",
       "[1 rows x 53 columns]"
      ]
     },
     "execution_count": 110,
     "metadata": {},
     "output_type": "execute_result"
    }
   ],
   "source": [
    "df[((df['SOCSTATUS_WORK_FL'] == 1) & (df['SOCSTATUS_PENS_FL'] == 0)) & (df['WORK_TIME'].isnull())]"
   ]
  },
  {
   "cell_type": "code",
   "execution_count": 72,
   "metadata": {},
   "outputs": [],
   "source": [
    "# Заполним поле PREVIOUS_CARD_NUM_UTILIZED нулями, т.к. в описании имеем: количество уже утилизированных карт ( если пусто - 0) - используем это в фунции ниже\n",
    "# df['PREVIOUS_CARD_NUM_UTILIZED'] = df['PREVIOUS_CARD_NUM_UTILIZED'].fillna(value=0)"
   ]
  },
  {
   "cell_type": "code",
   "execution_count": 74,
   "metadata": {},
   "outputs": [],
   "source": [
    "# Заполним поле GEN_TITLE - 'Другое' , только один работающий человек не указал должность.Все работающие пенсионеры указали должность. Все, кто не указал должность -  не работающие пенсионеры - к ним может подойти 'Другое', т.к они получают доход \n",
    "# df[(df['SOCSTATUS_WORK_FL'] == 1) & (df['GEN_TITLE'].isnull())]['AGREEMENT_RK'].count() # answer 1 - один работающий человек не указал должность\n",
    "# df[((df['SOCSTATUS_PENS_FL'] == 1) & (df['SOCSTATUS_WORK_FL'] == 1)) &  (df['GEN_TITLE'].isnull())]['AGREEMENT_RK'].count() # answer 0 - Все работающие пенсионеры указали должность. \n",
    "# df[((df['SOCSTATUS_PENS_FL'] == 1) & (df['SOCSTATUS_WORK_FL'] == 0)) &  (df['GEN_TITLE'].isnull()) ] #Все, кто не указал должность -  не работающие пенсионеры - к ним может подойти 'Другое', т.к они получают доход \n",
    "# df['GEN_TITLE'] = df['GEN_TITLE'].fillna(value='Другое')\n",
    "#- используем это в фунции ниже"
   ]
  },
  {
   "cell_type": "code",
   "execution_count": 82,
   "metadata": {},
   "outputs": [
    {
     "data": {
      "text/plain": [
       "590"
      ]
     },
     "execution_count": 82,
     "metadata": {},
     "output_type": "execute_result"
    }
   ],
   "source": [
    "df[df['TP_PROVINCE'].isnull()]['AGREEMENT_RK'].count()"
   ]
  },
  {
   "cell_type": "markdown",
   "metadata": {
    "collapsed": true
   },
   "source": [
    "#### Задание 2. Есть ли категориальные признаки? Что с ними делать?"
   ]
  },
  {
   "cell_type": "markdown",
   "metadata": {},
   "source": [
    "У нас достаточно большое количество столбцов строковых (object), с небольшим количеством уникальных значений:  \n",
    "* EDUCATION\n",
    "* MARITAL_STATUS\n",
    "* GEN_INDUSTRY\n",
    "* GEN_TITLE\n",
    "* ORG_TP_STATE\n",
    "* ORG_TP_FCAPITAL\n",
    "* JOB_DIR\n",
    "* All Addresses \n",
    "* TP_PROVINCE \n",
    "* REGION_NM\n",
    "* FAMILY_INCOME\n",
    "С некоторыми из полей необходимо поработать, а потом можно категоризовать, используя dummy-кодирование или используя простейший кодировщик, который каждой категории сопоставляет целое число. Можно попробовать оба метода и сопоставить результаты. Другие же столбцы при первой попытке попробуем удалить и поработать без них."
   ]
  },
  {
   "cell_type": "markdown",
   "metadata": {},
   "source": [
    "#### Задание 3. Фунция предобработки"
   ]
  },
  {
   "cell_type": "markdown",
   "metadata": {},
   "source": [
    "Напишите функцию, которая бы\n",
    "\n",
    "* Удаляло идентификатор `AGREEMENT_RK`\n",
    "* Избавлялась от проблем с '.' и ',' в стобцах PERSONAL_INCOME, CREDIT, FST_PAYMENT, LOAN_AVG_DLQ_AMT, LOAN_MAX_DLQ_AMT\n",
    "* Что-то делала с пропусками\n",
    "* Кодировала категориальные признаки\n",
    "\n",
    "В результате, ваш датафрейм должен содержать только числа и не содержать пропусков!"
   ]
  },
  {
   "cell_type": "code",
   "execution_count": 18,
   "metadata": {},
   "outputs": [],
   "source": [
    "def preproc_data(df_input):\n",
    "    df_output = df_input.copy()\n",
    "    \n",
    "    # delete identifier \n",
    "    df_output = df_output.drop(['AGREEMENT_RK'], axis = 1)\n",
    "    \n",
    "    # work with columns which should be float not an object\n",
    "    df_output['PERSONAL_INCOME'] = df['PERSONAL_INCOME'].map(lambda x: x.replace(',', '.')).astype('float')\n",
    "    df_output['CREDIT'] = df['CREDIT'].map(lambda x: x.replace(',', '.')).astype('float')\n",
    "    df_output['FST_PAYMENT'] = df['FST_PAYMENT'].map(lambda x: x.replace(',', '.')).astype('float')\n",
    "    df_output['LOAN_AVG_DLQ_AMT'] = df['LOAN_AVG_DLQ_AMT'].map(lambda x: x.replace(',', '.')).astype('float')\n",
    "    df_output['LOAN_MAX_DLQ_AMT'] = df['LOAN_MAX_DLQ_AMT'].map(lambda x: x.replace(',', '.')).astype('float')\n",
    "    \n",
    "    # fill PREVIOUS_CARD_NUM_UTILIZED with zeros where applicable\n",
    "    df_output['PREVIOUS_CARD_NUM_UTILIZED'] = df_output['PREVIOUS_CARD_NUM_UTILIZED'].fillna(value=0)\n",
    "    \n",
    "    # cheking if client had previous credit history\n",
    "    df_output['IS_CREDIT'] = df_output['TP_PROVINCE'].apply(lambda x: int(0) if pd.isnull(x) else int(1) )\n",
    "    \n",
    "    #drop column TP_PROVINCE\n",
    "    df_output = df_output.drop(['TP_PROVINCE'], axis = 1)\n",
    "    \n",
    "    # column REGION_NM two nan values, was checked manually, will add values \n",
    "    df_output['REGION_NM'] =  df_output['REGION_NM'].fillna('ЗАПАДНО-СИБИРСКИЙ')\n",
    "    \n",
    "    # column GEN_TITLE, as we talked previously\n",
    "    df_output['GEN_TITLE'] =  df_output['GEN_TITLE'].fillna('Другое')\n",
    "    \n",
    "    # column WORK_TIME\n",
    "    df_output['WORK_TIME'] =  df_output['WORK_TIME'].fillna(0)\n",
    "    \n",
    "    # drop all other columns with nan\n",
    "    df_output = df_output.drop(['GEN_INDUSTRY'], axis = 1)\n",
    "    df_output = df_output.drop(['ORG_TP_STATE'], axis = 1)\n",
    "    df_output = df_output.drop(['ORG_TP_FCAPITAL'], axis = 1)\n",
    "    df_output = df_output.drop(['JOB_DIR'], axis = 1)\n",
    "    \n",
    "    # going to leave just fact address, because we have columns \n",
    "    # which provide us information about equality of those addresses\n",
    "    df_output = df_output.drop(['POSTAL_ADDRESS_PROVINCE'], axis = 1)\n",
    "    df_output = df_output.drop(['REG_ADDRESS_PROVINCE'], axis = 1)\n",
    "    df_output = pd.get_dummies(df_output, columns=['EDUCATION',\n",
    "'MARITAL_STATUS',\n",
    "'GEN_TITLE',\n",
    "'FAMILY_INCOME',\n",
    "'FACT_ADDRESS_PROVINCE',\n",
    "'REGION_NM'])\n",
    "    \n",
    "    return df_output"
   ]
  },
  {
   "cell_type": "code",
   "execution_count": 19,
   "metadata": {},
   "outputs": [
    {
     "name": "stdout",
     "output_type": "stream",
     "text": [
      "<class 'pandas.core.frame.DataFrame'>\n",
      "RangeIndex: 30133 entries, 0 to 30132\n",
      "Columns: 163 entries, TARGET to REGION_NM_ЮЖНЫЙ\n",
      "dtypes: float64(7), int64(32), object(1), uint8(123)\n",
      "memory usage: 12.6+ MB\n"
     ]
    }
   ],
   "source": [
    "df_output = preproc_data(df)\n",
    "df_output.info()"
   ]
  },
  {
   "cell_type": "code",
   "execution_count": 20,
   "metadata": {},
   "outputs": [],
   "source": [
    "df_preproc = df.pipe(preproc_data)\n",
    "\n",
    "df_train_preproc = df_preproc.query('sample == \"train\"').drop(['sample'], axis=1)\n",
    "df_test_preproc = df_preproc.query('sample == \"test\"').drop(['sample'], axis=1)"
   ]
  },
  {
   "cell_type": "markdown",
   "metadata": {},
   "source": [
    "#### Задание 4. Отделите целевую переменную и остальные признаки\n",
    "\n",
    "Должно получится:\n",
    "* 2 матрицы: X и X_test\n",
    "* 2 вектора: y и y_test"
   ]
  },
  {
   "cell_type": "code",
   "execution_count": 21,
   "metadata": {},
   "outputs": [],
   "source": [
    "X = df_train_preproc .drop(['TARGET'], axis=1)\n",
    "X_test = df_test_preproc.drop(['TARGET'], axis=1)\n",
    "\n",
    "y = df_train_preproc['TARGET']\n",
    "y_test = df_test_preproc['TARGET']"
   ]
  },
  {
   "cell_type": "markdown",
   "metadata": {},
   "source": [
    "#### Задание 5. Обучение и оценка качества разных моделей"
   ]
  },
  {
   "cell_type": "code",
   "execution_count": 25,
   "metadata": {},
   "outputs": [
    {
     "name": "stderr",
     "output_type": "stream",
     "text": [
      "c:\\program files (x86)\\python36-32\\lib\\site-packages\\sklearn\\cross_validation.py:41: DeprecationWarning: This module was deprecated in version 0.18 in favor of the model_selection module into which all the refactored classes and functions are moved. Also note that the interface of the new CV iterators are different from that of this module. This module will be removed in 0.20.\n",
      "  \"This module will be removed in 0.20.\", DeprecationWarning)\n"
     ]
    }
   ],
   "source": [
    "from sklearn.cross_validation import train_test_split\n",
    "# test_size=0.3, random_state=42\n",
    "X_train, X_train_test, y_train, y_train_test = train_test_split(X, y, test_size=0.3, random_state=42)\n"
   ]
  },
  {
   "cell_type": "code",
   "execution_count": 59,
   "metadata": {},
   "outputs": [],
   "source": [
    "# Попробовать следующие \"черные ящики\": интерфейс одинаковый \n",
    "#     fit, \n",
    "#     predict, \n",
    "#     predict_proba\n",
    "\n",
    "from sklearn.tree import DecisionTreeClassifier\n",
    "from sklearn.ensemble import RandomForestClassifier\n",
    "from sklearn.linear_model import LogisticRegression\n",
    "\n",
    "dtc = DecisionTreeClassifier()\n",
    "dtc.fit(X_train, y_train)\n",
    "dtc_predict = dtc.predict(X_train_test)\n",
    "dtc_predict_proba = dtc.predict_proba(X_train_test)\n",
    "\n",
    "rfc = RandomForestClassifier()\n",
    "rfc.fit(X_train, y_train)\n",
    "rfc_predict = rfc.predict(X_train_test)\n",
    "rfc_predict_proba = rfc.predict_proba(X_train_test)\n",
    "\n",
    "lr = LogisticRegression()\n",
    "lr.fit(X_train, y_train)\n",
    "lr_predict= lr.predict(X_train_test)\n",
    "lr_predict_proba = lr.predict_proba(X_train_test)\n",
    "    "
   ]
  },
  {
   "cell_type": "code",
   "execution_count": 60,
   "metadata": {},
   "outputs": [
    {
     "data": {
      "text/plain": [
       "0.8780380994088023"
      ]
     },
     "execution_count": 60,
     "metadata": {},
     "output_type": "execute_result"
    }
   ],
   "source": [
    "# test/ check\n",
    "from sklearn.metrics import accuracy_score\n",
    "accuracy_score(y_train_test,lr_predict)"
   ]
  },
  {
   "cell_type": "code",
   "execution_count": 57,
   "metadata": {},
   "outputs": [
    {
     "data": {
      "text/plain": [
       "array([[1. , 0. ],\n",
       "       [0.6, 0.4],\n",
       "       [0.8, 0.2],\n",
       "       ...,\n",
       "       [0.9, 0.1],\n",
       "       [1. , 0. ],\n",
       "       [0.9, 0.1]])"
      ]
     },
     "execution_count": 57,
     "metadata": {},
     "output_type": "execute_result"
    }
   ],
   "source": [
    "rfc_predict_proba\n"
   ]
  },
  {
   "cell_type": "code",
   "execution_count": 61,
   "metadata": {},
   "outputs": [
    {
     "name": "stdout",
     "output_type": "stream",
     "text": [
      "For DecisionTreeClassifier:\n",
      "precision 0.1726078799249531\n",
      "recall 0.16576576576576577\n",
      "accuracy 0.8020582439238012\n",
      "\n",
      "\n",
      "For RandomForestClassifier:\n",
      "precision 0.2\n",
      "recall 0.007207207207207207\n",
      "accuracy 0.875848478213269\n",
      "\n",
      "\n",
      "For LogisticRegression:\n",
      "precision 0.3333333333333333\n",
      "recall 0.0036036036036036037\n",
      "accuracy 0.8780380994088023\n",
      "\n",
      "\n"
     ]
    }
   ],
   "source": [
    "# Посчитать метрики стандартные\n",
    "# accuracy, precision, recall\n",
    "\n",
    "from sklearn.metrics import accuracy_score, precision_score, recall_score\n",
    "\n",
    "print('For DecisionTreeClassifier:')\n",
    "print('precision', precision_score(y_train_test, dtc_predict))\n",
    "print('recall', recall_score(y_train_test, dtc_predict))\n",
    "print('accuracy', accuracy_score(y_train_test, dtc_predict))\n",
    "print('\\n')\n",
    "\n",
    "print('For RandomForestClassifier:')\n",
    "print('precision', precision_score(y_train_test, rfc_predict))\n",
    "print('recall', recall_score(y_train_test, rfc_predict))\n",
    "print('accuracy', accuracy_score(y_train_test, rfc_predict))\n",
    "print('\\n')\n",
    "\n",
    "print('For LogisticRegression:')\n",
    "print('precision', precision_score(y_train_test, lr_predict))\n",
    "print('recall', recall_score(y_train_test, lr_predict))\n",
    "print('accuracy', accuracy_score(y_train_test, lr_predict))\n",
    "print('\\n')\n"
   ]
  },
  {
   "cell_type": "code",
   "execution_count": 62,
   "metadata": {},
   "outputs": [
    {
     "data": {
      "text/plain": [
       "<matplotlib.axes._subplots.AxesSubplot at 0x134248b0>"
      ]
     },
     "execution_count": 62,
     "metadata": {},
     "output_type": "execute_result"
    },
    {
     "data": {
      "image/png": "[encoded data removed]",
      "text/plain": [
       "<Figure size 720x720 with 1 Axes>"
      ]
     },
     "metadata": {},
     "output_type": "display_data"
    }
   ],
   "source": [
    "# Визуалищировать эти метрики всех моделей на одном графике (чтоб визуально посмотреть)\n",
    "statDataFrame = pd.DataFrame(data={\n",
    "    'Model': [\n",
    "        'DecisionTreeClassifier', 'RandomForestClassifier', 'LogisticRegression'\n",
    "    ], \n",
    "    'Accuracy': [\n",
    "        accuracy_score(y_train_test, dtc_predict),\n",
    "        accuracy_score(y_train_test, rfc_predict),\n",
    "        accuracy_score(y_train_test, lr_predict)\n",
    "    ], \n",
    "    'Precision': [\n",
    "        precision_score(y_train_test, dtc_predict),\n",
    "        precision_score(y_train_test, rfc_predict),\n",
    "        precision_score(y_train_test, lr_predict)\n",
    "    ], \n",
    "    'Recall': [\n",
    "        recall_score(y_train_test, dtc_predict),\n",
    "        recall_score(y_train_test, rfc_predict),\n",
    "        recall_score(y_train_test, lr_predict)\n",
    "    ]})\n",
    "\n",
    "fig, ax = plt.subplots(figsize=(10,10))\n",
    "statDataFrame.pivot_table(statDataFrame, index=['Model']).plot(kind='bar', stacked=False, ax=ax)\n"
   ]
  },
  {
   "cell_type": "code",
   "execution_count": 66,
   "metadata": {},
   "outputs": [
    {
     "name": "stdout",
     "output_type": "stream",
     "text": [
      "DecisionTreeClassifier 0.5279227632418062\n",
      "RandomForestClassifier 0.6095162710067994\n",
      "LogisticRegression 0.6363234620462935\n"
     ]
    },
    {
     "data": {
      "image/png": "[encoded data removed]",
      "text/plain": [
       "<Figure size 720x720 with 1 Axes>"
      ]
     },
     "metadata": {},
     "output_type": "display_data"
    }
   ],
   "source": [
    "# Потроить roc-кривые всех моделей на одном графике\n",
    "# Вывести roc_auc каждой моделе\n",
    "from sklearn.metrics import roc_auc_score, roc_curve\n",
    "fpr, tpr, thresholds = roc_curve(y_train_test, dtc_predict_proba[:,1])\n",
    "fpr1, tpr1, thresholds1 = roc_curve(y_train_test, rfc_predict_proba[:,1])\n",
    "fpr2, tpr2, thresholds2 = roc_curve(y_train_test, lr_predict_proba[:,1])\n",
    "plt.figure(figsize=(10, 10))\n",
    "plt.plot(fpr, tpr)\n",
    "plt.plot(fpr1, tpr1)\n",
    "plt.plot(fpr2, tpr2)\n",
    "plt.plot([0, 1], [0, 1])\n",
    "plt.ylabel('tpr')\n",
    "plt.xlabel('fpr')\n",
    "plt.grid(True)\n",
    "plt.title('ROC curve')\n",
    "plt.xlim((-0.01, 1.01))\n",
    "plt.ylim((-0.01, 1.01))\n",
    "\n",
    "\n",
    "print('DecisionTreeClassifier', roc_auc_score(y_train_test, dtc_predict_proba[:,1]))\n",
    "print('RandomForestClassifier', roc_auc_score(y_train_test, rfc_predict_proba[:,1]))\n",
    "print('LogisticRegression', roc_auc_score(y_train_test, lr_predict_proba[:,1]))"
   ]
  },
  {
   "cell_type": "code",
   "execution_count": 80,
   "metadata": {},
   "outputs": [
    {
     "name": "stdout",
     "output_type": "stream",
     "text": [
      "DecisionTreeClassifier roc_auc: 0.5247959476387931\n"
     ]
    }
   ],
   "source": [
    "from sklearn.cross_validation import cross_val_score\n",
    "from sklearn.model_selection import StratifiedKFold\n",
    "\n",
    "# Сделать k-fold (10 фолдов) кросс-валидацию каждой модели\n",
    "# И посчитать средний roc_auc\n",
    "cv = StratifiedKFold(n_splits=10, shuffle=True, random_state=123).split(X_train, y_train)\n",
    "\n",
    "#DecisionTree\n",
    "dtc_roc_auc = cross_val_score(\n",
    "    dtc,\n",
    "    X_train, \n",
    "    y_train,\n",
    "    scoring='roc_auc',\n",
    "    cv=cv\n",
    ").mean()\n",
    "\n",
    "print('DecisionTreeClassifier roc_auc:',  dtc_roc_auc)\n"
   ]
  },
  {
   "cell_type": "code",
   "execution_count": 82,
   "metadata": {},
   "outputs": [
    {
     "name": "stdout",
     "output_type": "stream",
     "text": [
      "RandomForestClassifier roc_auc: 0.603436383852705\n"
     ]
    }
   ],
   "source": [
    "#RandomForestClassifier \n",
    "cv = StratifiedKFold(n_splits=10, shuffle=True, random_state=123).split(X_train, y_train)\n",
    "rfc_roc_auc = cross_val_score(\n",
    "    rfc,\n",
    "    X_train, \n",
    "    y_train,\n",
    "    scoring='roc_auc',\n",
    "    cv=cv\n",
    ").mean()\n",
    "\n",
    "print('RandomForestClassifier roc_auc:',  rfc_roc_auc)"
   ]
  },
  {
   "cell_type": "code",
   "execution_count": 83,
   "metadata": {},
   "outputs": [
    {
     "name": "stdout",
     "output_type": "stream",
     "text": [
      "LogisticRegression  roc_auc: 0.6293612932121844\n"
     ]
    }
   ],
   "source": [
    "#LogisticRegression  \n",
    "cv = StratifiedKFold(n_splits=10, shuffle=True, random_state=123).split(X_train, y_train)\n",
    "lr_roc_auc = cross_val_score(\n",
    "    lr,\n",
    "    X_train, \n",
    "    y_train,\n",
    "    scoring='roc_auc',\n",
    "    cv=cv\n",
    ").mean()\n",
    "\n",
    "print('LogisticRegression  roc_auc:',  lr_roc_auc)"
   ]
  },
  {
   "cell_type": "code",
   "execution_count": 85,
   "metadata": {},
   "outputs": [
    {
     "name": "stderr",
     "output_type": "stream",
     "text": [
      "c:\\program files (x86)\\python36-32\\lib\\site-packages\\sklearn\\linear_model\\base.py:340: RuntimeWarning: overflow encountered in exp\n",
      "  np.exp(prob, prob)\n"
     ]
    }
   ],
   "source": [
    "# Взять лучшую модель и сделать predict (с вероятностями (!!!)) для test выборки\n",
    "\n",
    "classifier_lr = LogisticRegression()\n",
    "classifier_lr.fit(X, y)\n",
    "classifierPredictProba = classifier_lr.predict_proba(X_test)"
   ]
  },
  {
   "cell_type": "code",
   "execution_count": 87,
   "metadata": {},
   "outputs": [
    {
     "data": {
      "text/plain": [
       "0.624737299174989"
      ]
     },
     "execution_count": 87,
     "metadata": {},
     "output_type": "execute_result"
    }
   ],
   "source": [
    "# Померить roc_auc на тесте\n",
    "roc_auc_score(y_test, classifierPredictProba[:,1])"
   ]
  },
  {
   "cell_type": "code",
   "execution_count": 88,
   "metadata": {},
   "outputs": [
    {
     "data": {
      "text/plain": [
       "(-0.01, 1.01)"
      ]
     },
     "execution_count": 88,
     "metadata": {},
     "output_type": "execute_result"
    },
    {
     "data": {
      "image/png": "[encoded data removed]",
      "text/plain": [
       "<Figure size 720x720 with 1 Axes>"
      ]
     },
     "metadata": {},
     "output_type": "display_data"
    }
   ],
   "source": [
    "fpr, tpr, thresholds = roc_curve(y_test, classifierPredictProba[:,1])\n",
    "\n",
    "plt.figure(figsize=(10, 10))\n",
    "plt.plot(fpr, tpr)\n",
    "plt.plot([0, 1], [0, 1])\n",
    "plt.ylabel('tpr')\n",
    "plt.xlabel('fpr')\n",
    "plt.grid(True)\n",
    "plt.title('ROC curve')\n",
    "plt.xlim((-0.01, 1.01))\n",
    "plt.ylim((-0.01, 1.01))"
   ]
  }
 ],
 "metadata": {
  "anaconda-cloud": {},
  "kernelspec": {
   "display_name": "Python 3",
   "language": "python",
   "name": "python3"
  },
  "language_info": {
   "codemirror_mode": {
    "name": "ipython",
    "version": 3
   },
   "file_extension": ".py",
   "mimetype": "text/x-python",
   "name": "python",
   "nbconvert_exporter": "python",
   "pygments_lexer": "ipython3",
   "version": "3.6.5"
  },
  "toc": {
   "colors": {
    "hover_highlight": "#DAA520",
    "navigate_num": "#000000",
    "navigate_text": "#333333",
    "running_highlight": "#FF0000",
    "selected_highlight": "#FFD700",
    "sidebar_border": "#EEEEEE",
    "wrapper_background": "#FFFFFF"
   },
   "moveMenuLeft": true,
   "nav_menu": {
    "height": "31px",
    "width": "253px"
   },
   "navigate_menu": true,
   "number_sections": false,
   "sideBar": true,
   "threshold": 4,
   "toc_cell": false,
   "toc_section_display": "block",
   "toc_window_display": false,
   "widenNotebook": false
  }
 },
 "nbformat": 4,
 "nbformat_minor": 2
}
